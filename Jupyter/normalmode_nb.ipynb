{
 "cells": [
  {
   "cell_type": "code",
   "execution_count": 1,
   "metadata": {},
   "outputs": [],
   "source": [
    "# coding: utf-8\n",
    "from sympy import *\n",
    "from sympy.abc import psi,phi,eta\n",
    "\n",
    "init_printing()\n",
    "f,ck,c = symbols('f ck c', real=True)\n",
    "sigma, kappa = symbols(r'\\sigma \\kappa', real=True)\n",
    "kx, ky, kh =  symbols('k_x k_y k_h', real=True)\n",
    "u,v =  symbols('u v')\n",
    "\n",
    "def subsigma(M):\n",
    "    M = M.subs(f**2 + ck**2,  sigma**2)\n",
    "    M = M.subs(f**2 + c**2*kappa**2, sigma**2)\n",
    "    return M\n",
    "    \n",
    "def simplifysigma(M):\n",
    "    M = M.subs(sigma, sqrt(f**2 + ck**2) )\n",
    "    M = simplify(M)\n",
    "    return subsigma(M)\n",
    "    \n",
    "def subkappa(M):\n",
    "    M = M.subs(kx**2 + ky**2,  kappa**2)\n",
    "    M = M.subs(kh*kh.conjugate(), kappa**2)\n",
    "    M = M.subs(kx*kx.conjugate() + ky*ky.conjugate(), kappa**2)\n",
    "    return M\n",
    "\n",
    "def simplifykappa(M):\n",
    "    M = M.subs(kappa, sqrt(kx**2 + ky**2))\n",
    "    M = M.subs(kh, sqrt(kx**2 + ky**2))\n",
    "    M = simplify(M)\n",
    "    return subkappa(M)\n",
    "    \n",
    "def subck(M):\n",
    "    return M.subs(ck,c*kappa)"
   ]
  },
  {
   "cell_type": "code",
   "execution_count": 2,
   "metadata": {},
   "outputs": [
    {
     "name": "stdout",
     "output_type": "stream",
     "text": [
      "Eigenvectors: \n"
     ]
    }
   ],
   "source": [
    "A = Matrix(( [0, 1j*f,0],[-1j*f, 0, -1j*ck],[0,1j*ck,0]))\n",
    "L = A.eigenvals()\n",
    "X = A.eigenvects()\n",
    "print('Eigenvectors: ')"
   ]
  },
  {
   "cell_type": "code",
   "execution_count": 3,
   "metadata": {},
   "outputs": [
    {
     "data": {
      "image/png": "[encoded data removed]",
      "text/latex": [
       "$$\\left ( \\left[\\begin{matrix}0 & 1.0 i f & 0\\\\- 1.0 i f & 0 & - 1.0 i ck\\\\0 & 1.0 i ck & 0\\end{matrix}\\right], \\quad \\left [ \\left ( 0, \\quad 1, \\quad \\left [ \\left[\\begin{matrix}- \\frac{ck}{f}\\\\0\\\\1.0\\end{matrix}\\right]\\right ]\\right ), \\quad \\left ( - \\left(ck^{2} + f^{2}\\right)^{0.5}, \\quad 1, \\quad \\left [ \\left[\\begin{matrix}\\frac{f}{ck}\\\\\\frac{i}{ck} \\left(ck^{2} + f^{2}\\right)^{0.5}\\\\1.0\\end{matrix}\\right]\\right ]\\right ), \\quad \\left ( \\left(ck^{2} + f^{2}\\right)^{0.5}, \\quad 1, \\quad \\left [ \\left[\\begin{matrix}\\frac{f}{ck}\\\\- \\frac{i}{ck} \\left(ck^{2} + f^{2}\\right)^{0.5}\\\\1.0\\end{matrix}\\right]\\right ]\\right )\\right ]\\right )$$"
      ],
      "text/plain": [
       "⎛                                 ⎡                  ⎛           0.5          \n",
       "⎜                                 ⎢⎛      ⎡⎡-ck ⎤⎤⎞  ⎜ ⎛  2    2⎞        ⎡⎡   \n",
       "⎜⎡   0      1.0⋅ⅈ⋅f       0    ⎤, ⎢⎜0, 1, ⎢⎢────⎥⎥⎟, ⎜-⎝ck  + f ⎠   , 1, ⎢⎢   \n",
       "⎜⎢                             ⎥  ⎢⎜      ⎢⎢ f  ⎥⎥⎟  ⎜                   ⎢⎢   \n",
       "⎜⎢-1.0⋅ⅈ⋅f     0      -1.0⋅ⅈ⋅ck⎥  ⎢⎜      ⎢⎢    ⎥⎥⎟  ⎜                   ⎢⎢   \n",
       "⎜⎢                             ⎥  ⎢⎜      ⎢⎢ 0  ⎥⎥⎟  ⎜                   ⎢⎢   \n",
       "⎜⎣   0      1.0⋅ⅈ⋅ck      0    ⎦  ⎢⎜      ⎢⎢    ⎥⎥⎟  ⎜                   ⎢⎢  ⎛\n",
       "⎜                                 ⎢⎝      ⎣⎣1.0 ⎦⎦⎠  ⎜                   ⎢⎢ⅈ⋅⎝\n",
       "⎜                                 ⎢                  ⎜                   ⎢⎢───\n",
       "⎜                                 ⎢                  ⎜                   ⎢⎢   \n",
       "⎜                                 ⎢                  ⎜                   ⎢⎢   \n",
       "⎝                                 ⎣                  ⎝                   ⎣⎣   \n",
       "\n",
       "              ⎞  ⎛          0.5                          ⎞⎤⎞\n",
       "   f        ⎤⎤⎟  ⎜⎛  2    2⎞        ⎡⎡       f         ⎤⎤⎟⎥⎟\n",
       "   ──       ⎥⎥⎟, ⎜⎝ck  + f ⎠   , 1, ⎢⎢       ──        ⎥⎥⎟⎥⎟\n",
       "   ck       ⎥⎥⎟  ⎜                  ⎢⎢       ck        ⎥⎥⎟⎥⎟\n",
       "            ⎥⎥⎟  ⎜                  ⎢⎢                 ⎥⎥⎟⎥⎟\n",
       "         0.5⎥⎥⎟  ⎜                  ⎢⎢             0.5 ⎥⎥⎟⎥⎟\n",
       "  2    2⎞   ⎥⎥⎟  ⎜                  ⎢⎢   ⎛  2    2⎞    ⎥⎥⎟⎥⎟\n",
       "ck  + f ⎠   ⎥⎥⎟  ⎜                  ⎢⎢-ⅈ⋅⎝ck  + f ⎠    ⎥⎥⎟⎥⎟\n",
       "────────────⎥⎥⎟  ⎜                  ⎢⎢─────────────────⎥⎥⎟⎥⎟\n",
       "    ck      ⎥⎥⎟  ⎜                  ⎢⎢        ck       ⎥⎥⎟⎥⎟\n",
       "            ⎥⎥⎟  ⎜                  ⎢⎢                 ⎥⎥⎟⎥⎟\n",
       "   1.0      ⎦⎦⎠  ⎝                  ⎣⎣       1.0       ⎦⎦⎠⎦⎠"
      ]
     },
     "execution_count": 3,
     "metadata": {},
     "output_type": "execute_result"
    }
   ],
   "source": [
    "A,X\n"
   ]
  },
  {
   "cell_type": "code",
   "execution_count": 4,
   "metadata": {},
   "outputs": [
    {
     "data": {
      "image/png": "[encoded data removed]",
      "text/latex": [
       "$$\\left \\{ 0 : 1, \\quad - \\sqrt{ck^{2} + f^{2}} : 1, \\quad \\sqrt{ck^{2} + f^{2}} : 1\\right \\}$$"
      ],
      "text/plain": [
       "⎧          __________        __________   ⎫\n",
       "⎨         ╱   2    2        ╱   2    2    ⎬\n",
       "⎩0: 1, -╲╱  ck  + f  : 1, ╲╱  ck  + f  : 1⎭"
      ]
     },
     "execution_count": 4,
     "metadata": {},
     "output_type": "execute_result"
    }
   ],
   "source": [
    "A.eigenvals()"
   ]
  },
  {
   "cell_type": "code",
   "execution_count": 5,
   "metadata": {},
   "outputs": [
    {
     "name": "stdout",
     "output_type": "stream",
     "text": [
      "Identity matrix:\n"
     ]
    }
   ],
   "source": [
    "XX = A.diagonalize()[0]\n",
    "XX = subsigma(XX)\n",
    "sig = sqrt(f**2 + ck**2)\n",
    "\n",
    "NORM = eye(3)\n",
    "NORM[0,0] = f/sig\n",
    "NORM[1,1] = ck/(sig*sqrt(2))\n",
    "NORM[2,2] = ck/(sig*sqrt(2))\n",
    "XN = subsigma(XX*NORM)\n",
    "\n",
    "#CONJ = eye(3)\n",
    "#CONJ[1,1] = -1\n",
    "#XNCT = (CONJ*XN).transpose()\n",
    "XNCT = XN.conjugate().transpose()\n",
    "#XNCT = subsigma(XNCT)\n",
    " \n",
    "#------------Check-----------#\n",
    "ID = simplifysigma(XN*XNCT)\n",
    "print 'Identity matrix:'"
   ]
  },
  {
   "cell_type": "code",
   "execution_count": 6,
   "metadata": {
    "scrolled": true
   },
   "outputs": [
    {
     "data": {
      "image/png": "[encoded data removed]",
      "text/latex": [
       "$$\\left[\\begin{matrix}1 & 0 & 0\\\\0 & 1 & 0\\\\0 & 0 & 1.0\\end{matrix}\\right]$$"
      ],
      "text/plain": [
       "⎡1  0   0 ⎤\n",
       "⎢         ⎥\n",
       "⎢0  1   0 ⎥\n",
       "⎢         ⎥\n",
       "⎣0  0  1.0⎦"
      ]
     },
     "execution_count": 6,
     "metadata": {},
     "output_type": "execute_result"
    }
   ],
   "source": [
    "ID"
   ]
  },
  {
   "cell_type": "code",
   "execution_count": 7,
   "metadata": {},
   "outputs": [
    {
     "name": "stdout",
     "output_type": "stream",
     "text": [
      "Norm. Eigenvector matrix Xn:\n"
     ]
    }
   ],
   "source": [
    "print 'Norm. Eigenvector matrix Xn:'"
   ]
  },
  {
   "cell_type": "code",
   "execution_count": 8,
   "metadata": {
    "scrolled": false
   },
   "outputs": [
    {
     "data": {
      "image/png": "[encoded data removed]",
      "text/latex": [
       "$$\\left[\\begin{matrix}- \\frac{ck}{\\left\\lvert{\\sigma}\\right\\rvert} & \\frac{\\sqrt{2} f}{2 \\left\\lvert{\\sigma}\\right\\rvert} & \\frac{\\sqrt{2} f}{2 \\left\\lvert{\\sigma}\\right\\rvert}\\\\0 & \\frac{\\sqrt{2} i}{2} & - \\frac{\\sqrt{2} i}{2}\\\\\\frac{1.0 f}{\\left\\lvert{\\sigma}\\right\\rvert} & \\frac{0.5 ck}{\\left\\lvert{\\sigma}\\right\\rvert} \\sqrt{2} & \\frac{0.5 ck}{\\left\\lvert{\\sigma}\\right\\rvert} \\sqrt{2}\\end{matrix}\\right]$$"
      ],
      "text/plain": [
       "⎡              ___           ___     ⎤\n",
       "⎢  -ck       ╲╱ 2 ⋅f       ╲╱ 2 ⋅f   ⎥\n",
       "⎢────────   ──────────    ────────── ⎥\n",
       "⎢│\\sigma│   2⋅│\\sigma│    2⋅│\\sigma│ ⎥\n",
       "⎢                                    ⎥\n",
       "⎢              ___           ___     ⎥\n",
       "⎢            ╲╱ 2 ⋅ⅈ      -╲╱ 2 ⋅ⅈ   ⎥\n",
       "⎢   0        ───────      ─────────  ⎥\n",
       "⎢               2             2      ⎥\n",
       "⎢                                    ⎥\n",
       "⎢                ___           ___   ⎥\n",
       "⎢ 1.0⋅f    0.5⋅╲╱ 2 ⋅ck  0.5⋅╲╱ 2 ⋅ck⎥\n",
       "⎢────────  ────────────  ────────────⎥\n",
       "⎣│\\sigma│    │\\sigma│      │\\sigma│  ⎦"
      ]
     },
     "execution_count": 8,
     "metadata": {},
     "output_type": "execute_result"
    }
   ],
   "source": [
    "XN"
   ]
  },
  {
   "cell_type": "code",
   "execution_count": 9,
   "metadata": {
    "collapsed": true
   },
   "outputs": [],
   "source": [
    "W = Matrix( [psi, -phi, c*eta/kappa] ) * kappa ** 2\n",
    "U = Matrix( [u,v,eta] )\n",
    "P = Matrix(( [-1j*ky, 1j*kx, 0],[1j*kx,1j*ky,0],[0,0,kappa] ))\n",
    "\n",
    "Pinv = simplifykappa(P.inv())\n",
    "XNCTinv = simplifysigma(XNCT.inv())\n",
    "\n",
    "Q = Pinv*(XNCTinv)\n",
    "Q = simplifysigma(Q)\n",
    "Q = simplifykappa(Q)\n",
    "Q = subck(Q)"
   ]
  },
  {
   "cell_type": "code",
   "execution_count": 10,
   "metadata": {},
   "outputs": [
    {
     "name": "stdout",
     "output_type": "stream",
     "text": [
      "inversion:\n"
     ]
    },
    {
     "data": {
      "image/png": "[encoded data removed]",
      "text/latex": [
       "$$\\left[\\begin{matrix}\\frac{1.0 i}{\\kappa^{2}} k_{y} & - \\frac{1.0 i}{\\kappa^{2}} k_{x} & 0\\\\- \\frac{1.0 i}{\\kappa^{2}} k_{x} & - \\frac{1.0 i}{\\kappa^{2}} k_{y} & 0\\\\0 & 0 & \\frac{1}{\\left\\lvert{\\kappa}\\right\\rvert}\\end{matrix}\\right]$$"
      ],
      "text/plain": [
       "⎡1.0⋅ⅈ⋅k_y   -1.0⋅ⅈ⋅kₓ            ⎤\n",
       "⎢─────────   ──────────      0    ⎥\n",
       "⎢       2           2             ⎥\n",
       "⎢ \\kappa      \\kappa              ⎥\n",
       "⎢                                 ⎥\n",
       "⎢-1.0⋅ⅈ⋅kₓ   -1.0⋅ⅈ⋅k_y           ⎥\n",
       "⎢──────────  ───────────     0    ⎥\n",
       "⎢       2            2            ⎥\n",
       "⎢ \\kappa       \\kappa             ⎥\n",
       "⎢                                 ⎥\n",
       "⎢                            1    ⎥\n",
       "⎢    0            0       ────────⎥\n",
       "⎣                         │\\kappa│⎦"
      ]
     },
     "execution_count": 10,
     "metadata": {},
     "output_type": "execute_result"
    }
   ],
   "source": [
    "print 'inversion:'; Pinv"
   ]
  },
  {
   "cell_type": "code",
   "execution_count": 11,
   "metadata": {
    "scrolled": false
   },
   "outputs": [
    {
     "data": {
      "image/png": "[encoded data removed]",
      "text/latex": [
       "$$\\left ( \\left[\\begin{matrix}u\\\\v\\\\\\eta\\end{matrix}\\right], \\quad \\left[\\begin{matrix}- \\frac{1.0 i c k_{y}}{\\kappa \\left\\lvert{\\sigma}\\right\\rvert} & \\frac{0.5 \\sqrt{2}}{\\kappa^{2} \\left\\lvert{\\sigma}\\right\\rvert} \\left(i f k_{y} + k_{x} \\left\\lvert{\\sigma}\\right\\rvert\\right) & \\frac{\\sqrt{2}}{\\kappa^{2} \\left\\lvert{\\sigma}\\right\\rvert} \\left(0.5 i f k_{y} - 0.5 k_{x} \\left\\lvert{\\sigma}\\right\\rvert\\right)\\\\\\frac{1.0 i c k_{x}}{\\kappa \\left\\lvert{\\sigma}\\right\\rvert} & \\frac{\\sqrt{2}}{\\kappa^{2} \\left\\lvert{\\sigma}\\right\\rvert} \\left(- 0.5 i f k_{x} + 0.5 k_{y} \\left\\lvert{\\sigma}\\right\\rvert\\right) & - \\frac{0.5 \\sqrt{2}}{\\kappa^{2} \\left\\lvert{\\sigma}\\right\\rvert} \\left(i f k_{x} + k_{y} \\left\\lvert{\\sigma}\\right\\rvert\\right)\\\\\\frac{1.0 f}{\\left\\lvert{\\kappa}\\right\\rvert \\left\\lvert{\\sigma}\\right\\rvert} & \\frac{0.5 \\sqrt{2} \\kappa c}{\\left\\lvert{\\kappa}\\right\\rvert \\left\\lvert{\\sigma}\\right\\rvert} & \\frac{0.5 \\sqrt{2} \\kappa c}{\\left\\lvert{\\kappa}\\right\\rvert \\left\\lvert{\\sigma}\\right\\rvert}\\end{matrix}\\right], \\quad \\left[\\begin{matrix}\\kappa^{2} \\psi\\\\- \\kappa^{2} \\phi\\\\\\kappa c \\eta\\end{matrix}\\right]\\right )$$"
      ],
      "text/plain": [
       "⎛     ⎡                             ___                                ___    \n",
       "⎜     ⎢  -1.0⋅ⅈ⋅c⋅k_y         0.5⋅╲╱ 2 ⋅(ⅈ⋅f⋅k_y + kₓ⋅│\\sigma│)      ╲╱ 2 ⋅(0.\n",
       "⎜⎡u⎤, ⎢ ───────────────       ─────────────────────────────────      ─────────\n",
       "⎜⎢ ⎥  ⎢ \\kappa⋅│\\sigma│                      2                                \n",
       "⎜⎢v⎥  ⎢                                \\kappa ⋅│\\sigma│                       \n",
       "⎜⎢ ⎥  ⎢                                                                       \n",
       "⎜⎣η⎦  ⎢                     ___                                               \n",
       "⎜     ⎢    1.0⋅ⅈ⋅c⋅kₓ     ╲╱ 2 ⋅(-- -0.5⋅ⅈ⋅f⋅kₓ + 0.5⋅k_y⋅│\\sigma│)    -0.5⋅╲╱\n",
       "⎜     ⎢ ───────────────   ─────────────────────────────────────────    ───────\n",
       "⎜     ⎢ \\kappa⋅│\\sigma│                      2                                \n",
       "⎜     ⎢                                \\kappa ⋅│\\sigma│                       \n",
       "⎜     ⎢                                                                       \n",
       "⎜     ⎢                                    ___                                \n",
       "⎜     ⎢      1.0⋅f                   0.5⋅╲╱ 2 ⋅\\kappa⋅c                       \n",
       "⎜     ⎢─────────────────             ──────────────────                       \n",
       "⎝     ⎣│\\kappa│⋅│\\sigma│             │\\kappa│⋅│\\sigma│                        \n",
       "\n",
       "                               ⎤              ⎞\n",
       "5⋅ⅈ⋅f⋅k_y - - -0.5⋅kₓ⋅│\\sigma│)⎥  ⎡      2   ⎤⎟\n",
       "───────────────────────────────⎥, ⎢\\kappa ⋅ψ ⎥⎟\n",
       "         2                     ⎥  ⎢          ⎥⎟\n",
       "   \\kappa ⋅│\\sigma│            ⎥  ⎢       2  ⎥⎟\n",
       "                               ⎥  ⎢-\\kappa ⋅φ⎥⎟\n",
       "___                            ⎥  ⎢          ⎥⎟\n",
       " 2 ⋅(ⅈ⋅f⋅kₓ + k_y⋅│\\sigma│)    ⎥  ⎣\\kappa⋅c⋅η⎦⎟\n",
       "────────────────────────────   ⎥              ⎟\n",
       "         2                     ⎥              ⎟\n",
       "   \\kappa ⋅│\\sigma│            ⎥              ⎟\n",
       "                               ⎥              ⎟\n",
       "        ___                    ⎥              ⎟\n",
       "  0.5⋅╲╱ 2 ⋅\\kappa⋅c           ⎥              ⎟\n",
       "  ──────────────────           ⎥              ⎟\n",
       "  │\\kappa│⋅│\\sigma│            ⎦              ⎠"
      ]
     },
     "execution_count": 11,
     "metadata": {},
     "output_type": "execute_result"
    }
   ],
   "source": [
    "U,Q,W"
   ]
  },
  {
   "cell_type": "code",
   "execution_count": 12,
   "metadata": {
    "collapsed": true
   },
   "outputs": [],
   "source": [
    "NORM = eye(3)\n",
    "NORM[2,2] = c\n",
    "U = NORM*U\n",
    "#Q = NORM*Q\n",
    "#W = NORM*W"
   ]
  },
  {
   "cell_type": "code",
   "execution_count": 13,
   "metadata": {},
   "outputs": [
    {
     "data": {
      "image/png": "[encoded data removed]",
      "text/latex": [
       "$$\\left ( \\left[\\begin{matrix}u\\\\v\\\\c \\eta\\end{matrix}\\right], \\quad \\left[\\begin{matrix}- \\frac{1.0 i c k_{y}}{\\kappa \\left\\lvert{\\sigma}\\right\\rvert} & \\frac{0.5 \\sqrt{2}}{\\kappa^{2} \\left\\lvert{\\sigma}\\right\\rvert} \\left(i f k_{y} + k_{x} \\left\\lvert{\\sigma}\\right\\rvert\\right) & \\frac{\\sqrt{2}}{\\kappa^{2} \\left\\lvert{\\sigma}\\right\\rvert} \\left(0.5 i f k_{y} - 0.5 k_{x} \\left\\lvert{\\sigma}\\right\\rvert\\right)\\\\\\frac{1.0 i c k_{x}}{\\kappa \\left\\lvert{\\sigma}\\right\\rvert} & \\frac{\\sqrt{2}}{\\kappa^{2} \\left\\lvert{\\sigma}\\right\\rvert} \\left(- 0.5 i f k_{x} + 0.5 k_{y} \\left\\lvert{\\sigma}\\right\\rvert\\right) & - \\frac{0.5 \\sqrt{2}}{\\kappa^{2} \\left\\lvert{\\sigma}\\right\\rvert} \\left(i f k_{x} + k_{y} \\left\\lvert{\\sigma}\\right\\rvert\\right)\\\\\\frac{1.0 c f}{\\left\\lvert{\\kappa}\\right\\rvert \\left\\lvert{\\sigma}\\right\\rvert} & \\frac{0.5 \\sqrt{2} \\kappa c^{2}}{\\left\\lvert{\\kappa}\\right\\rvert \\left\\lvert{\\sigma}\\right\\rvert} & \\frac{0.5 \\sqrt{2} \\kappa c^{2}}{\\left\\lvert{\\kappa}\\right\\rvert \\left\\lvert{\\sigma}\\right\\rvert}\\end{matrix}\\right], \\quad \\left[\\begin{matrix}\\kappa^{2} \\psi\\\\- \\kappa^{2} \\phi\\\\\\kappa c \\eta\\end{matrix}\\right]\\right )$$"
      ],
      "text/plain": [
       "⎛       ⎡                             ___                                ___  \n",
       "⎜       ⎢  -1.0⋅ⅈ⋅c⋅k_y         0.5⋅╲╱ 2 ⋅(ⅈ⋅f⋅k_y + kₓ⋅│\\sigma│)      ╲╱ 2 ⋅(\n",
       "⎜⎡ u ⎤, ⎢ ───────────────       ─────────────────────────────────      ───────\n",
       "⎜⎢   ⎥  ⎢ \\kappa⋅│\\sigma│                      2                              \n",
       "⎜⎢ v ⎥  ⎢                                \\kappa ⋅│\\sigma│                     \n",
       "⎜⎢   ⎥  ⎢                                                                     \n",
       "⎜⎣c⋅η⎦  ⎢                     ___                                             \n",
       "⎜       ⎢    1.0⋅ⅈ⋅c⋅kₓ     ╲╱ 2 ⋅(-- -0.5⋅ⅈ⋅f⋅kₓ + 0.5⋅k_y⋅│\\sigma│)    -0.5⋅\n",
       "⎜       ⎢ ───────────────   ─────────────────────────────────────────    ─────\n",
       "⎜       ⎢ \\kappa⋅│\\sigma│                      2                              \n",
       "⎜       ⎢                                \\kappa ⋅│\\sigma│                     \n",
       "⎜       ⎢                                                                     \n",
       "⎜       ⎢                                    ___         2                    \n",
       "⎜       ⎢     1.0⋅c⋅f                  0.5⋅╲╱ 2 ⋅\\kappa⋅c                     \n",
       "⎜       ⎢─────────────────             ───────────────────                    \n",
       "⎝       ⎣│\\kappa│⋅│\\sigma│              │\\kappa│⋅│\\sigma│                     \n",
       "\n",
       "                                 ⎤              ⎞\n",
       "0.5⋅ⅈ⋅f⋅k_y - - -0.5⋅kₓ⋅│\\sigma│)⎥  ⎡      2   ⎤⎟\n",
       "─────────────────────────────────⎥, ⎢\\kappa ⋅ψ ⎥⎟\n",
       "           2                     ⎥  ⎢          ⎥⎟\n",
       "     \\kappa ⋅│\\sigma│            ⎥  ⎢       2  ⎥⎟\n",
       "                                 ⎥  ⎢-\\kappa ⋅φ⎥⎟\n",
       "  ___                            ⎥  ⎢          ⎥⎟\n",
       "╲╱ 2 ⋅(ⅈ⋅f⋅kₓ + k_y⋅│\\sigma│)    ⎥  ⎣\\kappa⋅c⋅η⎦⎟\n",
       "──────────────────────────────   ⎥              ⎟\n",
       "           2                     ⎥              ⎟\n",
       "     \\kappa ⋅│\\sigma│            ⎥              ⎟\n",
       "                                 ⎥              ⎟\n",
       "         ___         2           ⎥              ⎟\n",
       "   0.5⋅╲╱ 2 ⋅\\kappa⋅c            ⎥              ⎟\n",
       "   ───────────────────           ⎥              ⎟\n",
       "    │\\kappa│⋅│\\sigma│            ⎦              ⎠"
      ]
     },
     "execution_count": 13,
     "metadata": {},
     "output_type": "execute_result"
    }
   ],
   "source": [
    "U, Q, W"
   ]
  },
  {
   "cell_type": "code",
   "execution_count": 14,
   "metadata": {},
   "outputs": [],
   "source": [
    "#RHS BB*\n",
    "N = XNCT*W\n",
    "B = expand(subck(N / kappa))\n",
    "B = simplifysigma(B)"
   ]
  },
  {
   "cell_type": "code",
   "execution_count": 15,
   "metadata": {
    "collapsed": true
   },
   "outputs": [],
   "source": [
    "collect_list = [psi*psi.conjugate(), eta*eta.conjugate(), phi*phi.conjugate(),\n",
    "                psi*phi.conjugate(), psi*eta.conjugate(),\n",
    "                phi*psi.conjugate(), phi*eta.conjugate(),\n",
    "                eta*psi.conjugate(), eta*phi.conjugate()]"
   ]
  },
  {
   "cell_type": "code",
   "execution_count": 16,
   "metadata": {
    "scrolled": true
   },
   "outputs": [
    {
     "data": {
      "image/png": "[encoded data removed]",
      "text/latex": [
       "$$\\frac{1}{\\sigma^{2}} \\left(\\kappa^{2} \\sigma^{2} \\phi \\overline{\\phi} + \\eta \\left(\\kappa^{2} c^{4} + 1.0 c^{2} f^{2}\\right) \\overline{\\eta} + \\psi \\left(\\kappa^{4} c^{2} + \\kappa^{2} f^{2}\\right) \\overline{\\psi}\\right)$$"
      ],
      "text/plain": [
       "      2       2   _     ⎛      2  4        2  2⎞ _     ⎛      4  2         2  \n",
       "\\kappa ⋅\\sigma ⋅φ⋅φ + η⋅⎝\\kappa ⋅c  + 1.0⋅c ⋅f ⎠⋅η + ψ⋅⎝\\kappa ⋅c  + \\kappa ⋅f\n",
       "──────────────────────────────────────────────────────────────────────────────\n",
       "                                           2                                  \n",
       "                                     \\sigma                                   \n",
       "\n",
       "2⎞ _\n",
       " ⎠⋅ψ\n",
       "────\n",
       "    \n",
       "    "
      ]
     },
     "execution_count": 16,
     "metadata": {},
     "output_type": "execute_result"
    }
   ],
   "source": [
    "BB2 = subck(simplifykappa(expand(B.conjugate().dot(B))))\n",
    "collect(BB2,collect_list)"
   ]
  },
  {
   "cell_type": "code",
   "execution_count": 29,
   "metadata": {},
   "outputs": [
    {
     "data": {
      "image/png": "[encoded data removed]",
      "text/latex": [
       "$$\\kappa^{2} \\phi \\overline{\\phi} + \\kappa^{2} \\psi \\overline{\\psi} + c^{2} \\eta \\overline{\\eta}$$"
      ],
      "text/plain": [
       "      2   _         2   _    2   _\n",
       "\\kappa ⋅φ⋅φ + \\kappa ⋅ψ⋅ψ + c ⋅η⋅η"
      ]
     },
     "execution_count": 29,
     "metadata": {},
     "output_type": "execute_result"
    }
   ],
   "source": [
    "kappa**2 * psi*psi.conjugate() + kappa**2 * phi*phi.conjugate() + c**2 * eta*eta.conjugate()"
   ]
  },
  {
   "cell_type": "code",
   "execution_count": 17,
   "metadata": {
    "scrolled": false
   },
   "outputs": [
    {
     "data": {
      "image/png": "[encoded data removed]",
      "text/latex": [
       "$$\\left[\\begin{matrix}c^{2} \\eta \\overline{\\eta} + u \\overline{u} + v \\overline{v}\\end{matrix}\\right]$$"
      ],
      "text/plain": [
       "⎡ 2   _     _     _⎤\n",
       "⎣c ⋅η⋅η + u⋅u + v⋅v⎦"
      ]
     },
     "execution_count": 17,
     "metadata": {},
     "output_type": "execute_result"
    }
   ],
   "source": [
    "#LHS uu*\n",
    "U.transpose().conjugate()*U"
   ]
  },
  {
   "cell_type": "code",
   "execution_count": 18,
   "metadata": {},
   "outputs": [
    {
     "data": {
      "image/png": "[encoded data removed]",
      "text/latex": [
       "$$\\left[\\begin{matrix}\\frac{1.0 c^{2}}{\\kappa^{2} \\sigma^{2}} \\left(- \\kappa^{2} + f^{2}\\right) & \\frac{0.5 \\sqrt{2} c f}{\\sigma^{2} \\left\\lvert{\\kappa}\\right\\rvert} \\left(c^{2} + 1\\right) & \\frac{0.5 \\sqrt{2} c f}{\\sigma^{2} \\left\\lvert{\\kappa}\\right\\rvert} \\left(c^{2} + 1\\right)\\\\\\frac{0.5 \\sqrt{2} c f}{\\sigma^{2} \\left\\lvert{\\kappa}\\right\\rvert} \\left(c^{2} + 1\\right) & \\frac{1}{\\kappa^{2} \\sigma^{2}} \\left(0.5 \\sigma^{2} + 0.5 c^{4} k_{x}^{2} + 0.5 c^{4} k_{y}^{2} - 0.5 f^{2}\\right) & \\frac{1}{\\kappa^{2} \\sigma^{2}} \\left(- 0.5 \\sigma^{2} + 0.5 c^{4} k_{x}^{2} + 0.5 c^{4} k_{y}^{2} - 0.5 f^{2}\\right)\\\\\\frac{0.5 \\sqrt{2} c f}{\\sigma^{2} \\left\\lvert{\\kappa}\\right\\rvert} \\left(c^{2} + 1\\right) & \\frac{1}{\\kappa^{2} \\sigma^{2}} \\left(- 0.5 \\sigma^{2} + 0.5 c^{4} k_{x}^{2} + 0.5 c^{4} k_{y}^{2} - 0.5 f^{2}\\right) & \\frac{1}{\\kappa^{2} \\sigma^{2}} \\left(0.5 \\sigma^{2} + 0.5 c^{4} k_{x}^{2} + 0.5 c^{4} k_{y}^{2} - 0.5 f^{2}\\right)\\end{matrix}\\right]$$"
      ],
      "text/plain": [
       "⎡     2 ⎛        2    2⎞                           ___     ⎛ 2    ⎞           \n",
       "⎢1.0⋅c ⋅⎝- \\kappa  + f ⎠                     0.5⋅╲╱ 2 ⋅c⋅f⋅⎝c  + 1⎠           \n",
       "⎢───────────────────────                     ──────────────────────           \n",
       "⎢          2       2                                  2                       \n",
       "⎢    \\kappa ⋅\\sigma                             \\sigma ⋅│\\kappa│              \n",
       "⎢                                                                             \n",
       "⎢      ___     ⎛ 2    ⎞         ⎛          2        4   2        4    2       \n",
       "⎢0.5⋅╲╱ 2 ⋅c⋅f⋅⎝c  + 1⎠     1.0⋅⎝0.5⋅\\sigma  + 0.5⋅c ⋅kₓ  + 0.5⋅c ⋅k_y  - - -0\n",
       "⎢──────────────────────     ──────────────────────────────────────────────────\n",
       "⎢         2                                           2       2               \n",
       "⎢   \\sigma ⋅│\\kappa│                            \\kappa ⋅\\sigma                \n",
       "⎢                                                                             \n",
       "⎢      ___     ⎛ 2    ⎞       ⎛               2        4   2        4    2    \n",
       "⎢0.5⋅╲╱ 2 ⋅c⋅f⋅⎝c  + 1⎠   1.0⋅⎝- - -0.5⋅\\sigma  + 0.5⋅c ⋅kₓ  + 0.5⋅c ⋅k_y  - -\n",
       "⎢──────────────────────   ────────────────────────────────────────────────────\n",
       "⎢         2                                            2       2              \n",
       "⎣   \\sigma ⋅│\\kappa│                             \\kappa ⋅\\sigma               \n",
       "\n",
       "                                    ___     ⎛ 2    ⎞                    ⎤\n",
       "                              0.5⋅╲╱ 2 ⋅c⋅f⋅⎝c  + 1⎠                    ⎥\n",
       "                              ──────────────────────                    ⎥\n",
       "                                       2                                ⎥\n",
       "                                 \\sigma ⋅│\\kappa│                       ⎥\n",
       "                                                                        ⎥\n",
       "    2⎞         ⎛               2        4   2        4    2           2⎞⎥\n",
       ".5⋅f ⎠     1.0⋅⎝- - -0.5⋅\\sigma  + 0.5⋅c ⋅kₓ  + 0.5⋅c ⋅k_y  - - -0.5⋅f ⎠⎥\n",
       "──────     ─────────────────────────────────────────────────────────────⎥\n",
       "                                        2       2                       ⎥\n",
       "                                  \\kappa ⋅\\sigma                        ⎥\n",
       "                                                                        ⎥\n",
       "       2⎞        ⎛          2        4   2        4    2           2⎞   ⎥\n",
       " -0.5⋅f ⎠    1.0⋅⎝0.5⋅\\sigma  + 0.5⋅c ⋅kₓ  + 0.5⋅c ⋅k_y  - - -0.5⋅f ⎠   ⎥\n",
       "─────────    ────────────────────────────────────────────────────────   ⎥\n",
       "                                       2       2                        ⎥\n",
       "                                 \\kappa ⋅\\sigma                         ⎦"
      ]
     },
     "execution_count": 18,
     "metadata": {},
     "output_type": "execute_result"
    }
   ],
   "source": [
    "simplifykappa(Q.transpose()*Q)"
   ]
  },
  {
   "cell_type": "code",
   "execution_count": 19,
   "metadata": {},
   "outputs": [],
   "source": [
    "#U=[Q]W\n",
    "QW = Q*W"
   ]
  },
  {
   "cell_type": "code",
   "execution_count": 20,
   "metadata": {
    "scrolled": false
   },
   "outputs": [
    {
     "data": {
      "image/png": "[encoded data removed]",
      "text/latex": [
       "$$\\frac{1}{\\kappa^{2} \\sigma^{2}} \\left(0.5 \\kappa^{4} \\sigma^{2} \\phi \\overline{\\phi} + \\kappa^{2} \\left(0.5 \\kappa^{4} c^{4} \\phi \\overline{\\phi} + 0.5 \\kappa^{2} c^{6} \\eta \\overline{\\eta} - 0.5 \\kappa^{2} c^{5} \\eta \\overline{\\phi} \\left\\lvert{\\kappa}\\right\\rvert - 0.5 \\kappa^{2} c^{5} \\phi \\overline{\\eta} \\left\\lvert{\\kappa}\\right\\rvert + 0.5 \\sqrt{2} \\kappa^{2} c^{4} \\eta f \\overline{\\psi} + 0.5 \\sqrt{2} \\kappa^{2} c^{4} f \\psi \\overline{\\eta} - 0.5 \\sqrt{2} \\kappa^{2} c^{3} f \\phi \\overline{\\psi} \\left\\lvert{\\kappa}\\right\\rvert - 0.5 \\sqrt{2} \\kappa^{2} c^{3} f \\psi \\overline{\\phi} \\left\\lvert{\\kappa}\\right\\rvert + 1.0 \\kappa^{2} c^{2} f^{2} \\psi \\overline{\\psi} + 1.0 \\kappa^{2} c^{2} k_{x}^{2} \\psi \\overline{\\psi} + 1.0 \\kappa^{2} c^{2} k_{y}^{2} \\psi \\overline{\\psi} - 0.5 \\sqrt{2} c^{2} \\eta f k_{x}^{2} \\overline{\\psi} - 0.5 \\sqrt{2} c^{2} \\eta f k_{y}^{2} \\overline{\\psi} - 0.5 \\sqrt{2} c^{2} f k_{x}^{2} \\psi \\overline{\\eta} - 0.5 \\sqrt{2} c^{2} f k_{y}^{2} \\psi \\overline{\\eta} + 0.5 c f k_{x}^{2} \\phi \\sqrt{2 k_{x}^{2} + 2 k_{y}^{2}} \\overline{\\psi} + 0.5 c f k_{x}^{2} \\psi \\sqrt{2 k_{x}^{2} + 2 k_{y}^{2}} \\overline{\\phi} + 0.5 c f k_{y}^{2} \\phi \\sqrt{2 k_{x}^{2} + 2 k_{y}^{2}} \\overline{\\psi} + 0.5 c f k_{y}^{2} \\psi \\sqrt{2 k_{x}^{2} + 2 k_{y}^{2}} \\overline{\\phi} + 0.5 f^{2} k_{x}^{2} \\phi \\overline{\\phi} + 0.5 f^{2} k_{y}^{2} \\phi \\overline{\\phi}\\right) + 0.5 \\sigma^{2} c \\left(\\eta k_{x}^{2} \\overline{\\phi} + \\eta k_{y}^{2} \\overline{\\phi} + k_{x}^{2} \\phi \\overline{\\eta} + k_{y}^{2} \\phi \\overline{\\eta}\\right) \\left\\lvert{\\kappa}\\right\\rvert - 0.5 c f^{2} \\left(\\eta k_{x}^{2} \\overline{\\phi} + \\eta k_{y}^{2} \\overline{\\phi} + k_{x}^{2} \\phi \\overline{\\eta} + k_{y}^{2} \\phi \\overline{\\eta}\\right) \\left\\lvert{\\kappa}\\right\\rvert + \\eta \\left(0.5 \\kappa^{2} \\sigma^{2} c^{2} + 0.5 \\kappa^{2} c^{2} f^{2}\\right) \\overline{\\eta}\\right)$$"
      ],
      "text/plain": [
       "                                  ⎛                                           \n",
       "          4       2   _         2 ⎜          4  4   _             2  6   _    \n",
       "0.5⋅\\kappa ⋅\\sigma ⋅φ⋅φ + \\kappa ⋅⎝0.5⋅\\kappa ⋅c ⋅φ⋅φ + 0.5⋅\\kappa ⋅c ⋅η⋅η - -\n",
       "──────────────────────────────────────────────────────────────────────────────\n",
       "                                                                              \n",
       "                                                                              \n",
       "\n",
       "                                                                              \n",
       "            2  5   _                         2  5   _                  ___    \n",
       " -0.5⋅\\kappa ⋅c ⋅η⋅φ⋅│\\kappa│ - - -0.5⋅\\kappa ⋅c ⋅φ⋅η⋅│\\kappa│ + 0.5⋅╲╱ 2 ⋅\\ka\n",
       "──────────────────────────────────────────────────────────────────────────────\n",
       "                                                                              \n",
       "                                                                              \n",
       "\n",
       "                                                                              \n",
       "   2  4     _         ___       2  4     _            ___       2  3     _    \n",
       "ppa ⋅c ⋅η⋅f⋅ψ + 0.5⋅╲╱ 2 ⋅\\kappa ⋅c ⋅f⋅ψ⋅η - - -0.5⋅╲╱ 2 ⋅\\kappa ⋅c ⋅f⋅φ⋅ψ⋅│\\k\n",
       "──────────────────────────────────────────────────────────────────────────────\n",
       "                                                                              \n",
       "                                                                              \n",
       "\n",
       "                                                                              \n",
       "                 ___       2  3     _                      2  2  2   _        \n",
       "appa│ - - -0.5⋅╲╱ 2 ⋅\\kappa ⋅c ⋅f⋅ψ⋅φ⋅│\\kappa│ + 1.0⋅\\kappa ⋅c ⋅f ⋅ψ⋅ψ + 1.0⋅\\\n",
       "──────────────────────────────────────────────────────────────────────────────\n",
       "                                                                              \n",
       "                                                                              \n",
       "\n",
       "                                                                              \n",
       "     2  2   2   _             2  2    2   _            ___  2       2 _       \n",
       "kappa ⋅c ⋅kₓ ⋅ψ⋅ψ + 1.0⋅\\kappa ⋅c ⋅k_y ⋅ψ⋅ψ - - -0.5⋅╲╱ 2 ⋅c ⋅η⋅f⋅kₓ ⋅ψ - - -0\n",
       "──────────────────────────────────────────────────────────────────────────────\n",
       "                                                                              \n",
       "                                                                              \n",
       "\n",
       "                                                                              \n",
       "     ___  2        2 _            ___  2     2   _            ___  2      2   \n",
       ".5⋅╲╱ 2 ⋅c ⋅η⋅f⋅k_y ⋅ψ - - -0.5⋅╲╱ 2 ⋅c ⋅f⋅kₓ ⋅ψ⋅η - - -0.5⋅╲╱ 2 ⋅c ⋅f⋅k_y ⋅ψ⋅\n",
       "──────────────────────────────────────────────────────────────────────────────\n",
       "                             2       2                                        \n",
       "                       \\kappa ⋅\\sigma                                         \n",
       "\n",
       "                     ________________                      ________________   \n",
       "_             2     ╱     2        2  _             2     ╱     2        2  _ \n",
       "η + 0.5⋅c⋅f⋅kₓ ⋅φ⋅╲╱  2⋅kₓ  + 2⋅k_y  ⋅ψ + 0.5⋅c⋅f⋅kₓ ⋅ψ⋅╲╱  2⋅kₓ  + 2⋅k_y  ⋅φ \n",
       "──────────────────────────────────────────────────────────────────────────────\n",
       "                                                                              \n",
       "                                                                              \n",
       "\n",
       "                    ________________                       ________________   \n",
       "             2     ╱     2        2  _              2     ╱     2        2  _ \n",
       "+ 0.5⋅c⋅f⋅k_y ⋅φ⋅╲╱  2⋅kₓ  + 2⋅k_y  ⋅ψ + 0.5⋅c⋅f⋅k_y ⋅ψ⋅╲╱  2⋅kₓ  + 2⋅k_y  ⋅φ \n",
       "──────────────────────────────────────────────────────────────────────────────\n",
       "                                                                              \n",
       "                                                                              \n",
       "\n",
       "                                  ⎞                                           \n",
       "       2   2   _        2    2   _⎟             2   ⎛    2 _        2 _     2 \n",
       "+ 0.5⋅f ⋅kₓ ⋅φ⋅φ + 0.5⋅f ⋅k_y ⋅φ⋅φ⎠ + 0.5⋅\\sigma ⋅c⋅⎝η⋅kₓ ⋅φ + η⋅k_y ⋅φ + kₓ ⋅\n",
       "──────────────────────────────────────────────────────────────────────────────\n",
       "                                                                              \n",
       "                                                                              \n",
       "\n",
       "                                                                              \n",
       "  _      2   _⎞                      2 ⎛    2 _        2 _     2   _      2   \n",
       "φ⋅η + k_y ⋅φ⋅η⎠⋅│\\kappa│ - - -0.5⋅c⋅f ⋅⎝η⋅kₓ ⋅φ + η⋅k_y ⋅φ + kₓ ⋅φ⋅η + k_y ⋅φ⋅\n",
       "──────────────────────────────────────────────────────────────────────────────\n",
       "                                                                              \n",
       "                                                                              \n",
       "\n",
       "                                                              \n",
       "_⎞              ⎛          2       2  2             2  2  2⎞ _\n",
       "η⎠⋅│\\kappa│ + η⋅⎝0.5⋅\\kappa ⋅\\sigma ⋅c  + 0.5⋅\\kappa ⋅c ⋅f ⎠⋅η\n",
       "──────────────────────────────────────────────────────────────\n",
       "                                                              \n",
       "                                                              "
      ]
     },
     "execution_count": 20,
     "metadata": {},
     "output_type": "execute_result"
    }
   ],
   "source": [
    "#collect(subck(simplifykappa(expand(QW.transpose().conjugate()*QW))), collect_list)\n",
    "QW2 = QW.conjugate().dot(QW)\n",
    "QW2 = simplifysigma(subck((simplifykappa(expand(QW.conjugate().dot(QW))))))\n",
    "QW2 = collect(QW2,collect_list)\n",
    "QW2"
   ]
  },
  {
   "cell_type": "code",
   "execution_count": 21,
   "metadata": {},
   "outputs": [
    {
     "data": {
      "image/png": "[encoded data removed]",
      "text/latex": [
       "$$\\kappa^{2} \\left(c^{2} \\eta \\overline{\\eta} + 1.0 u \\overline{u} + 1.0 v \\overline{v}\\right)$$"
      ],
      "text/plain": [
       "      2 ⎛ 2   _         _         _⎞\n",
       "\\kappa ⋅⎝c ⋅η⋅η + 1.0⋅u⋅u + 1.0⋅v⋅v⎠"
      ]
     },
     "execution_count": 21,
     "metadata": {},
     "output_type": "execute_result"
    }
   ],
   "source": [
    "simplifykappa(collect( U.conjugate().dot((P.conjugate().transpose()*P)*U) , \n",
    "        [u*u.conjugate(), v*v.conjugate(), eta*eta.conjugate()]))"
   ]
  },
  {
   "cell_type": "code",
   "execution_count": 22,
   "metadata": {},
   "outputs": [
    {
     "data": {
      "image/png": "[encoded data removed]",
      "text/latex": [
       "$$\\left[\\begin{matrix}1.0 k_{x}^{2} + 1.0 k_{y}^{2} & 0 & 0\\\\0 & 1.0 k_{x}^{2} + 1.0 k_{y}^{2} & 0\\\\0 & 0 & \\kappa^{2}\\end{matrix}\\right]$$"
      ],
      "text/plain": [
       "⎡      2          2                             ⎤\n",
       "⎢1.0⋅kₓ  + 1.0⋅k_y           0              0   ⎥\n",
       "⎢                                               ⎥\n",
       "⎢                          2          2         ⎥\n",
       "⎢        0           1.0⋅kₓ  + 1.0⋅k_y      0   ⎥\n",
       "⎢                                               ⎥\n",
       "⎢                                              2⎥\n",
       "⎣        0                   0           \\kappa ⎦"
      ]
     },
     "execution_count": 22,
     "metadata": {},
     "output_type": "execute_result"
    }
   ],
   "source": [
    "subkappa(P.conjugate().transpose()*P)"
   ]
  },
  {
   "cell_type": "code",
   "execution_count": 23,
   "metadata": {},
   "outputs": [
    {
     "data": {
      "image/png": "[encoded data removed]",
      "text/latex": [
       "$$\\left[\\begin{matrix}1.0 k_{x}^{2} + 1.0 k_{y}^{2} & 0 & 0\\\\0 & 1.0 k_{x}^{2} + 1.0 k_{y}^{2} & 0\\\\0 & 0 & \\kappa^{2}\\end{matrix}\\right]$$"
      ],
      "text/plain": [
       "⎡      2          2                             ⎤\n",
       "⎢1.0⋅kₓ  + 1.0⋅k_y           0              0   ⎥\n",
       "⎢                                               ⎥\n",
       "⎢                          2          2         ⎥\n",
       "⎢        0           1.0⋅kₓ  + 1.0⋅k_y      0   ⎥\n",
       "⎢                                               ⎥\n",
       "⎢                                              2⎥\n",
       "⎣        0                   0           \\kappa ⎦"
      ]
     },
     "execution_count": 23,
     "metadata": {},
     "output_type": "execute_result"
    }
   ],
   "source": [
    "P*P.conjugate().transpose()"
   ]
  },
  {
   "cell_type": "code",
   "execution_count": 24,
   "metadata": {},
   "outputs": [
    {
     "data": {
      "image/png": "[encoded data removed]",
      "text/latex": [
       "$$\\left[\\begin{matrix}- 1.0 i k_{y} & 1.0 i k_{x} & 0\\\\1.0 i k_{x} & 1.0 i k_{y} & 0\\\\0 & 0 & \\kappa\\end{matrix}\\right]$$"
      ],
      "text/plain": [
       "⎡-1.0⋅ⅈ⋅k_y  1.0⋅ⅈ⋅kₓ     0   ⎤\n",
       "⎢                             ⎥\n",
       "⎢ 1.0⋅ⅈ⋅kₓ   1.0⋅ⅈ⋅k_y    0   ⎥\n",
       "⎢                             ⎥\n",
       "⎣    0           0      \\kappa⎦"
      ]
     },
     "execution_count": 24,
     "metadata": {},
     "output_type": "execute_result"
    }
   ],
   "source": [
    "P"
   ]
  },
  {
   "cell_type": "code",
   "execution_count": 25,
   "metadata": {},
   "outputs": [
    {
     "data": {
      "image/png": "[encoded data removed]",
      "text/latex": [
       "$$\\left[\\begin{matrix}\\frac{ck^{2}}{\\sigma^{2}} + \\frac{1.0 f^{2}}{\\sigma^{2}} & 0 & 0\\\\0 & \\frac{1}{2} + \\frac{0.5 ck^{2}}{\\sigma^{2}} + \\frac{f^{2}}{2 \\sigma^{2}} & - \\frac{1}{2} + \\frac{0.5 ck^{2}}{\\sigma^{2}} + \\frac{f^{2}}{2 \\sigma^{2}}\\\\0 & - \\frac{1}{2} + \\frac{0.5 ck^{2}}{\\sigma^{2}} + \\frac{f^{2}}{2 \\sigma^{2}} & \\frac{1}{2} + \\frac{0.5 ck^{2}}{\\sigma^{2}} + \\frac{f^{2}}{2 \\sigma^{2}}\\end{matrix}\\right]$$"
      ],
      "text/plain": [
       "⎡    2           2                                                      ⎤\n",
       "⎢  ck       1.0⋅f                                                       ⎥\n",
       "⎢─────── + ───────              0                          0            ⎥\n",
       "⎢      2         2                                                      ⎥\n",
       "⎢\\sigma    \\sigma                                                       ⎥\n",
       "⎢                                                                       ⎥\n",
       "⎢                              2        2                  2        2   ⎥\n",
       "⎢                    1   0.5⋅ck        f         1   0.5⋅ck        f    ⎥\n",
       "⎢        0           ─ + ─────── + ─────────   - ─ + ─────── + ─────────⎥\n",
       "⎢                    2         2           2     2         2           2⎥\n",
       "⎢                        \\sigma    2⋅\\sigma          \\sigma    2⋅\\sigma ⎥\n",
       "⎢                                                                       ⎥\n",
       "⎢                               2        2                2        2    ⎥\n",
       "⎢                     1   0.5⋅ck        f       1   0.5⋅ck        f     ⎥\n",
       "⎢        0          - ─ + ─────── + ─────────   ─ + ─────── + ───────── ⎥\n",
       "⎢                     2         2           2   2         2           2 ⎥\n",
       "⎣                         \\sigma    2⋅\\sigma        \\sigma    2⋅\\sigma  ⎦"
      ]
     },
     "execution_count": 25,
     "metadata": {},
     "output_type": "execute_result"
    }
   ],
   "source": [
    "XNCT*XN"
   ]
  },
  {
   "cell_type": "code",
   "execution_count": 26,
   "metadata": {},
   "outputs": [
    {
     "data": {
      "image/png": "[encoded data removed]",
      "text/latex": [
       "$$\\left[\\begin{matrix}1.0 & 0 & 0\\\\0 & 1 & 0\\\\0 & 0 & 1\\end{matrix}\\right]$$"
      ],
      "text/plain": [
       "⎡1.0  0  0⎤\n",
       "⎢         ⎥\n",
       "⎢ 0   1  0⎥\n",
       "⎢         ⎥\n",
       "⎣ 0   0  1⎦"
      ]
     },
     "execution_count": 26,
     "metadata": {},
     "output_type": "execute_result"
    }
   ],
   "source": [
    "simplifysigma(_)"
   ]
  },
  {
   "cell_type": "code",
   "execution_count": 27,
   "metadata": {},
   "outputs": [
    {
     "data": {
      "image/png": "[encoded data removed]",
      "text/latex": [
       "$$\\left[\\begin{matrix}- 1.0 i k_{y} & 1.0 i k_{x} & 0\\\\1.0 i k_{x} & 1.0 i k_{y} & 0\\\\0 & 0 & \\kappa\\end{matrix}\\right]$$"
      ],
      "text/plain": [
       "⎡-1.0⋅ⅈ⋅k_y  1.0⋅ⅈ⋅kₓ     0   ⎤\n",
       "⎢                             ⎥\n",
       "⎢ 1.0⋅ⅈ⋅kₓ   1.0⋅ⅈ⋅k_y    0   ⎥\n",
       "⎢                             ⎥\n",
       "⎣    0           0      \\kappa⎦"
      ]
     },
     "execution_count": 27,
     "metadata": {},
     "output_type": "execute_result"
    }
   ],
   "source": [
    "P"
   ]
  },
  {
   "cell_type": "code",
   "execution_count": 28,
   "metadata": {},
   "outputs": [
    {
     "data": {
      "image/png": "[encoded data removed]",
      "text/latex": [
       "$$\\left[\\begin{matrix}1.0 i k_{x} v - 1.0 i k_{y} u\\\\1.0 i k_{x} u + 1.0 i k_{y} v\\\\\\kappa c \\eta\\end{matrix}\\right]$$"
      ],
      "text/plain": [
       "⎡1.0⋅ⅈ⋅kₓ⋅v - - -1.0⋅ⅈ⋅k_y⋅u⎤\n",
       "⎢                           ⎥\n",
       "⎢ 1.0⋅ⅈ⋅kₓ⋅u + 1.0⋅ⅈ⋅k_y⋅v  ⎥\n",
       "⎢                           ⎥\n",
       "⎣        \\kappa⋅c⋅η         ⎦"
      ]
     },
     "execution_count": 28,
     "metadata": {},
     "output_type": "execute_result"
    }
   ],
   "source": [
    "P*U"
   ]
  },
  {
   "cell_type": "code",
   "execution_count": 34,
   "metadata": {},
   "outputs": [
    {
     "data": {
      "image/png": "[encoded data removed]",
      "text/latex": [
       "$$\\left[\\begin{matrix}- \\frac{1.0 i c k_{y}}{\\kappa \\left\\lvert{\\sigma}\\right\\rvert} & \\frac{0.5 \\sqrt{2}}{\\kappa^{2} \\left\\lvert{\\sigma}\\right\\rvert} \\left(i f k_{y} + k_{x} \\left\\lvert{\\sigma}\\right\\rvert\\right) & \\frac{\\sqrt{2}}{\\kappa^{2} \\left\\lvert{\\sigma}\\right\\rvert} \\left(0.5 i f k_{y} - 0.5 k_{x} \\left\\lvert{\\sigma}\\right\\rvert\\right)\\\\\\frac{1.0 i c k_{x}}{\\kappa \\left\\lvert{\\sigma}\\right\\rvert} & \\frac{\\sqrt{2}}{\\kappa^{2} \\left\\lvert{\\sigma}\\right\\rvert} \\left(- 0.5 i f k_{x} + 0.5 k_{y} \\left\\lvert{\\sigma}\\right\\rvert\\right) & - \\frac{0.5 \\sqrt{2}}{\\kappa^{2} \\left\\lvert{\\sigma}\\right\\rvert} \\left(i f k_{x} + k_{y} \\left\\lvert{\\sigma}\\right\\rvert\\right)\\\\\\frac{1.0 c f}{\\left\\lvert{\\kappa}\\right\\rvert \\left\\lvert{\\sigma}\\right\\rvert} & \\frac{0.5 \\sqrt{2} \\kappa c^{2}}{\\left\\lvert{\\kappa}\\right\\rvert \\left\\lvert{\\sigma}\\right\\rvert} & \\frac{0.5 \\sqrt{2} \\kappa c^{2}}{\\left\\lvert{\\kappa}\\right\\rvert \\left\\lvert{\\sigma}\\right\\rvert}\\end{matrix}\\right]$$"
      ],
      "text/plain": [
       "⎡                             ___                                ___          \n",
       "⎢  -1.0⋅ⅈ⋅c⋅k_y         0.5⋅╲╱ 2 ⋅(ⅈ⋅f⋅k_y + kₓ⋅│\\sigma│)      ╲╱ 2 ⋅(0.5⋅ⅈ⋅f⋅\n",
       "⎢ ───────────────       ─────────────────────────────────      ───────────────\n",
       "⎢ \\kappa⋅│\\sigma│                      2                                      \n",
       "⎢                                \\kappa ⋅│\\sigma│                          \\ka\n",
       "⎢                                                                             \n",
       "⎢                     ___                                               ___   \n",
       "⎢    1.0⋅ⅈ⋅c⋅kₓ     ╲╱ 2 ⋅(-- -0.5⋅ⅈ⋅f⋅kₓ + 0.5⋅k_y⋅│\\sigma│)    -0.5⋅╲╱ 2 ⋅(ⅈ\n",
       "⎢ ───────────────   ─────────────────────────────────────────    ─────────────\n",
       "⎢ \\kappa⋅│\\sigma│                      2                                      \n",
       "⎢                                \\kappa ⋅│\\sigma│                          \\ka\n",
       "⎢                                                                             \n",
       "⎢                                    ___         2                            \n",
       "⎢     1.0⋅c⋅f                  0.5⋅╲╱ 2 ⋅\\kappa⋅c                        0.5⋅╲\n",
       "⎢─────────────────             ───────────────────                       ─────\n",
       "⎣│\\kappa│⋅│\\sigma│              │\\kappa│⋅│\\sigma│                         │\\ka\n",
       "\n",
       "                         ⎤\n",
       "k_y - - -0.5⋅kₓ⋅│\\sigma│)⎥\n",
       "─────────────────────────⎥\n",
       "   2                     ⎥\n",
       "ppa ⋅│\\sigma│            ⎥\n",
       "                         ⎥\n",
       "                         ⎥\n",
       "⋅f⋅kₓ + k_y⋅│\\sigma│)    ⎥\n",
       "──────────────────────   ⎥\n",
       "   2                     ⎥\n",
       "ppa ⋅│\\sigma│            ⎥\n",
       "                         ⎥\n",
       " ___         2           ⎥\n",
       "╱ 2 ⋅\\kappa⋅c            ⎥\n",
       "──────────────           ⎥\n",
       "ppa│⋅│\\sigma│            ⎦"
      ]
     },
     "execution_count": 34,
     "metadata": {},
     "output_type": "execute_result"
    }
   ],
   "source": [
    "Q"
   ]
  },
  {
   "cell_type": "code",
   "execution_count": 32,
   "metadata": {
    "scrolled": true
   },
   "outputs": [
    {
     "data": {
      "image/png": "[encoded data removed]",
      "text/latex": [
       "$$\\left[\\begin{matrix}- 1.0 i c k_{y} & \\frac{0.5 \\sqrt{2}}{\\kappa} \\left(i f k_{y} + k_{x} \\left\\lvert{\\sigma}\\right\\rvert\\right) & \\frac{\\sqrt{2}}{\\kappa} \\left(0.5 i f k_{y} - 0.5 k_{x} \\left\\lvert{\\sigma}\\right\\rvert\\right)\\\\1.0 i c k_{x} & \\frac{\\sqrt{2}}{\\kappa} \\left(- 0.5 i f k_{x} + 0.5 k_{y} \\left\\lvert{\\sigma}\\right\\rvert\\right) & - \\frac{0.5 \\sqrt{2}}{\\kappa} \\left(i f k_{x} + k_{y} \\left\\lvert{\\sigma}\\right\\rvert\\right)\\\\\\frac{1.0 \\kappa}{\\left\\lvert{\\kappa}\\right\\rvert} c f & \\frac{0.5 \\sqrt{2}}{\\left\\lvert{\\kappa}\\right\\rvert} \\kappa^{2} c^{2} & \\frac{0.5 \\sqrt{2}}{\\left\\lvert{\\kappa}\\right\\rvert} \\kappa^{2} c^{2}\\end{matrix}\\right]$$"
      ],
      "text/plain": [
       "⎡                          ___                                ___             \n",
       "⎢                    0.5⋅╲╱ 2 ⋅(ⅈ⋅f⋅k_y + kₓ⋅│\\sigma│)      ╲╱ 2 ⋅(0.5⋅ⅈ⋅f⋅k_y\n",
       "⎢ -1.0⋅ⅈ⋅c⋅k_y       ─────────────────────────────────      ──────────────────\n",
       "⎢                                  \\kappa                                    \\\n",
       "⎢                                                                             \n",
       "⎢                  ___                                               ___      \n",
       "⎢                ╲╱ 2 ⋅(-- -0.5⋅ⅈ⋅f⋅kₓ + 0.5⋅k_y⋅│\\sigma│)    -0.5⋅╲╱ 2 ⋅(ⅈ⋅f⋅\n",
       "⎢  1.0⋅ⅈ⋅c⋅kₓ    ─────────────────────────────────────────    ────────────────\n",
       "⎢                                  \\kappa                                    \\\n",
       "⎢                                                                             \n",
       "⎢                                ___       2  2                             __\n",
       "⎢1.0⋅\\kappa⋅c⋅f            0.5⋅╲╱ 2 ⋅\\kappa ⋅c                        0.5⋅╲╱ 2\n",
       "⎢──────────────            ────────────────────                       ────────\n",
       "⎣   │\\kappa│                     │\\kappa│                                   │\\\n",
       "\n",
       "                      ⎤\n",
       " - - -0.5⋅kₓ⋅│\\sigma│)⎥\n",
       "──────────────────────⎥\n",
       "kappa                 ⎥\n",
       "                      ⎥\n",
       "                      ⎥\n",
       "kₓ + k_y⋅│\\sigma│)    ⎥\n",
       "───────────────────   ⎥\n",
       "kappa                 ⎥\n",
       "                      ⎥\n",
       "_       2  2          ⎥\n",
       " ⋅\\kappa ⋅c           ⎥\n",
       "────────────          ⎥\n",
       "kappa│                ⎦"
      ]
     },
     "execution_count": 32,
     "metadata": {},
     "output_type": "execute_result"
    }
   ],
   "source": [
    "Q*kappa*abs(sigma)"
   ]
  },
  {
   "cell_type": "code",
   "execution_count": 33,
   "metadata": {
    "scrolled": true
   },
   "outputs": [
    {
     "data": {
      "image/png": "[encoded data removed]",
      "text/latex": [
       "$$\\left[\\begin{matrix}\\frac{1.0 i ck k_{y}}{\\kappa \\left\\lvert{\\sigma}\\right\\rvert} & - \\frac{1.0 i ck k_{x}}{\\kappa \\left\\lvert{\\sigma}\\right\\rvert} & \\frac{1.0 f}{\\left\\lvert{\\sigma}\\right\\rvert}\\\\\\frac{1}{\\kappa} \\left(- \\frac{0.5 i}{\\left\\lvert{\\sigma}\\right\\rvert} \\sqrt{2} f k_{y} + 0.5 \\sqrt{2} k_{x}\\right) & \\frac{1}{\\kappa} \\left(\\frac{0.5 i}{\\left\\lvert{\\sigma}\\right\\rvert} \\sqrt{2} f k_{x} + 0.5 \\sqrt{2} k_{y}\\right) & \\frac{0.5 ck}{\\left\\lvert{\\sigma}\\right\\rvert} \\sqrt{2}\\\\\\frac{1}{\\kappa} \\left(- \\frac{0.5 i}{\\left\\lvert{\\sigma}\\right\\rvert} \\sqrt{2} f k_{y} - 0.5 \\sqrt{2} k_{x}\\right) & \\frac{1}{\\kappa} \\left(\\frac{0.5 i}{\\left\\lvert{\\sigma}\\right\\rvert} \\sqrt{2} f k_{x} - 0.5 \\sqrt{2} k_{y}\\right) & \\frac{0.5 ck}{\\left\\lvert{\\sigma}\\right\\rvert} \\sqrt{2}\\end{matrix}\\right]$$"
      ],
      "text/plain": [
       "⎡               1.0⋅ⅈ⋅ck⋅k_y                           -1.0⋅ⅈ⋅ck⋅kₓ           \n",
       "⎢             ───────────────                         ───────────────         \n",
       "⎢             \\kappa⋅│\\sigma│                         \\kappa⋅│\\sigma│         \n",
       "⎢                                                                             \n",
       "⎢            ___                                   ___                        \n",
       "⎢   - -0.5⋅╲╱ 2 ⋅ⅈ⋅f⋅k_y          ___        0.5⋅╲╱ 2 ⋅ⅈ⋅f⋅kₓ         ___     \n",
       "⎢ - ───────────────────── + 0.5⋅╲╱ 2 ⋅kₓ     ──────────────── + 0.5⋅╲╱ 2 ⋅k_y \n",
       "⎢          │\\sigma│                              │\\sigma│                     \n",
       "⎢ ──────────────────────────────────────     ──────────────────────────────── \n",
       "⎢                 \\kappa                                  \\kappa              \n",
       "⎢                                                                             \n",
       "⎢           ___                                   ___                         \n",
       "⎢  - -0.5⋅╲╱ 2 ⋅ⅈ⋅f⋅k_y             ___     0.5⋅╲╱ 2 ⋅ⅈ⋅f⋅kₓ            ___   \n",
       "⎢- ───────────────────── - - -0.5⋅╲╱ 2 ⋅kₓ  ──────────────── - - -0.5⋅╲╱ 2 ⋅k_\n",
       "⎢         │\\sigma│                              │\\sigma│                      \n",
       "⎢─────────────────────────────────────────  ──────────────────────────────────\n",
       "⎣                  \\kappa                                  \\kappa             \n",
       "\n",
       "      1.0⋅f    ⎤\n",
       "     ────────  ⎥\n",
       "     │\\sigma│  ⎥\n",
       "               ⎥\n",
       "               ⎥\n",
       "               ⎥\n",
       "         ___   ⎥\n",
       "   0.5⋅╲╱ 2 ⋅ck⎥\n",
       "   ────────────⎥\n",
       "     │\\sigma│  ⎥\n",
       "               ⎥\n",
       "               ⎥\n",
       "               ⎥\n",
       "y        ___   ⎥\n",
       "   0.5⋅╲╱ 2 ⋅ck⎥\n",
       "─  ────────────⎥\n",
       "     │\\sigma│  ⎦"
      ]
     },
     "execution_count": 33,
     "metadata": {},
     "output_type": "execute_result"
    }
   ],
   "source": [
    "XNCT*P/kappa"
   ]
  },
  {
   "cell_type": "code",
   "execution_count": 37,
   "metadata": {},
   "outputs": [
    {
     "data": {
      "image/png": "[encoded data removed]",
      "text/latex": [
       "$$\\left[\\begin{matrix}\\frac{1}{\\kappa} \\left(- \\frac{c \\psi}{\\left\\lvert{\\sigma}\\right\\rvert} \\kappa^{3} + \\frac{1.0 \\eta}{\\left\\lvert{\\sigma}\\right\\rvert} \\kappa c f\\right)\\\\\\frac{1}{\\kappa} \\left(\\frac{0.5 \\eta}{\\left\\lvert{\\sigma}\\right\\rvert} \\sqrt{2} \\kappa^{2} c^{2} + \\frac{\\sqrt{2} \\kappa^{2} f \\psi}{2 \\left\\lvert{\\sigma}\\right\\rvert} + \\frac{i \\phi}{2} \\sqrt{2} \\kappa^{2}\\right)\\\\\\frac{1}{\\kappa} \\left(\\frac{0.5 \\eta}{\\left\\lvert{\\sigma}\\right\\rvert} \\sqrt{2} \\kappa^{2} c^{2} + \\frac{\\sqrt{2} \\kappa^{2} f \\psi}{2 \\left\\lvert{\\sigma}\\right\\rvert} - \\frac{i \\phi}{2} \\sqrt{2} \\kappa^{2}\\right)\\end{matrix}\\right]$$"
      ],
      "text/plain": [
       "⎡                       3                                      ⎤\n",
       "⎢                 \\kappa ⋅c⋅ψ   1.0⋅\\kappa⋅c⋅η⋅f               ⎥\n",
       "⎢               - ─────────── + ────────────────               ⎥\n",
       "⎢                   │\\sigma│        │\\sigma│                   ⎥\n",
       "⎢               ────────────────────────────────               ⎥\n",
       "⎢                            \\kappa                            ⎥\n",
       "⎢                                                              ⎥\n",
       "⎢      ___       2  2       ___       2         ___         2  ⎥\n",
       "⎢0.5⋅╲╱ 2 ⋅\\kappa ⋅c ⋅η   ╲╱ 2 ⋅\\kappa ⋅f⋅ψ   ╲╱ 2 ⋅ⅈ⋅\\kappa ⋅φ⎥\n",
       "⎢────────────────────── + ───────────────── + ─────────────────⎥\n",
       "⎢       │\\sigma│              2⋅│\\sigma│              2        ⎥\n",
       "⎢──────────────────────────────────────────────────────────────⎥\n",
       "⎢                            \\kappa                            ⎥\n",
       "⎢                                                              ⎥\n",
       "⎢      ___       2  2       ___       2         ___         2  ⎥\n",
       "⎢0.5⋅╲╱ 2 ⋅\\kappa ⋅c ⋅η   ╲╱ 2 ⋅\\kappa ⋅f⋅ψ   ╲╱ 2 ⋅ⅈ⋅\\kappa ⋅φ⎥\n",
       "⎢────────────────────── + ───────────────── - ─────────────────⎥\n",
       "⎢       │\\sigma│              2⋅│\\sigma│              2        ⎥\n",
       "⎢──────────────────────────────────────────────────────────────⎥\n",
       "⎣                            \\kappa                            ⎦"
      ]
     },
     "execution_count": 37,
     "metadata": {},
     "output_type": "execute_result"
    }
   ],
   "source": [
    "subck(XNCT)*W/kappa"
   ]
  },
  {
   "cell_type": "code",
   "execution_count": 38,
   "metadata": {},
   "outputs": [
    {
     "data": {
      "image/png": "[encoded data removed]",
      "text/latex": [
       "$$\\left ( \\left[\\begin{matrix}\\frac{1.0 i}{\\kappa^{2}} k_{y} & - \\frac{1.0 i}{\\kappa^{2}} k_{x} & 0\\\\- \\frac{1.0 i}{\\kappa^{2}} k_{x} & - \\frac{1.0 i}{\\kappa^{2}} k_{y} & 0\\\\0 & 0 & \\frac{1}{\\left\\lvert{\\kappa}\\right\\rvert}\\end{matrix}\\right], \\quad \\left[\\begin{matrix}- \\frac{ck}{\\left\\lvert{\\sigma}\\right\\rvert} & \\frac{0.5 f}{\\left\\lvert{\\sigma}\\right\\rvert} \\sqrt{2} & \\frac{0.5 f}{\\left\\lvert{\\sigma}\\right\\rvert} \\sqrt{2}\\\\0 & 0.5 \\sqrt{2} i & - 0.5 \\sqrt{2} i\\\\\\frac{1.0 f}{\\left\\lvert{\\sigma}\\right\\rvert} & \\frac{0.5 ck}{\\left\\lvert{\\sigma}\\right\\rvert} \\sqrt{2} & \\frac{0.5 ck}{\\left\\lvert{\\sigma}\\right\\rvert} \\sqrt{2}\\end{matrix}\\right]\\right )$$"
      ],
      "text/plain": [
       "⎛                                     ⎡                ___           ___   ⎤⎞\n",
       "⎜⎡1.0⋅ⅈ⋅k_y   -1.0⋅ⅈ⋅kₓ            ⎤  ⎢  -ck     0.5⋅╲╱ 2 ⋅f   0.5⋅╲╱ 2 ⋅f ⎥⎟\n",
       "⎜⎢─────────   ──────────      0    ⎥, ⎢────────  ───────────   ─────────── ⎥⎟\n",
       "⎜⎢       2           2             ⎥  ⎢│\\sigma│    │\\sigma│      │\\sigma│  ⎥⎟\n",
       "⎜⎢ \\kappa      \\kappa              ⎥  ⎢                                    ⎥⎟\n",
       "⎜⎢                                 ⎥  ⎢                ___            ___  ⎥⎟\n",
       "⎜⎢-1.0⋅ⅈ⋅kₓ   -1.0⋅ⅈ⋅k_y           ⎥  ⎢   0      0.5⋅╲╱ 2 ⋅ⅈ   -0.5⋅╲╱ 2 ⋅ⅈ⎥⎟\n",
       "⎜⎢──────────  ───────────     0    ⎥  ⎢                                    ⎥⎟\n",
       "⎜⎢       2            2            ⎥  ⎢                ___           ___   ⎥⎟\n",
       "⎜⎢ \\kappa       \\kappa             ⎥  ⎢ 1.0⋅f    0.5⋅╲╱ 2 ⋅ck  0.5⋅╲╱ 2 ⋅ck⎥⎟\n",
       "⎜⎢                                 ⎥  ⎢────────  ────────────  ────────────⎥⎟\n",
       "⎜⎢                            1    ⎥  ⎣│\\sigma│    │\\sigma│      │\\sigma│  ⎦⎟\n",
       "⎜⎢    0            0       ────────⎥                                        ⎟\n",
       "⎝⎣                         │\\kappa│⎦                                        ⎠"
      ]
     },
     "execution_count": 38,
     "metadata": {},
     "output_type": "execute_result"
    }
   ],
   "source": [
    "Pinv,XNCTinv"
   ]
  },
  {
   "cell_type": "code",
   "execution_count": 39,
   "metadata": {},
   "outputs": [
    {
     "data": {
      "image/png": "[encoded data removed]",
      "text/latex": [
       "$$\\left[\\begin{matrix}- \\frac{1.0 i c k_{y}}{\\kappa \\left\\lvert{\\sigma}\\right\\rvert} & \\frac{0.5 \\sqrt{2}}{\\kappa^{2} \\left\\lvert{\\sigma}\\right\\rvert} \\left(i f k_{y} + k_{x} \\left\\lvert{\\sigma}\\right\\rvert\\right) & \\frac{\\sqrt{2}}{\\kappa^{2} \\left\\lvert{\\sigma}\\right\\rvert} \\left(0.5 i f k_{y} - 0.5 k_{x} \\left\\lvert{\\sigma}\\right\\rvert\\right)\\\\\\frac{1.0 i c k_{x}}{\\kappa \\left\\lvert{\\sigma}\\right\\rvert} & \\frac{\\sqrt{2}}{\\kappa^{2} \\left\\lvert{\\sigma}\\right\\rvert} \\left(- 0.5 i f k_{x} + 0.5 k_{y} \\left\\lvert{\\sigma}\\right\\rvert\\right) & - \\frac{0.5 \\sqrt{2}}{\\kappa^{2} \\left\\lvert{\\sigma}\\right\\rvert} \\left(i f k_{x} + k_{y} \\left\\lvert{\\sigma}\\right\\rvert\\right)\\\\\\frac{1.0 c f}{\\left\\lvert{\\kappa}\\right\\rvert \\left\\lvert{\\sigma}\\right\\rvert} & \\frac{0.5 \\sqrt{2} \\kappa c^{2}}{\\left\\lvert{\\kappa}\\right\\rvert \\left\\lvert{\\sigma}\\right\\rvert} & \\frac{0.5 \\sqrt{2} \\kappa c^{2}}{\\left\\lvert{\\kappa}\\right\\rvert \\left\\lvert{\\sigma}\\right\\rvert}\\end{matrix}\\right]$$"
      ],
      "text/plain": [
       "⎡                             ___                                ___          \n",
       "⎢  -1.0⋅ⅈ⋅c⋅k_y         0.5⋅╲╱ 2 ⋅(ⅈ⋅f⋅k_y + kₓ⋅│\\sigma│)      ╲╱ 2 ⋅(0.5⋅ⅈ⋅f⋅\n",
       "⎢ ───────────────       ─────────────────────────────────      ───────────────\n",
       "⎢ \\kappa⋅│\\sigma│                      2                                      \n",
       "⎢                                \\kappa ⋅│\\sigma│                          \\ka\n",
       "⎢                                                                             \n",
       "⎢                     ___                                               ___   \n",
       "⎢    1.0⋅ⅈ⋅c⋅kₓ     ╲╱ 2 ⋅(-- -0.5⋅ⅈ⋅f⋅kₓ + 0.5⋅k_y⋅│\\sigma│)    -0.5⋅╲╱ 2 ⋅(ⅈ\n",
       "⎢ ───────────────   ─────────────────────────────────────────    ─────────────\n",
       "⎢ \\kappa⋅│\\sigma│                      2                                      \n",
       "⎢                                \\kappa ⋅│\\sigma│                          \\ka\n",
       "⎢                                                                             \n",
       "⎢                                    ___         2                            \n",
       "⎢     1.0⋅c⋅f                  0.5⋅╲╱ 2 ⋅\\kappa⋅c                        0.5⋅╲\n",
       "⎢─────────────────             ───────────────────                       ─────\n",
       "⎣│\\kappa│⋅│\\sigma│              │\\kappa│⋅│\\sigma│                         │\\ka\n",
       "\n",
       "                         ⎤\n",
       "k_y - - -0.5⋅kₓ⋅│\\sigma│)⎥\n",
       "─────────────────────────⎥\n",
       "   2                     ⎥\n",
       "ppa ⋅│\\sigma│            ⎥\n",
       "                         ⎥\n",
       "                         ⎥\n",
       "⋅f⋅kₓ + k_y⋅│\\sigma│)    ⎥\n",
       "──────────────────────   ⎥\n",
       "   2                     ⎥\n",
       "ppa ⋅│\\sigma│            ⎥\n",
       "                         ⎥\n",
       " ___         2           ⎥\n",
       "╱ 2 ⋅\\kappa⋅c            ⎥\n",
       "──────────────           ⎥\n",
       "ppa│⋅│\\sigma│            ⎦"
      ]
     },
     "execution_count": 39,
     "metadata": {},
     "output_type": "execute_result"
    }
   ],
   "source": [
    "Q"
   ]
  },
  {
   "cell_type": "code",
   "execution_count": 40,
   "metadata": {},
   "outputs": [
    {
     "data": {
      "image/png": "[encoded data removed]",
      "text/latex": [
       "$$\\left ( \\left[\\begin{matrix}\\kappa^{2} \\psi\\\\- \\kappa^{2} \\phi\\\\\\kappa c \\eta\\end{matrix}\\right], \\quad \\left[\\begin{matrix}- 1.0 i k_{y} & 1.0 i k_{x} & 0\\\\1.0 i k_{x} & 1.0 i k_{y} & 0\\\\0 & 0 & \\kappa\\end{matrix}\\right], \\quad \\left[\\begin{matrix}u\\\\v\\\\c \\eta\\end{matrix}\\right]\\right )$$"
      ],
      "text/plain": [
       "⎛⎡      2   ⎤                                        ⎞\n",
       "⎜⎢\\kappa ⋅ψ ⎥, ⎡-1.0⋅ⅈ⋅k_y  1.0⋅ⅈ⋅kₓ     0   ⎤, ⎡ u ⎤⎟\n",
       "⎜⎢          ⎥  ⎢                             ⎥  ⎢   ⎥⎟\n",
       "⎜⎢       2  ⎥  ⎢ 1.0⋅ⅈ⋅kₓ   1.0⋅ⅈ⋅k_y    0   ⎥  ⎢ v ⎥⎟\n",
       "⎜⎢-\\kappa ⋅φ⎥  ⎢                             ⎥  ⎢   ⎥⎟\n",
       "⎜⎢          ⎥  ⎣    0           0      \\kappa⎦  ⎣c⋅η⎦⎟\n",
       "⎝⎣\\kappa⋅c⋅η⎦                                        ⎠"
      ]
     },
     "execution_count": 40,
     "metadata": {},
     "output_type": "execute_result"
    }
   ],
   "source": [
    "W,P,U"
   ]
  },
  {
   "cell_type": "code",
   "execution_count": 41,
   "metadata": {},
   "outputs": [
    {
     "data": {
      "image/png": "[encoded data removed]",
      "text/latex": [
       "$$\\left[\\begin{matrix}1.0 i k_{x} v - 1.0 i k_{y} u\\\\1.0 i k_{x} u + 1.0 i k_{y} v\\\\\\kappa c \\eta\\end{matrix}\\right]$$"
      ],
      "text/plain": [
       "⎡1.0⋅ⅈ⋅kₓ⋅v - - -1.0⋅ⅈ⋅k_y⋅u⎤\n",
       "⎢                           ⎥\n",
       "⎢ 1.0⋅ⅈ⋅kₓ⋅u + 1.0⋅ⅈ⋅k_y⋅v  ⎥\n",
       "⎢                           ⎥\n",
       "⎣        \\kappa⋅c⋅η         ⎦"
      ]
     },
     "execution_count": 41,
     "metadata": {},
     "output_type": "execute_result"
    }
   ],
   "source": [
    "P*U"
   ]
  },
  {
   "cell_type": "code",
   "execution_count": 47,
   "metadata": {},
   "outputs": [
    {
     "data": {
      "image/png": "[encoded data removed]",
      "text/latex": [
       "$$\\left[\\begin{matrix}- \\frac{1.0 i c \\psi}{\\left\\lvert{\\kappa}\\right\\rvert \\left\\lvert{\\sigma}\\right\\rvert} \\kappa^{3} k_{y} - \\frac{0.5 \\sqrt{2} \\kappa^{2} \\phi}{\\left\\lvert{\\kappa}\\right\\rvert \\left\\lvert{\\sigma}\\right\\rvert} \\left(i f k_{y} + k_{x} \\left\\lvert{\\sigma}\\right\\rvert\\right) + \\frac{\\sqrt{2} \\kappa c \\eta}{\\left\\lvert{\\kappa}\\right\\rvert \\left\\lvert{\\sigma}\\right\\rvert} \\left(0.5 i f k_{y} - 0.5 k_{x} \\left\\lvert{\\sigma}\\right\\rvert\\right)\\\\\\frac{1.0 i c \\psi}{\\left\\lvert{\\kappa}\\right\\rvert \\left\\lvert{\\sigma}\\right\\rvert} \\kappa^{3} k_{x} - \\frac{\\sqrt{2} \\kappa^{2} \\phi}{\\left\\lvert{\\kappa}\\right\\rvert \\left\\lvert{\\sigma}\\right\\rvert} \\left(- 0.5 i f k_{x} + 0.5 k_{y} \\left\\lvert{\\sigma}\\right\\rvert\\right) - \\frac{0.5 \\kappa c \\eta}{\\left\\lvert{\\kappa}\\right\\rvert \\left\\lvert{\\sigma}\\right\\rvert} \\sqrt{2} \\left(i f k_{x} + k_{y} \\left\\lvert{\\sigma}\\right\\rvert\\right)\\\\- \\frac{0.5 \\phi}{\\left\\lvert{\\sigma}\\right\\rvert} \\sqrt{2} \\kappa^{3} c + \\frac{0.5 \\eta}{\\left\\lvert{\\sigma}\\right\\rvert} \\sqrt{2} \\kappa^{2} c^{2} + \\frac{1.0 \\psi}{\\left\\lvert{\\sigma}\\right\\rvert} \\kappa^{2} f\\end{matrix}\\right]$$"
      ],
      "text/plain": [
       "⎡                 3                     ___       2                           \n",
       "⎢  - -1.0⋅ⅈ⋅\\kappa ⋅c⋅k_y⋅ψ    - -0.5⋅╲╱ 2 ⋅\\kappa ⋅φ⋅(ⅈ⋅f⋅k_y + kₓ⋅│\\sigma│) \n",
       "⎢- ───────────────────────── - ───────────────────────────────────────────────\n",
       "⎢      │\\kappa│⋅│\\sigma│                      │\\kappa│⋅│\\sigma│               \n",
       "⎢                                                                             \n",
       "⎢               3            ___       2                                      \n",
       "⎢   1.0⋅ⅈ⋅\\kappa ⋅c⋅kₓ⋅ψ   ╲╱ 2 ⋅\\kappa ⋅φ⋅(-- -0.5⋅ⅈ⋅f⋅kₓ + 0.5⋅k_y⋅│\\sigma│)\n",
       "⎢   ──────────────────── - ───────────────────────────────────────────────────\n",
       "⎢    │\\kappa│⋅│\\sigma│                      │\\kappa│⋅│\\sigma│                 \n",
       "⎢                                                                             \n",
       "⎢                                         ___       3              ___       2\n",
       "⎢                                - -0.5⋅╲╱ 2 ⋅\\kappa ⋅c⋅φ    0.5⋅╲╱ 2 ⋅\\kappa \n",
       "⎢                              - ───────────────────────── + ─────────────────\n",
       "⎣                                         │\\sigma│                  │\\sigma│  \n",
       "\n",
       "     ___                                              ⎤\n",
       "   ╲╱ 2 ⋅\\kappa⋅c⋅η⋅(0.5⋅ⅈ⋅f⋅k_y - - -0.5⋅kₓ⋅│\\sigma│)⎥\n",
       " + ───────────────────────────────────────────────────⎥\n",
       "                    │\\kappa│⋅│\\sigma│                 ⎥\n",
       "                                                      ⎥\n",
       "            ___                                       ⎥\n",
       "   - -0.5⋅╲╱ 2 ⋅\\kappa⋅c⋅η⋅(ⅈ⋅f⋅kₓ + k_y⋅│\\sigma│)    ⎥\n",
       " - ────────────────────────────────────────────────   ⎥\n",
       "                  │\\kappa│⋅│\\sigma│                   ⎥\n",
       "                                                      ⎥\n",
       "  2               2                                   ⎥\n",
       "⋅c ⋅η   1.0⋅\\kappa ⋅f⋅ψ                               ⎥\n",
       "───── + ───────────────                               ⎥\n",
       "            │\\sigma│                                  ⎦"
      ]
     },
     "execution_count": 47,
     "metadata": {},
     "output_type": "execute_result"
    }
   ],
   "source": [
    "Q = kappa*Pinv*(XNCTinv)\n",
    "Q = simplifysigma(Q)\n",
    "Q = simplifykappa(Q)\n",
    "Q = subck(Q)\n",
    "Q*W"
   ]
  },
  {
   "cell_type": "code",
   "execution_count": 48,
   "metadata": {},
   "outputs": [
    {
     "data": {
      "image/png": "[encoded data removed]",
      "text/latex": [
       "$$\\left[\\begin{matrix}\\frac{1.0 i \\kappa}{\\sigma^{2} \\left\\lvert{\\kappa}\\right\\rvert} \\left(\\kappa^{2} c^{2} k_{y} \\psi + \\sigma^{2} k_{x} \\phi + f^{2} k_{y} \\psi\\right)\\\\- \\frac{1.0 i \\kappa}{\\sigma^{2} \\left\\lvert{\\kappa}\\right\\rvert} \\left(\\kappa^{2} c^{2} k_{x} \\psi - \\sigma^{2} k_{y} \\phi + f^{2} k_{x} \\psi\\right)\\\\\\frac{1.0 \\eta}{\\sigma^{2}} c \\left(\\kappa^{2} c^{2} + f^{2}\\right)\\end{matrix}\\right]$$"
      ],
      "text/plain": [
       "⎡             ⎛      2  2               2         2      ⎞ ⎤\n",
       "⎢1.0⋅ⅈ⋅\\kappa⋅⎝\\kappa ⋅c ⋅k_y⋅ψ + \\sigma ⋅kₓ⋅φ + f ⋅k_y⋅ψ⎠ ⎥\n",
       "⎢───────────────────────────────────────────────────────── ⎥\n",
       "⎢                           2                              ⎥\n",
       "⎢                     \\sigma ⋅│\\kappa│                     ⎥\n",
       "⎢                                                          ⎥\n",
       "⎢              ⎛      2  2              2          2     ⎞ ⎥\n",
       "⎢-1.0⋅ⅈ⋅\\kappa⋅⎝\\kappa ⋅c ⋅kₓ⋅ψ - \\sigma ⋅k_y⋅φ + f ⋅kₓ⋅ψ⎠ ⎥\n",
       "⎢──────────────────────────────────────────────────────────⎥\n",
       "⎢                           2                              ⎥\n",
       "⎢                     \\sigma ⋅│\\kappa│                     ⎥\n",
       "⎢                                                          ⎥\n",
       "⎢                        ⎛      2  2    2⎞                 ⎥\n",
       "⎢                1.0⋅c⋅η⋅⎝\\kappa ⋅c  + f ⎠                 ⎥\n",
       "⎢                ─────────────────────────                 ⎥\n",
       "⎢                               2                          ⎥\n",
       "⎣                         \\sigma                           ⎦"
      ]
     },
     "execution_count": 48,
     "metadata": {},
     "output_type": "execute_result"
    }
   ],
   "source": [
    "simplify(Q*B)"
   ]
  },
  {
   "cell_type": "code",
   "execution_count": 49,
   "metadata": {},
   "outputs": [
    {
     "data": {
      "image/png": "[encoded data removed]",
      "text/latex": [
       "$$\\left[\\begin{matrix}- \\frac{1.0 i \\kappa c}{\\left\\lvert{\\kappa}\\right\\rvert \\left\\lvert{\\sigma}\\right\\rvert} k_{y} & \\frac{0.5 \\sqrt{2}}{\\left\\lvert{\\kappa}\\right\\rvert \\left\\lvert{\\sigma}\\right\\rvert} \\left(i f k_{y} + k_{x} \\left\\lvert{\\sigma}\\right\\rvert\\right) & \\frac{\\sqrt{2}}{\\left\\lvert{\\kappa}\\right\\rvert \\left\\lvert{\\sigma}\\right\\rvert} \\left(0.5 i f k_{y} - 0.5 k_{x} \\left\\lvert{\\sigma}\\right\\rvert\\right)\\\\\\frac{1.0 i \\kappa c}{\\left\\lvert{\\kappa}\\right\\rvert \\left\\lvert{\\sigma}\\right\\rvert} k_{x} & \\frac{\\sqrt{2}}{\\left\\lvert{\\kappa}\\right\\rvert \\left\\lvert{\\sigma}\\right\\rvert} \\left(- 0.5 i f k_{x} + 0.5 k_{y} \\left\\lvert{\\sigma}\\right\\rvert\\right) & - \\frac{0.5 \\sqrt{2}}{\\left\\lvert{\\kappa}\\right\\rvert \\left\\lvert{\\sigma}\\right\\rvert} \\left(i f k_{x} + k_{y} \\left\\lvert{\\sigma}\\right\\rvert\\right)\\\\\\frac{1.0 f}{\\left\\lvert{\\sigma}\\right\\rvert} & \\frac{0.5 \\kappa}{\\left\\lvert{\\sigma}\\right\\rvert} \\sqrt{2} c & \\frac{0.5 \\kappa}{\\left\\lvert{\\sigma}\\right\\rvert} \\sqrt{2} c\\end{matrix}\\right]$$"
      ],
      "text/plain": [
       "⎡                                ___                                ___       \n",
       "⎢-1.0⋅ⅈ⋅\\kappa⋅c⋅k_y       0.5⋅╲╱ 2 ⋅(ⅈ⋅f⋅k_y + kₓ⋅│\\sigma│)      ╲╱ 2 ⋅(0.5⋅ⅈ\n",
       "⎢────────────────────      ─────────────────────────────────      ────────────\n",
       "⎢ │\\kappa│⋅│\\sigma│                │\\kappa│⋅│\\sigma│                         │\n",
       "⎢                                                                             \n",
       "⎢                        ___                                               ___\n",
       "⎢ 1.0⋅ⅈ⋅\\kappa⋅c⋅kₓ    ╲╱ 2 ⋅(-- -0.5⋅ⅈ⋅f⋅kₓ + 0.5⋅k_y⋅│\\sigma│)    -0.5⋅╲╱ 2 \n",
       "⎢ ─────────────────    ─────────────────────────────────────────    ──────────\n",
       "⎢ │\\kappa│⋅│\\sigma│                │\\kappa│⋅│\\sigma│                         │\n",
       "⎢                                                                             \n",
       "⎢                                       ___                                   \n",
       "⎢       1.0⋅f                     0.5⋅╲╱ 2 ⋅\\kappa⋅c                         0\n",
       "⎢      ────────                   ──────────────────                         ─\n",
       "⎣      │\\sigma│                        │\\sigma│                               \n",
       "\n",
       "                            ⎤\n",
       "⋅f⋅k_y - - -0.5⋅kₓ⋅│\\sigma│)⎥\n",
       "────────────────────────────⎥\n",
       "\\kappa│⋅│\\sigma│            ⎥\n",
       "                            ⎥\n",
       "                            ⎥\n",
       "⋅(ⅈ⋅f⋅kₓ + k_y⋅│\\sigma│)    ⎥\n",
       "─────────────────────────   ⎥\n",
       "\\kappa│⋅│\\sigma│            ⎥\n",
       "                            ⎥\n",
       "     ___                    ⎥\n",
       ".5⋅╲╱ 2 ⋅\\kappa⋅c           ⎥\n",
       "─────────────────           ⎥\n",
       "    │\\sigma│                ⎦"
      ]
     },
     "execution_count": 49,
     "metadata": {},
     "output_type": "execute_result"
    }
   ],
   "source": [
    "Q"
   ]
  },
  {
   "cell_type": "code",
   "execution_count": null,
   "metadata": {
    "collapsed": true
   },
   "outputs": [],
   "source": []
  }
 ],
 "metadata": {
  "kernelspec": {
   "display_name": "Python 2",
   "language": "python2",
   "name": "python2"
  },
  "language_info": {
   "codemirror_mode": {
    "name": "ipython",
    "version": 2
   },
   "file_extension": ".py",
   "mimetype": "text/x-python",
   "name": "python",
   "nbconvert_exporter": "python",
   "pygments_lexer": "ipython2",
   "version": "2.7.14"
  }
 },
 "nbformat": 4,
 "nbformat_minor": 1
}
