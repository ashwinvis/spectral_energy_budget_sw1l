{
 "cells": [
  {
   "cell_type": "code",
   "execution_count": 40,
   "metadata": {
    "collapsed": true
   },
   "outputs": [],
   "source": [
    "from sympy.vector import curl, divergence, gradient, CoordSys3D"
   ]
  },
  {
   "cell_type": "code",
   "execution_count": 41,
   "metadata": {
    "collapsed": true,
    "scrolled": true
   },
   "outputs": [],
   "source": [
    "transformation  = 'cartesian'\n",
    "var_names = ['x', 'y', 'z']\n",
    "vec_names = ['e_' + v for v in var_names]\n",
    "R = CoordSys3D('', transformation=transformation, variable_names=var_names, vector_names=vec_names)"
   ]
  },
  {
   "cell_type": "code",
   "execution_count": 42,
   "metadata": {
    "slideshow": {
     "slide_type": "fragment"
    }
   },
   "outputs": [
    {
     "name": "stdout",
     "output_type": "stream",
     "text": [
      "1.1.2.dev\n"
     ]
    }
   ],
   "source": [
    "%run -i define_symbols_beta.py"
   ]
  },
  {
   "cell_type": "markdown",
   "metadata": {},
   "source": [
    "# Coriolis term for horizontal velocity ($w \\to 0 $)"
   ]
  },
  {
   "cell_type": "markdown",
   "metadata": {},
   "source": [
    "Vertical component of Earth's rotation vector"
   ]
  },
  {
   "cell_type": "code",
   "execution_count": 43,
   "metadata": {},
   "outputs": [
    {
     "data": {
      "image/png": "[encoded data removed]",
      "text/latex": [
       "$$(\\mathbf{{y}_{}} \\beta + f_{0})\\mathbf{\\hat{e_z}_{}}$$"
      ],
      "text/plain": [
       "(_y⋅β + f₀) _e_z"
      ]
     },
     "execution_count": 43,
     "metadata": {},
     "output_type": "execute_result"
    }
   ],
   "source": [
    "from sympy.abc import beta\n",
    "f = (f1 + beta * R.y) * R.k\n",
    "f"
   ]
  },
  {
   "cell_type": "code",
   "execution_count": 69,
   "metadata": {
    "collapsed": true
   },
   "outputs": [],
   "source": [
    "vort = curl(u)\n",
    "vort_r = vort.dot(R.k)\n",
    "div = divergence(u_h).doit()"
   ]
  },
  {
   "cell_type": "code",
   "execution_count": 45,
   "metadata": {},
   "outputs": [],
   "source": [
    "corio = -f.cross(u)"
   ]
  },
  {
   "cell_type": "code",
   "execution_count": 46,
   "metadata": {
    "scrolled": true
   },
   "outputs": [
    {
     "data": {
      "image/png": "[encoded data removed]",
      "text/latex": [
       "$$(\\left(\\mathbf{{y}_{}} \\beta + f_{0}\\right) \\operatorname{u_{2}}{\\left (\\mathbf{{x}_{}},\\mathbf{{y}_{}},\\mathbf{{z}_{}} \\right )})\\mathbf{\\hat{e_x}_{}} + (- \\left(\\mathbf{{y}_{}} \\beta + f_{0}\\right) \\operatorname{u_{1}}{\\left (\\mathbf{{x}_{}},\\mathbf{{y}_{}},\\mathbf{{z}_{}} \\right )})\\mathbf{\\hat{e_y}_{}}$$"
      ],
      "text/plain": [
       "((_y⋅β + f₀)⋅u₂(_x, _y, _z)) _e_x + (-(_y⋅β + f₀)⋅u₁(_x, _y, _z)) _e_y"
      ]
     },
     "execution_count": 46,
     "metadata": {},
     "output_type": "execute_result"
    }
   ],
   "source": [
    "corio"
   ]
  },
  {
   "cell_type": "markdown",
   "metadata": {},
   "source": [
    "## Coriolis term in vorticity equation"
   ]
  },
  {
   "cell_type": "markdown",
   "metadata": {},
   "source": [
    "$\\nabla \\times (-f \\hat{e}_z \\times \\bf{u})$ is given by"
   ]
  },
  {
   "cell_type": "code",
   "execution_count": 47,
   "metadata": {
    "scrolled": false
   },
   "outputs": [
    {
     "data": {
      "image/png": "[encoded data removed]",
      "text/latex": [
       "$$- \\mathbf{{y}_{}} \\beta \\frac{\\partial}{\\partial \\mathbf{{x}_{}}} \\operatorname{u_{1}}{\\left (\\mathbf{{x}_{}},\\mathbf{{y}_{}},\\mathbf{{z}_{}} \\right )} - \\mathbf{{y}_{}} \\beta \\frac{\\partial}{\\partial \\mathbf{{y}_{}}} \\operatorname{u_{2}}{\\left (\\mathbf{{x}_{}},\\mathbf{{y}_{}},\\mathbf{{z}_{}} \\right )} - \\beta \\operatorname{u_{2}}{\\left (\\mathbf{{x}_{}},\\mathbf{{y}_{}},\\mathbf{{z}_{}} \\right )} - f_{0} \\frac{\\partial}{\\partial \\mathbf{{x}_{}}} \\operatorname{u_{1}}{\\left (\\mathbf{{x}_{}},\\mathbf{{y}_{}},\\mathbf{{z}_{}} \\right )} - f_{0} \\frac{\\partial}{\\partial \\mathbf{{y}_{}}} \\operatorname{u_{2}}{\\left (\\mathbf{{x}_{}},\\mathbf{{y}_{}},\\mathbf{{z}_{}} \\right )}$$"
      ],
      "text/plain": [
       "        ∂                          ∂                                          \n",
       "- _y⋅β⋅───(u₁(_x, _y, _z)) - _y⋅β⋅───(u₂(_x, _y, _z)) - β⋅u₂(_x, _y, _z) - f₀⋅\n",
       "       ∂_x                        ∂_y                                         \n",
       "\n",
       " ∂                        ∂                 \n",
       "───(u₁(_x, _y, _z)) - f₀⋅───(u₂(_x, _y, _z))\n",
       "∂_x                      ∂_y                "
      ]
     },
     "execution_count": 47,
     "metadata": {},
     "output_type": "execute_result"
    }
   ],
   "source": [
    "curl(corio).dot(R.k).expand()"
   ]
  },
  {
   "cell_type": "markdown",
   "metadata": {},
   "source": [
    "Divergence in cartesian coordinates is given by"
   ]
  },
  {
   "cell_type": "code",
   "execution_count": 48,
   "metadata": {
    "scrolled": false
   },
   "outputs": [
    {
     "data": {
      "image/png": "[encoded data removed]",
      "text/latex": [
       "$$\\frac{\\partial}{\\partial \\mathbf{{x}_{}}} \\operatorname{u_{1}}{\\left (\\mathbf{{x}_{}},\\mathbf{{y}_{}},\\mathbf{{z}_{}} \\right )} + \\frac{\\partial}{\\partial \\mathbf{{y}_{}}} \\operatorname{u_{2}}{\\left (\\mathbf{{x}_{}},\\mathbf{{y}_{}},\\mathbf{{z}_{}} \\right )}$$"
      ],
      "text/plain": [
       " ∂                     ∂                 \n",
       "───(u₁(_x, _y, _z)) + ───(u₂(_x, _y, _z))\n",
       "∂_x                   ∂_y                "
      ]
     },
     "execution_count": 48,
     "metadata": {},
     "output_type": "execute_result"
    }
   ],
   "source": [
    "div.expand()"
   ]
  },
  {
   "cell_type": "markdown",
   "metadata": {},
   "source": [
    "$u_3 = 0$ in the above equation because it is the 2D divergence --- which can be separated from the expression for $\\nabla \\times (-f \\hat{e}_z \\times \\bf{u})$"
   ]
  },
  {
   "cell_type": "code",
   "execution_count": 67,
   "metadata": {},
   "outputs": [
    {
     "data": {
      "image/png": "[encoded data removed]",
      "text/latex": [
       "$$(- \\mathbf{{y}_{}} \\beta \\frac{\\partial}{\\partial \\mathbf{{x}_{}}} \\operatorname{u_{1}}{\\left (\\mathbf{{x}_{}},\\mathbf{{y}_{}},\\mathbf{{z}_{}} \\right )})\\mathbf{\\hat{e_z}_{}} - (\\mathbf{{y}_{}} \\beta \\frac{\\partial}{\\partial \\mathbf{{y}_{}}} \\operatorname{u_{2}}{\\left (\\mathbf{{x}_{}},\\mathbf{{y}_{}},\\mathbf{{z}_{}} \\right )})\\mathbf{\\hat{e_z}_{}} - (f_{0} \\frac{\\partial}{\\partial \\mathbf{{x}_{}}} \\operatorname{u_{1}}{\\left (\\mathbf{{x}_{}},\\mathbf{{y}_{}},\\mathbf{{z}_{}} \\right )})\\mathbf{\\hat{e_z}_{}} - (f_{0} \\frac{\\partial}{\\partial \\mathbf{{y}_{}}} \\operatorname{u_{2}}{\\left (\\mathbf{{x}_{}},\\mathbf{{y}_{}},\\mathbf{{z}_{}} \\right )})\\mathbf{\\hat{e_z}_{}} - \\beta u_{2}$$"
      ],
      "text/plain": [
       "             ∂                               ∂                             ∂  \n",
       "- _y⋅_e_z⋅β⋅───(u₁(_x, _y, _z)) - _y⋅_e_z⋅β⋅───(u₂(_x, _y, _z)) - _e_z⋅f₀⋅───(\n",
       "            ∂_x                             ∂_y                           ∂_x \n",
       "\n",
       "                           ∂                        \n",
       "u₁(_x, _y, _z)) - _e_z⋅f₀⋅───(u₂(_x, _y, _z)) - β⋅u₂\n",
       "                          ∂_y                       "
      ]
     },
     "execution_count": 67,
     "metadata": {},
     "output_type": "execute_result"
    }
   ],
   "source": [
    "(- f * div).expand()  - beta * u2 "
   ]
  },
  {
   "cell_type": "markdown",
   "metadata": {},
   "source": [
    "Therefore linearized vorticity equation can be written as (probably wrong):\n",
    "$$\\partial_t \\zeta = -\\beta v - (f_0 + \\beta y) \\nabla . \\mathbf{u}$$"
   ]
  },
  {
   "cell_type": "markdown",
   "metadata": {},
   "source": [
    "## Coriolis term in divergence equation"
   ]
  },
  {
   "cell_type": "markdown",
   "metadata": {},
   "source": [
    "$\\nabla . (-f \\hat{e}_r \\times \\bf{u})$ is given by"
   ]
  },
  {
   "cell_type": "code",
   "execution_count": 59,
   "metadata": {
    "scrolled": true
   },
   "outputs": [
    {
     "data": {
      "image/png": "[encoded data removed]",
      "text/latex": [
       "$$- \\mathbf{{y}_{}} \\beta \\frac{\\partial}{\\partial \\mathbf{{y}_{}}} \\operatorname{u_{1}}{\\left (\\mathbf{{x}_{}},\\mathbf{{y}_{}},\\mathbf{{z}_{}} \\right )} + \\mathbf{{y}_{}} \\beta \\frac{\\partial}{\\partial \\mathbf{{x}_{}}} \\operatorname{u_{2}}{\\left (\\mathbf{{x}_{}},\\mathbf{{y}_{}},\\mathbf{{z}_{}} \\right )} - \\beta \\operatorname{u_{1}}{\\left (\\mathbf{{x}_{}},\\mathbf{{y}_{}},\\mathbf{{z}_{}} \\right )} - f_{0} \\frac{\\partial}{\\partial \\mathbf{{y}_{}}} \\operatorname{u_{1}}{\\left (\\mathbf{{x}_{}},\\mathbf{{y}_{}},\\mathbf{{z}_{}} \\right )} + f_{0} \\frac{\\partial}{\\partial \\mathbf{{x}_{}}} \\operatorname{u_{2}}{\\left (\\mathbf{{x}_{}},\\mathbf{{y}_{}},\\mathbf{{z}_{}} \\right )}$$"
      ],
      "text/plain": [
       "        ∂                          ∂                                          \n",
       "- _y⋅β⋅───(u₁(_x, _y, _z)) + _y⋅β⋅───(u₂(_x, _y, _z)) - β⋅u₁(_x, _y, _z) - f₀⋅\n",
       "       ∂_y                        ∂_x                                         \n",
       "\n",
       " ∂                        ∂                 \n",
       "───(u₁(_x, _y, _z)) + f₀⋅───(u₂(_x, _y, _z))\n",
       "∂_y                      ∂_x                "
      ]
     },
     "execution_count": 59,
     "metadata": {},
     "output_type": "execute_result"
    }
   ],
   "source": [
    "divergence(corio).expand()"
   ]
  },
  {
   "cell_type": "markdown",
   "metadata": {},
   "source": [
    "Vertical component of vorticity (in the $\\hat{e}_r$ direction), $\\zeta$ in spherical coordinates is given by:"
   ]
  },
  {
   "cell_type": "code",
   "execution_count": 75,
   "metadata": {
    "scrolled": false
   },
   "outputs": [
    {
     "data": {
      "image/png": "[encoded data removed]",
      "text/latex": [
       "$$- \\frac{\\partial}{\\partial \\mathbf{{y}_{}}} \\operatorname{u_{1}}{\\left (\\mathbf{{x}_{}},\\mathbf{{y}_{}},\\mathbf{{z}_{}} \\right )} + \\frac{\\partial}{\\partial \\mathbf{{x}_{}}} \\operatorname{u_{2}}{\\left (\\mathbf{{x}_{}},\\mathbf{{y}_{}},\\mathbf{{z}_{}} \\right )}$$"
      ],
      "text/plain": [
       "   ∂                     ∂                 \n",
       "- ───(u₁(_x, _y, _z)) + ───(u₂(_x, _y, _z))\n",
       "  ∂_y                   ∂_x                "
      ]
     },
     "execution_count": 75,
     "metadata": {},
     "output_type": "execute_result"
    }
   ],
   "source": [
    "vort_r.doit()"
   ]
  },
  {
   "cell_type": "code",
   "execution_count": 76,
   "metadata": {},
   "outputs": [
    {
     "data": {
      "image/png": "[encoded data removed]",
      "text/latex": [
       "$$(- \\mathbf{{y}_{}} \\beta \\frac{\\partial}{\\partial \\mathbf{{y}_{}}} \\operatorname{u_{1}}{\\left (\\mathbf{{x}_{}},\\mathbf{{y}_{}},\\mathbf{{z}_{}} \\right )})\\mathbf{\\hat{e_z}_{}} + (\\mathbf{{y}_{}} \\beta \\frac{\\partial}{\\partial \\mathbf{{x}_{}}} \\operatorname{u_{2}}{\\left (\\mathbf{{x}_{}},\\mathbf{{y}_{}},\\mathbf{{z}_{}} \\right )})\\mathbf{\\hat{e_z}_{}} - (f_{0} \\frac{\\partial}{\\partial \\mathbf{{y}_{}}} \\operatorname{u_{1}}{\\left (\\mathbf{{x}_{}},\\mathbf{{y}_{}},\\mathbf{{z}_{}} \\right )})\\mathbf{\\hat{e_z}_{}} + (f_{0} \\frac{\\partial}{\\partial \\mathbf{{x}_{}}} \\operatorname{u_{2}}{\\left (\\mathbf{{x}_{}},\\mathbf{{y}_{}},\\mathbf{{z}_{}} \\right )})\\mathbf{\\hat{e_z}_{}} - \\beta u_{1}$$"
      ],
      "text/plain": [
       "             ∂                                                               ∂\n",
       "- _y⋅_e_z⋅β⋅───(u₁(_x, _y, _z)) + ⎛      ∂                 ⎞ _e_z - _e_z⋅f₀⋅──\n",
       "            ∂_y                   ⎜_y⋅β⋅───(u₂(_x, _y, _z))⎟                ∂_\n",
       "                                  ⎝     ∂_x                ⎠                  \n",
       "\n",
       "                                                        \n",
       "─(u₁(_x, _y, _z)) + ⎛    ∂                 ⎞ _e_z - β⋅u₁\n",
       "y                   ⎜f₀⋅───(u₂(_x, _y, _z))⎟            \n",
       "                    ⎝   ∂_x                ⎠            "
      ]
     },
     "execution_count": 76,
     "metadata": {},
     "output_type": "execute_result"
    }
   ],
   "source": [
    "-beta * u1 + (f * vort_r).expand().doit()"
   ]
  },
  {
   "cell_type": "markdown",
   "metadata": {},
   "source": [
    "Therefore linearized divergence equation can be written as:\n",
    "$$\\partial_t \\nabla.\\mathbf{u} = -\\beta u + (f_0 +\\beta y)\\zeta - c^2 \\nabla^2 \\eta $$"
   ]
  },
  {
   "cell_type": "markdown",
   "metadata": {},
   "source": [
    "## Linearized equations in vorticity-divergence formulation $(\\zeta, \\delta, \\eta)$"
   ]
  },
  {
   "cell_type": "markdown",
   "metadata": {},
   "source": [
    "$$\n",
    "\\begin{align}\n",
    "\\partial_t \\zeta &= -\\beta v - f\\delta \\\\\n",
    "\\partial_t \\delta &= -\\beta u + f\\zeta - c^2 \\nabla^2 \\eta \\\\\n",
    "\\partial_t \\eta &= -\\delta\n",
    "\\end{align}\n",
    "$$"
   ]
  },
  {
   "cell_type": "markdown",
   "metadata": {},
   "source": [
    "## Linearized equations in stream function-potential formulation $(\\Psi, \\Phi, \\eta)$"
   ]
  },
  {
   "cell_type": "markdown",
   "metadata": {},
   "source": [
    "Let stream function and velocity potential be defined as:\n",
    "\n",
    "$$ \\mathbf u = - \\nabla \\times (\\Psi \\hat{e}_z) + \\nabla \\Phi $$"
   ]
  },
  {
   "cell_type": "markdown",
   "metadata": {},
   "source": [
    "which implies the velocities are given by:\n",
    "\n",
    "$$u = -\\Psi_y + \\Phi_x$$\n",
    "$$v = \\Psi_x + \\Phi_y$$"
   ]
  },
  {
   "cell_type": "markdown",
   "metadata": {},
   "source": [
    "and also implies vorticity and divergence to be represented as:\n",
    "$$\\zeta = \\nabla^2 \\Psi$$\n",
    "$$\\delta = \\nabla^2 \\Phi$$"
   ]
  },
  {
   "cell_type": "markdown",
   "metadata": {},
   "source": [
    "$$\n",
    "\\begin{align}\n",
    "\\partial_t \\nabla^2 \\Psi &= -\\beta(\\Psi_x + \\Phi_y)  - f \\nabla^2 \\Phi \\\\\n",
    "\\partial_t \\nabla^2 \\Phi &= \\beta(-\\Psi_y + \\Phi_x) + f\\nabla^2 \\Psi  - c^2 \\nabla^2 \\eta \\\\\n",
    "\\partial_t \\eta &= -\\nabla^2 \\Phi\n",
    "\\end{align}\n",
    "$$"
   ]
  },
  {
   "cell_type": "markdown",
   "metadata": {},
   "source": [
    "**The eigenvalue problem and normal modes are solved in `normalmode_nb-beta.ipynb`**"
   ]
  }
 ],
 "metadata": {
  "kernelspec": {
   "display_name": "Python 3",
   "language": "python",
   "name": "python3"
  },
  "language_info": {
   "codemirror_mode": {
    "name": "ipython",
    "version": 3
   },
   "file_extension": ".py",
   "mimetype": "text/x-python",
   "name": "python",
   "nbconvert_exporter": "python",
   "pygments_lexer": "ipython3",
   "version": "3.6.4"
  }
 },
 "nbformat": 4,
 "nbformat_minor": 2
}
