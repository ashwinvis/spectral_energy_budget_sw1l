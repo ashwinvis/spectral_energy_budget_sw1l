{
 "cells": [
  {
   "cell_type": "code",
   "execution_count": 1,
   "metadata": {
    "collapsed": true
   },
   "outputs": [],
   "source": [
    "from sympy.vector import curl, divergence, gradient, CoordSys3D, Del"
   ]
  },
  {
   "cell_type": "code",
   "execution_count": 2,
   "metadata": {
    "collapsed": true,
    "scrolled": true
   },
   "outputs": [],
   "source": [
    "transformation = 'spherical'\n",
    "var_names = ['r', r'\\theta', r'\\phi']\n",
    "vec_names = ['e_' + v for v in var_names] \n",
    "R = CoordSys3D('', transformation=transformation, variable_names=var_names, vector_names=vec_names)"
   ]
  },
  {
   "cell_type": "code",
   "execution_count": 3,
   "metadata": {},
   "outputs": [
    {
     "name": "stdout",
     "output_type": "stream",
     "text": [
      "1.1.2.dev\n"
     ]
    }
   ],
   "source": [
    "%run -i define_symbols_beta.py"
   ]
  },
  {
   "cell_type": "markdown",
   "metadata": {},
   "source": [
    "# Coriolis term for horizontal velocity ($u_r \\to 0 $)"
   ]
  },
  {
   "cell_type": "markdown",
   "metadata": {},
   "source": [
    "Vertical component of Earth's rotation vector"
   ]
  },
  {
   "cell_type": "code",
   "execution_count": 4,
   "metadata": {},
   "outputs": [
    {
     "data": {
      "image/png": "[encoded data removed]",
      "text/latex": [
       "$$2 \\Omega \\cos{\\left (\\mathbf{{\\theta}_{}} \\right )}$$"
      ],
      "text/plain": [
       "2⋅\\Omega⋅cos(_\\theta)"
      ]
     },
     "execution_count": 4,
     "metadata": {},
     "output_type": "execute_result"
    }
   ],
   "source": [
    "# f = 2 * omega1 * sin(R.y)  # When $\\theta$ represents the latitude (geographics convention)\n",
    "f = 2 * omega1 * cos(R.y)  # When $\\theta$ represents the co-latitude (physics convention)\n",
    "f"
   ]
  },
  {
   "cell_type": "code",
   "execution_count": 5,
   "metadata": {},
   "outputs": [
    {
     "data": {
      "image/png": "[encoded data removed]",
      "text/latex": [
       "$$- \\frac{2 \\Omega}{\\mathbf{{r}_{}}} \\sin{\\left (\\mathbf{{\\theta}_{}} \\right )}$$"
      ],
      "text/plain": [
       "-2⋅\\Omega⋅sin(_\\theta) \n",
       "───────────────────────\n",
       "           _r          "
      ]
     },
     "execution_count": 5,
     "metadata": {},
     "output_type": "execute_result"
    }
   ],
   "source": [
    "beta = gradient(f).dot(R.j)\n",
    "beta"
   ]
  },
  {
   "cell_type": "code",
   "execution_count": 6,
   "metadata": {
    "collapsed": true
   },
   "outputs": [],
   "source": [
    "vort = curl(u)\n",
    "vort_r = vort.dot(R.i)\n",
    "div = divergence(u_h)"
   ]
  },
  {
   "cell_type": "code",
   "execution_count": 7,
   "metadata": {
    "collapsed": true
   },
   "outputs": [],
   "source": [
    "corio = (-f * R.i).cross(u)"
   ]
  },
  {
   "cell_type": "code",
   "execution_count": 8,
   "metadata": {
    "scrolled": true
   },
   "outputs": [
    {
     "data": {
      "image/png": "[encoded data removed]",
      "text/latex": [
       "$$(- 2 \\Omega \\operatorname{u_{2}}{\\left (\\mathbf{{r}_{}},\\mathbf{{\\theta}_{}},\\mathbf{{\\phi}_{}} \\right )} \\cos{\\left (\\mathbf{{\\theta}_{}} \\right )})\\mathbf{\\hat{e_\\phi}_{}} + (2 \\Omega \\operatorname{u_{3}}{\\left (\\mathbf{{r}_{}},\\mathbf{{\\theta}_{}},\\mathbf{{\\phi}_{}} \\right )} \\cos{\\left (\\mathbf{{\\theta}_{}} \\right )})\\mathbf{\\hat{e_\\theta}_{}}$$"
      ],
      "text/plain": [
       "(-2⋅\\Omega⋅u₂(_r, _\\theta, _\\phi)⋅cos(_\\theta)) _e_\\phi + (2⋅\\Omega⋅u₃(_r, _\\t\n",
       "heta, _\\phi)⋅cos(_\\theta)) _e_\\theta"
      ]
     },
     "execution_count": 8,
     "metadata": {},
     "output_type": "execute_result"
    }
   ],
   "source": [
    "corio"
   ]
  },
  {
   "cell_type": "markdown",
   "metadata": {},
   "source": [
    "## Coriolis term in vorticity equation"
   ]
  },
  {
   "cell_type": "markdown",
   "metadata": {},
   "source": [
    "$\\nabla \\times (-f \\hat{e}_r \\times \\bf{u})$ is given by"
   ]
  },
  {
   "cell_type": "code",
   "execution_count": 9,
   "metadata": {
    "scrolled": false
   },
   "outputs": [
    {
     "data": {
      "image/png": "[encoded data removed]",
      "text/latex": [
       "$$\\frac{2 \\Omega}{\\mathbf{{r}_{}}} \\operatorname{u_{2}}{\\left (\\mathbf{{r}_{}},\\mathbf{{\\theta}_{}},\\mathbf{{\\phi}_{}} \\right )} \\sin{\\left (\\mathbf{{\\theta}_{}} \\right )} - \\frac{2 \\Omega \\operatorname{u_{2}}{\\left (\\mathbf{{r}_{}},\\mathbf{{\\theta}_{}},\\mathbf{{\\phi}_{}} \\right )} \\cos^{2}{\\left (\\mathbf{{\\theta}_{}} \\right )}}{\\mathbf{{r}_{}} \\sin{\\left (\\mathbf{{\\theta}_{}} \\right )}} - \\frac{2 \\Omega}{\\mathbf{{r}_{}}} \\cos{\\left (\\mathbf{{\\theta}_{}} \\right )} \\frac{\\partial}{\\partial \\mathbf{{\\theta}_{}}} \\operatorname{u_{2}}{\\left (\\mathbf{{r}_{}},\\mathbf{{\\theta}_{}},\\mathbf{{\\phi}_{}} \\right )} - \\frac{2 \\Omega \\frac{\\partial}{\\partial \\mathbf{{\\phi}_{}}} \\operatorname{u_{3}}{\\left (\\mathbf{{r}_{}},\\mathbf{{\\theta}_{}},\\mathbf{{\\phi}_{}} \\right )}}{\\mathbf{{r}_{}} \\sin{\\left (\\mathbf{{\\theta}_{}} \\right )}} \\cos{\\left (\\mathbf{{\\theta}_{}} \\right )}$$"
      ],
      "text/plain": [
       "                                                                              \n",
       "                                                                              \n",
       "2⋅\\Omega⋅u₂(_r, _\\theta, _\\phi)⋅sin(_\\theta)   2⋅\\Omega⋅u₂(_r, _\\theta, _\\phi)\n",
       "──────────────────────────────────────────── - ───────────────────────────────\n",
       "                     _r                                       _r⋅sin(_\\theta) \n",
       "\n",
       "                                          ∂                                   \n",
       "    2            2⋅\\Omega⋅cos(_\\theta)⋅────────(u₂(_r, _\\theta, _\\phi))   2⋅\\O\n",
       "⋅cos (_\\theta)                         ∂_\\theta                               \n",
       "────────────── - ────────────────────────────────────────────────────── - ────\n",
       "                                           _r                                 \n",
       "\n",
       "                    ∂                           \n",
       "mega⋅cos(_\\theta)⋅──────(u₃(_r, _\\theta, _\\phi))\n",
       "                  ∂_\\phi                        \n",
       "────────────────────────────────────────────────\n",
       "              _r⋅sin(_\\theta)                   "
      ]
     },
     "execution_count": 9,
     "metadata": {},
     "output_type": "execute_result"
    }
   ],
   "source": [
    "curl(corio).dot(R.i).expand()"
   ]
  },
  {
   "cell_type": "markdown",
   "metadata": {},
   "source": [
    "Divergence in spherical coordinates is given by:"
   ]
  },
  {
   "cell_type": "code",
   "execution_count": 10,
   "metadata": {
    "scrolled": false
   },
   "outputs": [
    {
     "data": {
      "image/png": "[encoded data removed]",
      "text/latex": [
       "$$\\frac{\\operatorname{u_{2}}{\\left (\\mathbf{{r}_{}},\\mathbf{{\\theta}_{}},\\mathbf{{\\phi}_{}} \\right )} \\cos{\\left (\\mathbf{{\\theta}_{}} \\right )}}{\\mathbf{{r}_{}} \\sin{\\left (\\mathbf{{\\theta}_{}} \\right )}} + \\frac{1}{\\mathbf{{r}_{}}} \\frac{\\partial}{\\partial \\mathbf{{\\theta}_{}}} \\operatorname{u_{2}}{\\left (\\mathbf{{r}_{}},\\mathbf{{\\theta}_{}},\\mathbf{{\\phi}_{}} \\right )} + \\frac{\\frac{\\partial}{\\partial \\mathbf{{\\phi}_{}}} \\operatorname{u_{3}}{\\left (\\mathbf{{r}_{}},\\mathbf{{\\theta}_{}},\\mathbf{{\\phi}_{}} \\right )}}{\\mathbf{{r}_{}} \\sin{\\left (\\mathbf{{\\theta}_{}} \\right )}}$$"
      ],
      "text/plain": [
       "                                         ∂                                 ∂  \n",
       "                                      ────────(u₂(_r, _\\theta, _\\phi))   ─────\n",
       "u₂(_r, _\\theta, _\\phi)⋅cos(_\\theta)   ∂_\\theta                           ∂_\\ph\n",
       "─────────────────────────────────── + ──────────────────────────────── + ─────\n",
       "          _r⋅sin(_\\theta)                            _r                       \n",
       "\n",
       "                         \n",
       "─(u₃(_r, _\\theta, _\\phi))\n",
       "i                        \n",
       "─────────────────────────\n",
       "  _r⋅sin(_\\theta)        "
      ]
     },
     "execution_count": 10,
     "metadata": {},
     "output_type": "execute_result"
    }
   ],
   "source": [
    "div.expand()"
   ]
  },
  {
   "cell_type": "markdown",
   "metadata": {},
   "source": [
    "$u_1 = 0$ in the above equation because it is the 2D divergence --- which can be separated from the expression for $\\nabla \\times (-f \\hat{e}_r \\times \\bf{u})$"
   ]
  },
  {
   "cell_type": "code",
   "execution_count": 11,
   "metadata": {},
   "outputs": [
    {
     "data": {
      "image/png": "[encoded data removed]",
      "text/latex": [
       "$$\\frac{2 \\Omega}{\\mathbf{{r}_{}}} u_{2} \\sin{\\left (\\mathbf{{\\theta}_{}} \\right )} - \\frac{2 \\Omega \\operatorname{u_{2}}{\\left (\\mathbf{{r}_{}},\\mathbf{{\\theta}_{}},\\mathbf{{\\phi}_{}} \\right )} \\cos^{2}{\\left (\\mathbf{{\\theta}_{}} \\right )}}{\\mathbf{{r}_{}} \\sin{\\left (\\mathbf{{\\theta}_{}} \\right )}} - \\frac{2 \\Omega}{\\mathbf{{r}_{}}} \\cos{\\left (\\mathbf{{\\theta}_{}} \\right )} \\frac{\\partial}{\\partial \\mathbf{{\\theta}_{}}} \\operatorname{u_{2}}{\\left (\\mathbf{{r}_{}},\\mathbf{{\\theta}_{}},\\mathbf{{\\phi}_{}} \\right )} - \\frac{2 \\Omega \\frac{\\partial}{\\partial \\mathbf{{\\phi}_{}}} \\operatorname{u_{3}}{\\left (\\mathbf{{r}_{}},\\mathbf{{\\theta}_{}},\\mathbf{{\\phi}_{}} \\right )}}{\\mathbf{{r}_{}} \\sin{\\left (\\mathbf{{\\theta}_{}} \\right )}} \\cos{\\left (\\mathbf{{\\theta}_{}} \\right )}$$"
      ],
      "text/plain": [
       "                                                                              \n",
       "                                                              2            2⋅\\\n",
       "2⋅\\Omega⋅u₂⋅sin(_\\theta)   2⋅\\Omega⋅u₂(_r, _\\theta, _\\phi)⋅cos (_\\theta)      \n",
       "──────────────────────── - ───────────────────────────────────────────── - ───\n",
       "           _r                             _r⋅sin(_\\theta)                     \n",
       "\n",
       "                      ∂                                                       \n",
       "Omega⋅cos(_\\theta)⋅────────(u₂(_r, _\\theta, _\\phi))   2⋅\\Omega⋅cos(_\\theta)⋅──\n",
       "                   ∂_\\theta                                                 ∂_\n",
       "─────────────────────────────────────────────────── - ────────────────────────\n",
       "                       _r                                               _r⋅sin\n",
       "\n",
       "∂                           \n",
       "────(u₃(_r, _\\theta, _\\phi))\n",
       "\\phi                        \n",
       "────────────────────────────\n",
       "(_\\theta)                   "
      ]
     },
     "execution_count": 11,
     "metadata": {},
     "output_type": "execute_result"
    }
   ],
   "source": [
    "(- beta * u2 - f * div).expand()"
   ]
  },
  {
   "cell_type": "markdown",
   "metadata": {},
   "source": [
    "Therefore linearized vorticity equation can be written as:\n",
    "$$\\partial_t \\zeta = -\\beta u_\\theta - f\\nabla . \\mathbf{u}$$"
   ]
  },
  {
   "cell_type": "markdown",
   "metadata": {},
   "source": [
    "## Coriolis term in divergence equation"
   ]
  },
  {
   "cell_type": "markdown",
   "metadata": {},
   "source": [
    "$\\nabla . (-f \\hat{e}_r \\times \\bf{u})$ is given by"
   ]
  },
  {
   "cell_type": "code",
   "execution_count": 12,
   "metadata": {
    "scrolled": false
   },
   "outputs": [
    {
     "data": {
      "image/png": "[encoded data removed]",
      "text/latex": [
       "$$- \\frac{2 \\Omega}{\\mathbf{{r}_{}}} \\operatorname{u_{3}}{\\left (\\mathbf{{r}_{}},\\mathbf{{\\theta}_{}},\\mathbf{{\\phi}_{}} \\right )} \\sin{\\left (\\mathbf{{\\theta}_{}} \\right )} + \\frac{2 \\Omega \\operatorname{u_{3}}{\\left (\\mathbf{{r}_{}},\\mathbf{{\\theta}_{}},\\mathbf{{\\phi}_{}} \\right )} \\cos^{2}{\\left (\\mathbf{{\\theta}_{}} \\right )}}{\\mathbf{{r}_{}} \\sin{\\left (\\mathbf{{\\theta}_{}} \\right )}} + \\frac{2 \\Omega}{\\mathbf{{r}_{}}} \\cos{\\left (\\mathbf{{\\theta}_{}} \\right )} \\frac{\\partial}{\\partial \\mathbf{{\\theta}_{}}} \\operatorname{u_{3}}{\\left (\\mathbf{{r}_{}},\\mathbf{{\\theta}_{}},\\mathbf{{\\phi}_{}} \\right )} - \\frac{2 \\Omega \\frac{\\partial}{\\partial \\mathbf{{\\phi}_{}}} \\operatorname{u_{2}}{\\left (\\mathbf{{r}_{}},\\mathbf{{\\theta}_{}},\\mathbf{{\\phi}_{}} \\right )}}{\\mathbf{{r}_{}} \\sin{\\left (\\mathbf{{\\theta}_{}} \\right )}} \\cos{\\left (\\mathbf{{\\theta}_{}} \\right )}$$"
      ],
      "text/plain": [
       "                                                                              \n",
       "                                                                              \n",
       "  2⋅\\Omega⋅u₃(_r, _\\theta, _\\phi)⋅sin(_\\theta)   2⋅\\Omega⋅u₃(_r, _\\theta, _\\ph\n",
       "- ──────────────────────────────────────────── + ─────────────────────────────\n",
       "                       _r                                       _r⋅sin(_\\theta\n",
       "\n",
       "                                            ∂                                 \n",
       "      2            2⋅\\Omega⋅cos(_\\theta)⋅────────(u₃(_r, _\\theta, _\\phi))   2⋅\n",
       "i)⋅cos (_\\theta)                         ∂_\\theta                             \n",
       "──────────────── + ────────────────────────────────────────────────────── - ──\n",
       ")                                            _r                               \n",
       "\n",
       "                      ∂                           \n",
       "\\Omega⋅cos(_\\theta)⋅──────(u₂(_r, _\\theta, _\\phi))\n",
       "                    ∂_\\phi                        \n",
       "──────────────────────────────────────────────────\n",
       "                _r⋅sin(_\\theta)                   "
      ]
     },
     "execution_count": 12,
     "metadata": {},
     "output_type": "execute_result"
    }
   ],
   "source": [
    "divergence(corio).expand()"
   ]
  },
  {
   "cell_type": "markdown",
   "metadata": {},
   "source": [
    "Vertical component of vorticity (in the $\\hat{e}_r$ direction), $\\zeta$ in spherical coordinates is given by:"
   ]
  },
  {
   "cell_type": "code",
   "execution_count": 13,
   "metadata": {
    "scrolled": false
   },
   "outputs": [
    {
     "data": {
      "image/png": "[encoded data removed]",
      "text/latex": [
       "$$\\frac{\\operatorname{u_{3}}{\\left (\\mathbf{{r}_{}},\\mathbf{{\\theta}_{}},\\mathbf{{\\phi}_{}} \\right )} \\cos{\\left (\\mathbf{{\\theta}_{}} \\right )}}{\\mathbf{{r}_{}} \\sin{\\left (\\mathbf{{\\theta}_{}} \\right )}} + \\frac{1}{\\mathbf{{r}_{}}} \\frac{\\partial}{\\partial \\mathbf{{\\theta}_{}}} \\operatorname{u_{3}}{\\left (\\mathbf{{r}_{}},\\mathbf{{\\theta}_{}},\\mathbf{{\\phi}_{}} \\right )} - \\frac{\\frac{\\partial}{\\partial \\mathbf{{\\phi}_{}}} \\operatorname{u_{2}}{\\left (\\mathbf{{r}_{}},\\mathbf{{\\theta}_{}},\\mathbf{{\\phi}_{}} \\right )}}{\\mathbf{{r}_{}} \\sin{\\left (\\mathbf{{\\theta}_{}} \\right )}}$$"
      ],
      "text/plain": [
       "                                         ∂                                 ∂  \n",
       "                                      ────────(u₃(_r, _\\theta, _\\phi))   ─────\n",
       "u₃(_r, _\\theta, _\\phi)⋅cos(_\\theta)   ∂_\\theta                           ∂_\\ph\n",
       "─────────────────────────────────── + ──────────────────────────────── - ─────\n",
       "          _r⋅sin(_\\theta)                            _r                       \n",
       "\n",
       "                         \n",
       "─(u₂(_r, _\\theta, _\\phi))\n",
       "i                        \n",
       "─────────────────────────\n",
       "  _r⋅sin(_\\theta)        "
      ]
     },
     "execution_count": 13,
     "metadata": {},
     "output_type": "execute_result"
    }
   ],
   "source": [
    "vort_r.expand()"
   ]
  },
  {
   "cell_type": "code",
   "execution_count": 14,
   "metadata": {},
   "outputs": [
    {
     "data": {
      "image/png": "[encoded data removed]",
      "text/latex": [
       "$$- \\frac{2 \\Omega}{\\mathbf{{r}_{}}} u_{3} \\sin{\\left (\\mathbf{{\\theta}_{}} \\right )} + \\frac{2 \\Omega \\operatorname{u_{3}}{\\left (\\mathbf{{r}_{}},\\mathbf{{\\theta}_{}},\\mathbf{{\\phi}_{}} \\right )} \\cos^{2}{\\left (\\mathbf{{\\theta}_{}} \\right )}}{\\mathbf{{r}_{}} \\sin{\\left (\\mathbf{{\\theta}_{}} \\right )}} + \\frac{2 \\Omega}{\\mathbf{{r}_{}}} \\cos{\\left (\\mathbf{{\\theta}_{}} \\right )} \\frac{\\partial}{\\partial \\mathbf{{\\theta}_{}}} \\operatorname{u_{3}}{\\left (\\mathbf{{r}_{}},\\mathbf{{\\theta}_{}},\\mathbf{{\\phi}_{}} \\right )} - \\frac{2 \\Omega \\frac{\\partial}{\\partial \\mathbf{{\\phi}_{}}} \\operatorname{u_{2}}{\\left (\\mathbf{{r}_{}},\\mathbf{{\\theta}_{}},\\mathbf{{\\phi}_{}} \\right )}}{\\mathbf{{r}_{}} \\sin{\\left (\\mathbf{{\\theta}_{}} \\right )}} \\cos{\\left (\\mathbf{{\\theta}_{}} \\right )}$$"
      ],
      "text/plain": [
       "                                                                              \n",
       "                                                                2            2\n",
       "  2⋅\\Omega⋅u₃⋅sin(_\\theta)   2⋅\\Omega⋅u₃(_r, _\\theta, _\\phi)⋅cos (_\\theta)    \n",
       "- ──────────────────────── + ───────────────────────────────────────────── + ─\n",
       "             _r                             _r⋅sin(_\\theta)                   \n",
       "\n",
       "                        ∂                                                     \n",
       "⋅\\Omega⋅cos(_\\theta)⋅────────(u₃(_r, _\\theta, _\\phi))   2⋅\\Omega⋅cos(_\\theta)⋅\n",
       "                     ∂_\\theta                                                 \n",
       "───────────────────────────────────────────────────── - ──────────────────────\n",
       "                         _r                                               _r⋅s\n",
       "\n",
       "  ∂                           \n",
       "──────(u₂(_r, _\\theta, _\\phi))\n",
       "∂_\\phi                        \n",
       "──────────────────────────────\n",
       "in(_\\theta)                   "
      ]
     },
     "execution_count": 14,
     "metadata": {},
     "output_type": "execute_result"
    }
   ],
   "source": [
    "(beta * u3 + f * vort_r).expand()"
   ]
  },
  {
   "cell_type": "markdown",
   "metadata": {},
   "source": [
    "Therefore linearized divergence equation can be written as:\n",
    "$$\\partial_t \\nabla.\\mathbf{u} = \\beta u_\\phi + f\\zeta - c^2 \\nabla^2 \\eta $$"
   ]
  },
  {
   "cell_type": "markdown",
   "metadata": {},
   "source": [
    "## Linearized equations in vorticity-divergence formulation $(\\zeta, \\delta, \\eta)$"
   ]
  },
  {
   "cell_type": "markdown",
   "metadata": {},
   "source": [
    "$$\n",
    "\\begin{align}\n",
    "\\partial_t \\zeta &= -\\beta u_\\theta - f\\delta \\\\\n",
    "\\partial_t \\delta &= \\beta u_\\phi + f\\zeta - c^2 \\nabla^2 \\eta \\\\\n",
    "\\partial_t \\eta &= -\\delta\n",
    "\\end{align}\n",
    "$$"
   ]
  },
  {
   "cell_type": "markdown",
   "metadata": {},
   "source": [
    "Projecting the spherical velocities onto the beta plane, $u_\\theta \\to v$ (y component) and $u_\\phi \\to u$ (x component)"
   ]
  },
  {
   "cell_type": "markdown",
   "metadata": {},
   "source": [
    "$$\n",
    "\\begin{align}\n",
    "\\partial_t \\zeta &= -\\beta v - f\\delta \\\\\n",
    "\\partial_t \\delta &= \\beta u + f\\zeta - c^2 \\nabla^2 \\eta \\\\\n",
    "\\partial_t \\eta &= -\\delta\n",
    "\\end{align}\n",
    "$$"
   ]
  },
  {
   "cell_type": "markdown",
   "metadata": {},
   "source": [
    "## Linearized equations in stream function-potential formulation $(\\Psi, \\Phi, \\eta)$"
   ]
  },
  {
   "cell_type": "markdown",
   "metadata": {},
   "source": [
    "Let stream function and velocity potential be defined as:\n",
    "\n",
    "$$ \\mathbf u = - \\nabla \\times (\\Psi \\hat{e}_z) + \\nabla \\Phi $$"
   ]
  },
  {
   "cell_type": "markdown",
   "metadata": {},
   "source": [
    "which implies the velocities are given by:\n",
    "\n",
    "$$u = -\\Psi_y + \\Phi_x$$\n",
    "$$v = \\Psi_x + \\Phi_y$$"
   ]
  },
  {
   "cell_type": "markdown",
   "metadata": {},
   "source": [
    "and also implies vorticity and divergence to be represented as:\n",
    "$$\\zeta = \\nabla^2 \\Psi$$\n",
    "$$\\delta = \\nabla^2 \\Phi$$"
   ]
  },
  {
   "cell_type": "markdown",
   "metadata": {},
   "source": [
    "$$\n",
    "\\begin{align}\n",
    "\\partial_t \\nabla^2 \\Psi &= -\\beta(\\Psi_x + \\Phi_y)  - f \\nabla^2 \\Phi \\\\\n",
    "\\partial_t \\nabla^2 \\Phi &= \\beta(-\\Psi_y + \\Phi_x) + f\\nabla^2 \\Psi  - c^2 \\nabla^2 \\eta \\\\\n",
    "\\partial_t \\eta &= -\\nabla^2 \\Phi\n",
    "\\end{align}\n",
    "$$"
   ]
  },
  {
   "cell_type": "markdown",
   "metadata": {},
   "source": [
    "**The eigenvalue problem and normal modes are solved in `normalmode_nb-beta.ipynb`**"
   ]
  }
 ],
 "metadata": {
  "kernelspec": {
   "display_name": "Python 3",
   "language": "python",
   "name": "python3"
  },
  "language_info": {
   "codemirror_mode": {
    "name": "ipython",
    "version": 3
   },
   "file_extension": ".py",
   "mimetype": "text/x-python",
   "name": "python",
   "nbconvert_exporter": "python",
   "pygments_lexer": "ipython3",
   "version": "3.6.4"
  }
 },
 "nbformat": 4,
 "nbformat_minor": 2
}
