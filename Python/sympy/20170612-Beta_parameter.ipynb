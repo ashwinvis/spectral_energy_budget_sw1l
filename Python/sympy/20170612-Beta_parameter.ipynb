{
 "cells": [
  {
   "cell_type": "markdown",
   "metadata": {},
   "source": [
    "### Following Rhines (1975)\n",
    "\n",
    "Inverse cascade to large scales ceases at a wavenumber:\n",
    "\n",
    "$k_\\beta = \\sqrt{\\frac{\\beta}{2U}}$\n",
    "\n",
    "Forcing to beta-effect length scale ratio \n",
    "\n",
    "$C_\\beta = \\frac{k_\\beta}{k_f} = \\frac{\\beta ^ {1/2}}{k_f (2U)^{1/2}}$"
   ]
  },
  {
   "cell_type": "markdown",
   "metadata": {},
   "source": [
    "$P \\sim \\epsilon \\sim \\frac{U^3}{L}$"
   ]
  },
  {
   "cell_type": "markdown",
   "metadata": {},
   "source": [
    "$U \\sim (P L) ^ {1/3}$"
   ]
  },
  {
   "cell_type": "markdown",
   "metadata": {},
   "source": [
    "$C_\\beta = \\frac{\\beta ^ {1/2}}{\\sqrt{2} k_f P^{1/6} L^{1/6}} = 1/2, 1/10, ... 0 $"
   ]
  },
  {
   "cell_type": "markdown",
   "metadata": {},
   "source": [
    "### Maltrud and Vallis (1991)\n",
    "\n",
    "$k_\\beta = \\left( \\frac{\\beta}{\\epsilon} \\right) ^ {1/5}$"
   ]
  },
  {
   "cell_type": "markdown",
   "metadata": {},
   "source": [
    "### Erik\n",
    "$\\beta = 2 \\Omega \\sin \\theta / a$\n",
    "\n",
    "$Bu = Ro^2 / Fr^2 = (L_d / a) ^ 2$"
   ]
  },
  {
   "cell_type": "code",
   "execution_count": null,
   "metadata": {
    "collapsed": true
   },
   "outputs": [],
   "source": []
  }
 ],
 "metadata": {
  "kernelspec": {
   "display_name": "Python 2",
   "language": "python2",
   "name": "python2"
  },
  "language_info": {
   "codemirror_mode": {
    "name": "ipython",
    "version": 2
   },
   "file_extension": ".py",
   "mimetype": "text/x-python",
   "name": "python",
   "nbconvert_exporter": "python",
   "pygments_lexer": "ipython2",
   "version": "2.7.13"
  }
 },
 "nbformat": 4,
 "nbformat_minor": 2
}
