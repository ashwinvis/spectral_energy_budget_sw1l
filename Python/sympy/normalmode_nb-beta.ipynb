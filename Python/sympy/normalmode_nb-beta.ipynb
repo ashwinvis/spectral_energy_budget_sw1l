{
 "cells": [
  {
   "cell_type": "markdown",
   "metadata": {},
   "source": [
    "## The governing equations\n",
    "\n",
    "\\begin{align}\n",
    "  \\partial_t \\mathbf u \n",
    "      = &- (\\mathbf{u}.\\nabla) \\mathbf{u} - c^2 \\nabla h - f\\mathbf{e_z} \\times \n",
    "\\mathbf u  \\\\\n",
    "  \\partial_t h \n",
    "      =& - \\nabla. (h \\mathbf u)\n",
    "\\end{align}\n",
    "\n",
    "Equations may also be written in the \\textit{rotational form} as:\n",
    "    \n",
    "\\begin{equation}\n",
    " \\partial_t \\mathbf u \n",
    " = - \\nabla |\\mathbf u|^2/2 - c^2 \\nabla h - \\zeta \\times \\mathbf u\n",
    "\\end{equation}\n",
    "where, $\\zeta$\n",
    "represents absolute vorticity, i.e. the sum of vorticity and system rotation.\n"
   ]
  },
  {
   "cell_type": "markdown",
   "metadata": {},
   "source": [
    "## Linearised governing equations\n",
    "  \\begin{align}\n",
    "    \\partial_t \\mathbf u =& - c^2 \\nabla \\eta - f\\mathbf{e_z} \\times \\mathbf u  \\\\\n",
    "    \\partial_t \\eta =& - \\nabla.  \\mathbf u \n",
    "  \\end{align}\n",
    "  \n",
    "Taking curl and divergence of the linearized equation for momentum  gives the following evolution equations with change of variables:\n",
    "\n",
    "  \\begin{align}\n",
    "    \\partial_t \\zeta =& - f \\delta\\\\ \n",
    "    \\partial_t \\delta =&  f \\zeta - c^2 \\nabla^2 \\eta \\\\\n",
    "    \\partial_t \\eta =& - \\delta\n",
    "  \\end{align}"
   ]
  },
  {
   "cell_type": "markdown",
   "metadata": {},
   "source": [
    "## Linearised governing equations\n",
    "\n",
    "### without beta effect\n",
    "  \\begin{align}\n",
    "    \\partial_t \\mathbf u =& - c^2 \\nabla \\eta - f\\mathbf{e_z} \\times \\mathbf u  \\\\\n",
    "    \\partial_t \\eta =& - \\nabla.  \\mathbf u \n",
    "  \\end{align}\n",
    "  \n",
    "Taking curl and divergence of the linearized equation for momentum  gives the following evolution equations with change of variables:\n",
    "\n",
    "  \\begin{align}\n",
    "    \\partial_t \\zeta =& - f \\delta\\\\ \n",
    "    \\partial_t \\delta =&  f \\zeta - c^2 \\nabla^2 \\eta \\\\\n",
    "    \\partial_t \\eta =& - \\delta\n",
    "  \\end{align}\n",
    "   "
   ]
  },
  {
   "cell_type": "markdown",
   "metadata": {},
   "source": [
    "as an eigenvalue problem:\n",
    "\\begin{align}\n",
    " i\\omega\n",
    "   \\begin{Bmatrix}\n",
    "       \\hat{\\zeta} \\\\ \\hat{\\delta} \\\\c\\kappa\\hat{\\eta}\n",
    "  \\end{Bmatrix}\n",
    "  = i\n",
    "  \\begin{bmatrix}\n",
    "     0 & if & 0 \\\\\n",
    "   -if &  0 & -ic\\kappa \\\\\n",
    "     0 & ic\\kappa & 0 \n",
    "  \\end{bmatrix}\n",
    "  \\begin{Bmatrix}\n",
    "       \\hat{\\zeta} \\\\ \\hat{\\delta} \\\\c\\kappa\\hat{\\eta}\n",
    "  \\end{Bmatrix}\n",
    "\\end{align}\n",
    "where, $\\kappa = |\\mathbf{k}|$."
   ]
  },
  {
   "cell_type": "markdown",
   "metadata": {},
   "source": [
    "### with beta effect\n",
    "  \\begin{align}\n",
    "    \\partial_t u =& - c^2 \\partial_x \\eta + (f+\\beta y)v  \\\\\n",
    "    \\partial_t v =& - c^2 \\partial_y \\eta - (f+\\beta y)u  \\\\\n",
    "    \\partial_t \\eta =& - \\nabla.  \\mathbf u \n",
    "  \\end{align}"
   ]
  },
  {
   "cell_type": "markdown",
   "metadata": {},
   "source": [
    "#### IMPORTANT: must be derived from spherical coordinates!\n",
    "\n",
    "Taking curl and divergence of the linearized equation for momentum  gives the following evolution equations with change of variables:\n",
    "\n",
    "  \\begin{align}\n",
    "    \\partial_t \\zeta =& - f \\delta  - v \\beta \\\\ \n",
    "    \\partial_t \\delta =&  f \\zeta + u \\beta - c^2 \\nabla^2 \\eta \\\\\n",
    "    \\partial_t \\eta =& - \\delta\n",
    "  \\end{align}\n",
    "   "
   ]
  },
  {
   "cell_type": "markdown",
   "metadata": {},
   "source": [
    "Apply helmholtz decomposition,\n",
    "\n",
    "$\\mathbf u = - (\\nabla \\times e_z \\psi) + \\nabla \\chi$"
   ]
  },
  {
   "cell_type": "markdown",
   "metadata": {},
   "source": [
    "\\begin{align}\n",
    "        u &= -\\psi_y + \\chi_x \\\\\n",
    "        v &= \\psi_x + \\chi_y \\\\\n",
    "        \\zeta &= \\nabla^2 \\psi \\\\\n",
    "        \\delta &= \\nabla^2 \\chi\n",
    "\\end{align}"
   ]
  },
  {
   "cell_type": "markdown",
   "metadata": {},
   "source": [
    "as an eigenvalue problem:\n",
    "\\begin{align}\n",
    " &i\\omega\n",
    "   \\begin{Bmatrix}\n",
    "       \\hat{\\psi} \\\\ \\hat{\\chi} \\\\ c\\hat{\\eta}/\\kappa\n",
    "  \\end{Bmatrix}\\\\\n",
    " =&\n",
    "  \\begin{bmatrix}\n",
    "     -i\\beta k_x/\\kappa^2 & f - i\\beta k_y/\\kappa^2 & 0 \\\\\n",
    "     -f-i\\beta k_y/\\kappa^2 &  +i\\beta k_x/\\kappa^2 & c \\kappa \\\\\n",
    "     0 & -c\\kappa & 0 \n",
    "  \\end{bmatrix}\n",
    "  \\begin{Bmatrix}\n",
    "       \\hat{\\psi} \\\\ \\hat{\\chi} \\\\ c\\hat{\\eta}/\\kappa\n",
    "  \\end{Bmatrix}\n",
    "\\end{align}\n"
   ]
  },
  {
   "cell_type": "markdown",
   "metadata": {},
   "source": [
    "\\begin{align}\n",
    " =& i\n",
    "  \\begin{bmatrix}\n",
    "     -\\beta k_x/\\kappa^2 & -if - \\beta k_y/\\kappa^2 & 0 \\\\\n",
    "     if-\\beta k_y/\\kappa^2 &  \\beta k_x/\\kappa^2 & -ic \\kappa \\\\\n",
    "     0 & ic\\kappa & 0 \n",
    "  \\end{bmatrix}\n",
    "  \\begin{Bmatrix}\n",
    "       \\hat{\\psi} \\\\ \\hat{\\chi} \\\\ c\\hat{\\eta}/\\kappa\n",
    "  \\end{Bmatrix}\n",
    "\\end{align}"
   ]
  },
  {
   "cell_type": "code",
   "execution_count": 2,
   "metadata": {
    "collapsed": true
   },
   "outputs": [],
   "source": [
    "# coding: utf-8\n",
    "from sympy import *\n",
    "from sympy.abc import psi, chi, eta, beta, omega\n",
    "\n",
    "init_printing()\n",
    "f, ck, c = symbols('f ck c', real=True)\n",
    "sigma, kappa = symbols(r'\\sigma \\kappa', real=True)\n",
    "kx, ky, kh =  symbols('k_x k_y k_h', real=True)\n",
    "u,v =  symbols('u v')\n",
    "\n",
    "def subsigma(M):\n",
    "    M = M.subs(f**2 + ck**2,  sigma**2)\n",
    "    M = M.subs(f**2 + c**2*kappa**2, sigma**2)\n",
    "    return M\n",
    "    \n",
    "def simplifysigma(M):\n",
    "    M = M.subs(sigma, sqrt(f**2 + ck**2) )\n",
    "    M = simplify(M)\n",
    "    return subsigma(M)\n",
    "    \n",
    "def subkappa(M):\n",
    "    M = M.subs(kx**2 + ky**2,  kappa**2)\n",
    "    M = M.subs(kh*kh.conjugate(), kappa**2)\n",
    "    M = M.subs(kx*kx.conjugate() + ky*ky.conjugate(), kappa**2)\n",
    "    return M\n",
    "\n",
    "def simplifykappa(M):\n",
    "    M = M.subs(kappa, sqrt(kx**2 + ky**2))\n",
    "    M = M.subs(kh, sqrt(kx**2 + ky**2))\n",
    "    M = simplify(M)\n",
    "    return subkappa(M)\n",
    "    \n",
    "def subck(M):\n",
    "    return M.subs(ck,c*kappa)"
   ]
  },
  {
   "cell_type": "code",
   "execution_count": 3,
   "metadata": {},
   "outputs": [
    {
     "name": "stdout",
     "output_type": "stream",
     "text": [
      "Eigenvectors: \n"
     ]
    }
   ],
   "source": [
    "A = Matrix(([-beta*kx/kappa**2, -1j*f - beta*ky/kappa**2, 0],\n",
    "            [1j*f - beta*ky/kappa**2, beta*kx/kappa**2, -1j*c*kappa],\n",
    "            [0,1j*c*kappa,0]))\n",
    "L = A.eigenvals()\n",
    "X = A.eigenvects()\n"
   ]
  },
  {
   "cell_type": "code",
   "execution_count": 4,
   "metadata": {
    "scrolled": true
   },
   "outputs": [
    {
     "data": {
      "image/png": "[encoded data removed]",
      "text/latex": [
       "$$\\left \\{ - \\frac{1}{3} \\left(- \\frac{1}{2} - \\frac{\\sqrt{3} i}{2}\\right) \\sqrt[3]{- \\frac{27 \\beta}{2} c^{2} k_{x} + \\frac{1}{2} \\sqrt{729 \\beta^{2} c^{4} k_{x}^{2} + \\frac{108}{\\kappa^{12}} \\left(- \\kappa^{6} c^{2} - \\kappa^{4} f^{2} - \\beta^{2} k_{x}^{2} - \\beta^{2} k_{y}^{2}\\right)^{3}}} + \\frac{- \\kappa^{6} c^{2} - \\kappa^{4} f^{2} - \\beta^{2} k_{x}^{2} - \\beta^{2} k_{y}^{2}}{\\kappa^{4} \\left(- \\frac{1}{2} - \\frac{\\sqrt{3} i}{2}\\right) \\sqrt[3]{- \\frac{27 \\beta}{2} c^{2} k_{x} + \\frac{1}{2} \\sqrt{729 \\beta^{2} c^{4} k_{x}^{2} + \\frac{108}{\\kappa^{12}} \\left(- \\kappa^{6} c^{2} - \\kappa^{4} f^{2} - \\beta^{2} k_{x}^{2} - \\beta^{2} k_{y}^{2}\\right)^{3}}}} : 1, \\quad - \\frac{1}{3} \\left(- \\frac{1}{2} + \\frac{\\sqrt{3} i}{2}\\right) \\sqrt[3]{- \\frac{27 \\beta}{2} c^{2} k_{x} + \\frac{1}{2} \\sqrt{729 \\beta^{2} c^{4} k_{x}^{2} + \\frac{108}{\\kappa^{12}} \\left(- \\kappa^{6} c^{2} - \\kappa^{4} f^{2} - \\beta^{2} k_{x}^{2} - \\beta^{2} k_{y}^{2}\\right)^{3}}} + \\frac{- \\kappa^{6} c^{2} - \\kappa^{4} f^{2} - \\beta^{2} k_{x}^{2} - \\beta^{2} k_{y}^{2}}{\\kappa^{4} \\left(- \\frac{1}{2} + \\frac{\\sqrt{3} i}{2}\\right) \\sqrt[3]{- \\frac{27 \\beta}{2} c^{2} k_{x} + \\frac{1}{2} \\sqrt{729 \\beta^{2} c^{4} k_{x}^{2} + \\frac{108}{\\kappa^{12}} \\left(- \\kappa^{6} c^{2} - \\kappa^{4} f^{2} - \\beta^{2} k_{x}^{2} - \\beta^{2} k_{y}^{2}\\right)^{3}}}} : 1, \\quad - \\frac{1}{3} \\sqrt[3]{- \\frac{27 \\beta}{2} c^{2} k_{x} + \\frac{1}{2} \\sqrt{729 \\beta^{2} c^{4} k_{x}^{2} + \\frac{108}{\\kappa^{12}} \\left(- \\kappa^{6} c^{2} - \\kappa^{4} f^{2} - \\beta^{2} k_{x}^{2} - \\beta^{2} k_{y}^{2}\\right)^{3}}} + \\frac{- \\kappa^{6} c^{2} - \\kappa^{4} f^{2} - \\beta^{2} k_{x}^{2} - \\beta^{2} k_{y}^{2}}{\\kappa^{4} \\sqrt[3]{- \\frac{27 \\beta}{2} c^{2} k_{x} + \\frac{1}{2} \\sqrt{729 \\beta^{2} c^{4} k_{x}^{2} + \\frac{108}{\\kappa^{12}} \\left(- \\kappa^{6} c^{2} - \\kappa^{4} f^{2} - \\beta^{2} k_{x}^{2} - \\beta^{2} k_{y}^{2}\\right)^{3}}}} : 1\\right \\}$$"
      ],
      "text/plain": [
       "⎧                         ____________________________________________________\n",
       "⎪                        ╱                       _____________________________\n",
       "⎪                       ╱                       ╱                             \n",
       "⎪                      ╱                       ╱                      ⎛       \n",
       "⎪                     ╱                       ╱        2  4   2   108⋅⎝- \\kapp\n",
       "⎪                    ╱                       ╱    729⋅β ⋅c ⋅kₓ  + ────────────\n",
       "⎪                   ╱              2        ╱                                 \n",
       "⎪  ⎛  1   √3⋅ⅈ⎞    ╱         27⋅β⋅c ⋅kₓ   ╲╱                                  \n",
       "⎪  ⎜- ─ - ────⎟⋅3 ╱        - ────────── + ────────────────────────────────────\n",
       "⎪  ⎝  2    2  ⎠ ╲╱               2                                            \n",
       "⎨- ───────────────────────────────────────────────────────────────────────────\n",
       "⎪                                                           3                 \n",
       "⎪                                                                             \n",
       "⎪                                                                             \n",
       "⎪                                                                             \n",
       "⎪                                                                             \n",
       "⎪                                                                             \n",
       "⎪                                                                             \n",
       "⎪                                                                             \n",
       "⎪                                                                             \n",
       "⎩                                                                             \n",
       "\n",
       "_________________________________________                                     \n",
       "________________________________________                                      \n",
       "                                      3                                       \n",
       " 6  2         4  2    2   2    2    2⎞                                        \n",
       "a ⋅c  - \\kappa ⋅f  - β ⋅kₓ  - β ⋅k_y ⎠                                        \n",
       "───────────────────────────────────────                                       \n",
       "                12                                                            \n",
       "          \\kappa                                                              \n",
       "────────────────────────────────────────                                      \n",
       " 2                                                                            \n",
       "───────────────────────────────────────── + ──────────────────────────────────\n",
       "                                                                           ___\n",
       "                                                                          ╱   \n",
       "                                                                         ╱    \n",
       "                                                                        ╱     \n",
       "                                                                       ╱      \n",
       "                                                                      ╱       \n",
       "                                                                     ╱        \n",
       "                                                  4 ⎛  1   √3⋅ⅈ⎞    ╱         \n",
       "                                            \\kappa ⋅⎜- ─ - ────⎟⋅3 ╱        - \n",
       "                                                    ⎝  2    2  ⎠ ╲╱           \n",
       "\n",
       "                                                                              \n",
       "                                                                              \n",
       "                                                                              \n",
       "                                                                              \n",
       "                                                                              \n",
       "                                                                              \n",
       "                                                                              \n",
       "                                                                              \n",
       "              6  2         4  2    2   2    2    2                            \n",
       "      - \\kappa ⋅c  - \\kappa ⋅f  - β ⋅kₓ  - β ⋅k_y                             \n",
       "──────────────────────────────────────────────────────────────────────────────\n",
       "______________________________________________________________________________\n",
       "                    __________________________________________________________\n",
       "                   ╱                                                          \n",
       "                  ╱                      ⎛        6  2         4  2    2   2  \n",
       "                 ╱        2  4   2   108⋅⎝- \\kappa ⋅c  - \\kappa ⋅f  - β ⋅kₓ  -\n",
       "                ╱    729⋅β ⋅c ⋅kₓ  + ─────────────────────────────────────────\n",
       "      2        ╱                                                 12           \n",
       "27⋅β⋅c ⋅kₓ   ╲╱                                            \\kappa             \n",
       "────────── + ─────────────────────────────────────────────────────────────────\n",
       "    2                                             2                           \n",
       "\n",
       "                                          ____________________________________\n",
       "                                         ╱                       _____________\n",
       "                                        ╱                       ╱             \n",
       "                                       ╱                       ╱              \n",
       "                                      ╱                       ╱        2  4   \n",
       "                                     ╱                       ╱    729⋅β ⋅c ⋅kₓ\n",
       "                                    ╱              2        ╱                 \n",
       "                   ⎛  1   √3⋅ⅈ⎞    ╱         27⋅β⋅c ⋅kₓ   ╲╱                  \n",
       "                   ⎜- ─ + ────⎟⋅3 ╱        - ────────── + ────────────────────\n",
       "                   ⎝  2    2  ⎠ ╲╱               2                            \n",
       "────────────: 1, - ───────────────────────────────────────────────────────────\n",
       "____________                                                                3 \n",
       "___________                                                                   \n",
       "         3                                                                    \n",
       "  2    2⎞                                                                     \n",
       " β ⋅k_y ⎠                                                                     \n",
       "──────────                                                                    \n",
       "                                                                              \n",
       "                                                                              \n",
       "───────────                                                                   \n",
       "                                                                              \n",
       "\n",
       "_________________________________________________________                     \n",
       "________________________________________________________                      \n",
       "                                                      3                       \n",
       "        ⎛        6  2         4  2    2   2    2    2⎞                        \n",
       "2   108⋅⎝- \\kappa ⋅c  - \\kappa ⋅f  - β ⋅kₓ  - β ⋅k_y ⎠                        \n",
       "  + ───────────────────────────────────────────────────                       \n",
       "                                12                                            \n",
       "                          \\kappa                                              \n",
       "────────────────────────────────────────────────────────                      \n",
       "                 2                                                            \n",
       "───────────────────────────────────────────────────────── + ──────────────────\n",
       "                                                                              \n",
       "                                                                              \n",
       "                                                                              \n",
       "                                                                              \n",
       "                                                                              \n",
       "                                                                              \n",
       "                                                                              \n",
       "                                                                  4 ⎛  1   √3⋅\n",
       "                                                            \\kappa ⋅⎜- ─ + ───\n",
       "                                                                    ⎝  2    2 \n",
       "\n",
       "                                                                              \n",
       "                                                                              \n",
       "                                                                              \n",
       "                                                                              \n",
       "                                                                              \n",
       "                                                                              \n",
       "                                                                              \n",
       "                                                                              \n",
       "                              6  2         4  2    2   2    2    2            \n",
       "                      - \\kappa ⋅c  - \\kappa ⋅f  - β ⋅kₓ  - β ⋅k_y             \n",
       "──────────────────────────────────────────────────────────────────────────────\n",
       "             _________________________________________________________________\n",
       "            ╱                       __________________________________________\n",
       "           ╱                       ╱                                          \n",
       "          ╱                       ╱                      ⎛        6  2        \n",
       "         ╱                       ╱        2  4   2   108⋅⎝- \\kappa ⋅c  - \\kapp\n",
       "        ╱                       ╱    729⋅β ⋅c ⋅kₓ  + ─────────────────────────\n",
       "       ╱              2        ╱                                              \n",
       "ⅈ⎞    ╱         27⋅β⋅c ⋅kₓ   ╲╱                                            \\ka\n",
       "─⎟⋅3 ╱        - ────────── + ─────────────────────────────────────────────────\n",
       " ⎠ ╲╱               2                                             2           \n",
       "\n",
       "                                             _________________________________\n",
       "                                            ╱                       __________\n",
       "                                           ╱                       ╱          \n",
       "                                          ╱                       ╱           \n",
       "                                         ╱                       ╱        2  4\n",
       "                                        ╱                       ╱    729⋅β ⋅c \n",
       "                                       ╱              2        ╱              \n",
       "                                      ╱         27⋅β⋅c ⋅kₓ   ╲╱               \n",
       "                                   3 ╱        - ────────── + ─────────────────\n",
       "                                   ╲╱               2                         \n",
       "────────────────────────────: 1, - ───────────────────────────────────────────\n",
       "____________________________                                                  \n",
       "___________________________                                                   \n",
       "                         3                                                    \n",
       " 4  2    2   2    2    2⎞                                                     \n",
       "a ⋅f  - β ⋅kₓ  - β ⋅k_y ⎠                                                     \n",
       "──────────────────────────                                                    \n",
       "   12                                                                         \n",
       "ppa                                                                           \n",
       "───────────────────────────                                                   \n",
       "                                                                              \n",
       "\n",
       "____________________________________________________________                  \n",
       "___________________________________________________________                   \n",
       "                                                         3                    \n",
       "           ⎛        6  2         4  2    2   2    2    2⎞                     \n",
       "   2   108⋅⎝- \\kappa ⋅c  - \\kappa ⋅f  - β ⋅kₓ  - β ⋅k_y ⎠                     \n",
       "⋅kₓ  + ───────────────────────────────────────────────────                    \n",
       "                                   12                                         \n",
       "                             \\kappa                                           \n",
       "───────────────────────────────────────────────────────────                   \n",
       "                    2                                                         \n",
       "──────────────────────────────────────────────────────────── + ───────────────\n",
       "        3                                                                     \n",
       "                                                                              \n",
       "                                                                              \n",
       "                                                                              \n",
       "                                                                             ╱\n",
       "                                                                            ╱ \n",
       "                                                                           ╱  \n",
       "                                                                     4    ╱   \n",
       "                                                               \\kappa ⋅3 ╱    \n",
       "                                                                       ╲╱     \n",
       "\n",
       "                                                                              \n",
       "                                                                              \n",
       "                                                                              \n",
       "                                                                              \n",
       "                                                                              \n",
       "                                                                              \n",
       "                                                                              \n",
       "                                                                              \n",
       "                           6  2         4  2    2   2    2    2               \n",
       "                   - \\kappa ⋅c  - \\kappa ⋅f  - β ⋅kₓ  - β ⋅k_y                \n",
       "──────────────────────────────────────────────────────────────────────────────\n",
       "   ___________________________________________________________________________\n",
       "  ╱                       ____________________________________________________\n",
       " ╱                       ╱                                                    \n",
       "╱                       ╱                      ⎛        6  2         4  2    2\n",
       "                       ╱        2  4   2   108⋅⎝- \\kappa ⋅c  - \\kappa ⋅f  - β \n",
       "                      ╱    729⋅β ⋅c ⋅kₓ  + ───────────────────────────────────\n",
       "            2        ╱                                                 12     \n",
       "      27⋅β⋅c ⋅kₓ   ╲╱                                            \\kappa       \n",
       "    - ────────── + ───────────────────────────────────────────────────────────\n",
       "          2                                             2                     \n",
       "\n",
       "                     ⎫\n",
       "                     ⎪\n",
       "                     ⎪\n",
       "                     ⎪\n",
       "                     ⎪\n",
       "                     ⎪\n",
       "                     ⎪\n",
       "                     ⎪\n",
       "                     ⎪\n",
       "                     ⎪\n",
       "──────────────────: 1⎬\n",
       "__________________   ⎪\n",
       "_________________    ⎪\n",
       "               3     ⎪\n",
       "   2    2    2⎞      ⎪\n",
       "⋅kₓ  - β ⋅k_y ⎠      ⎪\n",
       "────────────────     ⎪\n",
       "                     ⎪\n",
       "                     ⎪\n",
       "─────────────────    ⎪\n",
       "                     ⎭"
      ]
     },
     "execution_count": 4,
     "metadata": {},
     "output_type": "execute_result"
    }
   ],
   "source": [
    "L"
   ]
  },
  {
   "cell_type": "code",
   "execution_count": 5,
   "metadata": {},
   "outputs": [
    {
     "data": {
      "image/png": "[encoded data removed]",
      "text/latex": [
       "$$\\operatorname{PurePoly}{\\left( - 1.0 \\beta c^{2} k_{x} + 1.0 \\omega^{3} + \\frac{1.0 \\omega}{\\kappa^{4}} \\left(- 1.0 \\kappa^{6} c^{2} - 1.0 \\kappa^{4} f^{2} - 1.0 \\beta^{2} k_{x}^{2} - 1.0 \\beta^{2} k_{y}^{2}\\right), \\omega, domain=\\mathbb{R}\\left(c, f, \\kappa, \\beta, k_{x}, k_{y}\\right) \\right)}$$"
      ],
      "text/plain": [
       "PurePoly(1.0*omega**3 + 1.0*(-1.0*\\kappa**6*c**2 - 1.0*\\kappa**4*f**2 - 1.0*be\n",
       "ta**2*k_x**2 - 1.0*beta**2*k_y**2)/\\kappa**4*omega - 1.0*beta*c**2*k_x, omega,\n",
       " domain='RR(c,f,\\kappa,beta,k_x,k_y)')"
      ]
     },
     "execution_count": 5,
     "metadata": {},
     "output_type": "execute_result"
    }
   ],
   "source": [
    "A.charpoly(omega)"
   ]
  },
  {
   "cell_type": "code",
   "execution_count": null,
   "metadata": {},
   "outputs": [
    {
     "data": {
      "image/png": "[encoded data removed]",
      "text/latex": [
       "$$\\left[\\begin{matrix}- \\frac{\\beta k_{x}}{\\kappa^{2}} & - 1.0 i f - \\frac{\\beta k_{y}}{\\kappa^{2}} & 0\\\\1.0 i f - \\frac{\\beta k_{y}}{\\kappa^{2}} & \\frac{\\beta k_{x}}{\\kappa^{2}} & - 1.0 i \\kappa c\\\\0 & 1.0 i \\kappa c & 0\\end{matrix}\\right]$$"
      ],
      "text/plain": [
       "⎡      -β⋅kₓ                    β⋅k_y                  ⎤\n",
       "⎢     ───────       -1.0⋅ⅈ⋅f - ───────         0       ⎥\n",
       "⎢           2                        2                 ⎥\n",
       "⎢     \\kappa                   \\kappa                  ⎥\n",
       "⎢                                                      ⎥\n",
       "⎢           β⋅k_y          β⋅kₓ                        ⎥\n",
       "⎢1.0⋅ⅈ⋅f - ───────       ───────        -1.0⋅ⅈ⋅\\kappa⋅c⎥\n",
       "⎢                2             2                       ⎥\n",
       "⎢          \\kappa        \\kappa                        ⎥\n",
       "⎢                                                      ⎥\n",
       "⎣        0            1.0⋅ⅈ⋅\\kappa⋅c           0       ⎦"
      ]
     },
     "execution_count": 6,
     "metadata": {},
     "output_type": "execute_result"
    }
   ],
   "source": [
    "A"
   ]
  },
  {
   "cell_type": "code",
   "execution_count": null,
   "metadata": {},
   "outputs": [],
   "source": [
    "XX = A.diagonalize()[0]\n",
    "XX = subsigma(XX)\n",
    "sig = sqrt(f**2 + ck**2)\n",
    "\n",
    "NORM = eye(3)\n",
    "NORM[0,0] = f/sig\n",
    "NORM[1,1] = ck/(sig*sqrt(2))\n",
    "NORM[2,2] = ck/(sig*sqrt(2))\n",
    "XN = subsigma(XX*NORM)\n",
    "\n",
    "#CONJ = eye(3)\n",
    "#CONJ[1,1] = -1\n",
    "#XNCT = (CONJ*XN).transpose()\n",
    "XNCT = XN.conjugate().transpose()\n",
    "#XNCT = subsigma(XNCT)\n",
    " \n",
    "#------------Check-----------#\n",
    "ID = simplifysigma(XN*XNCT)\n",
    "print 'Identity matrix:'"
   ]
  },
  {
   "cell_type": "code",
   "execution_count": null,
   "metadata": {
    "collapsed": true,
    "scrolled": true
   },
   "outputs": [],
   "source": [
    "ID"
   ]
  },
  {
   "cell_type": "code",
   "execution_count": null,
   "metadata": {
    "collapsed": true
   },
   "outputs": [],
   "source": [
    "print 'Norm. Eigenvector matrix Xn:'"
   ]
  },
  {
   "cell_type": "code",
   "execution_count": null,
   "metadata": {
    "collapsed": true,
    "scrolled": false
   },
   "outputs": [],
   "source": [
    "XN"
   ]
  },
  {
   "cell_type": "code",
   "execution_count": null,
   "metadata": {
    "collapsed": true
   },
   "outputs": [],
   "source": [
    "W = Matrix( [psi, -phi, c*eta/kappa] ) * kappa ** 2\n",
    "U = Matrix( [u,v,eta] )\n",
    "P = Matrix(( [-1j*ky, 1j*kx, 0],[1j*kx,1j*ky,0],[0,0,kappa] ))\n",
    "\n",
    "Pinv = simplifykappa(P.inv())\n",
    "XNCTinv = simplifysigma(XNCT.inv())\n",
    "\n",
    "Q = Pinv*(XNCTinv)\n",
    "Q = simplifysigma(Q)\n",
    "Q = simplifykappa(Q)\n",
    "Q = subck(Q)"
   ]
  },
  {
   "cell_type": "code",
   "execution_count": null,
   "metadata": {
    "collapsed": true
   },
   "outputs": [],
   "source": [
    "print 'inversion:'; Pinv"
   ]
  },
  {
   "cell_type": "code",
   "execution_count": null,
   "metadata": {
    "collapsed": true,
    "scrolled": false
   },
   "outputs": [],
   "source": [
    "U,Q,W"
   ]
  },
  {
   "cell_type": "code",
   "execution_count": null,
   "metadata": {
    "collapsed": true
   },
   "outputs": [],
   "source": [
    "NORM = eye(3)\n",
    "NORM[2,2] = c\n",
    "U = NORM*U\n",
    "#Q = NORM*Q\n",
    "#W = NORM*W"
   ]
  },
  {
   "cell_type": "code",
   "execution_count": null,
   "metadata": {
    "collapsed": true
   },
   "outputs": [],
   "source": [
    "U, Q, W"
   ]
  },
  {
   "cell_type": "code",
   "execution_count": null,
   "metadata": {
    "collapsed": true
   },
   "outputs": [],
   "source": [
    "#RHS BB*\n",
    "N = XNCT*W\n",
    "B = expand(subck(N / kappa))\n",
    "B = simplifysigma(B)"
   ]
  },
  {
   "cell_type": "code",
   "execution_count": null,
   "metadata": {
    "collapsed": true
   },
   "outputs": [],
   "source": [
    "collect_list = [psi*psi.conjugate(), eta*eta.conjugate(), phi*phi.conjugate(),\n",
    "                psi*phi.conjugate(), psi*eta.conjugate(),\n",
    "                phi*psi.conjugate(), phi*eta.conjugate(),\n",
    "                eta*psi.conjugate(), eta*phi.conjugate()]"
   ]
  },
  {
   "cell_type": "code",
   "execution_count": null,
   "metadata": {
    "collapsed": true,
    "scrolled": true
   },
   "outputs": [],
   "source": [
    "BB2 = subck(simplifykappa(expand(B.conjugate().dot(B))))\n",
    "collect(BB2,collect_list)"
   ]
  },
  {
   "cell_type": "code",
   "execution_count": null,
   "metadata": {
    "collapsed": true
   },
   "outputs": [],
   "source": [
    "kappa**2 * psi*psi.conjugate() + kappa**2 * phi*phi.conjugate() + c**2 * eta*eta.conjugate()"
   ]
  },
  {
   "cell_type": "code",
   "execution_count": null,
   "metadata": {
    "collapsed": true,
    "scrolled": false
   },
   "outputs": [],
   "source": [
    "#LHS uu*\n",
    "U.transpose().conjugate()*U"
   ]
  },
  {
   "cell_type": "code",
   "execution_count": null,
   "metadata": {
    "collapsed": true
   },
   "outputs": [],
   "source": [
    "simplifykappa(Q.transpose()*Q)"
   ]
  },
  {
   "cell_type": "code",
   "execution_count": null,
   "metadata": {
    "collapsed": true
   },
   "outputs": [],
   "source": [
    "#U=[Q]W\n",
    "QW = Q*W"
   ]
  },
  {
   "cell_type": "code",
   "execution_count": null,
   "metadata": {
    "collapsed": true,
    "scrolled": false
   },
   "outputs": [],
   "source": [
    "#collect(subck(simplifykappa(expand(QW.transpose().conjugate()*QW))), collect_list)\n",
    "QW2 = QW.conjugate().dot(QW)\n",
    "QW2 = simplifysigma(subck((simplifykappa(expand(QW.conjugate().dot(QW))))))\n",
    "QW2 = collect(QW2,collect_list)\n",
    "QW2"
   ]
  },
  {
   "cell_type": "code",
   "execution_count": null,
   "metadata": {
    "collapsed": true
   },
   "outputs": [],
   "source": [
    "simplifykappa(collect( U.conjugate().dot((P.conjugate().transpose()*P)*U) , \n",
    "        [u*u.conjugate(), v*v.conjugate(), eta*eta.conjugate()]))"
   ]
  },
  {
   "cell_type": "code",
   "execution_count": null,
   "metadata": {
    "collapsed": true
   },
   "outputs": [],
   "source": [
    "subkappa(P.conjugate().transpose()*P)"
   ]
  },
  {
   "cell_type": "code",
   "execution_count": null,
   "metadata": {
    "collapsed": true
   },
   "outputs": [],
   "source": [
    "P*P.conjugate().transpose()"
   ]
  },
  {
   "cell_type": "code",
   "execution_count": null,
   "metadata": {
    "collapsed": true
   },
   "outputs": [],
   "source": [
    "P"
   ]
  },
  {
   "cell_type": "code",
   "execution_count": null,
   "metadata": {
    "collapsed": true
   },
   "outputs": [],
   "source": [
    "XNCT*XN"
   ]
  },
  {
   "cell_type": "code",
   "execution_count": null,
   "metadata": {
    "collapsed": true
   },
   "outputs": [],
   "source": [
    "simplifysigma(_)"
   ]
  },
  {
   "cell_type": "code",
   "execution_count": null,
   "metadata": {
    "collapsed": true
   },
   "outputs": [],
   "source": [
    "P"
   ]
  },
  {
   "cell_type": "code",
   "execution_count": null,
   "metadata": {
    "collapsed": true
   },
   "outputs": [],
   "source": [
    "P*U"
   ]
  },
  {
   "cell_type": "code",
   "execution_count": null,
   "metadata": {
    "collapsed": true
   },
   "outputs": [],
   "source": [
    "Q"
   ]
  },
  {
   "cell_type": "code",
   "execution_count": null,
   "metadata": {
    "collapsed": true,
    "scrolled": true
   },
   "outputs": [],
   "source": [
    "Q*kappa*abs(sigma)"
   ]
  },
  {
   "cell_type": "code",
   "execution_count": null,
   "metadata": {
    "collapsed": true,
    "scrolled": true
   },
   "outputs": [],
   "source": [
    "XNCT*P/kappa"
   ]
  },
  {
   "cell_type": "code",
   "execution_count": null,
   "metadata": {
    "collapsed": true
   },
   "outputs": [],
   "source": [
    "subck(XNCT)*W/kappa"
   ]
  },
  {
   "cell_type": "code",
   "execution_count": null,
   "metadata": {
    "collapsed": true
   },
   "outputs": [],
   "source": [
    "Pinv,XNCTinv"
   ]
  },
  {
   "cell_type": "code",
   "execution_count": null,
   "metadata": {
    "collapsed": true
   },
   "outputs": [],
   "source": [
    "Q"
   ]
  },
  {
   "cell_type": "code",
   "execution_count": null,
   "metadata": {
    "collapsed": true
   },
   "outputs": [],
   "source": [
    "W,P,U"
   ]
  },
  {
   "cell_type": "code",
   "execution_count": null,
   "metadata": {
    "collapsed": true
   },
   "outputs": [],
   "source": [
    "P*U"
   ]
  },
  {
   "cell_type": "code",
   "execution_count": null,
   "metadata": {
    "collapsed": true
   },
   "outputs": [],
   "source": [
    "Q = kappa*Pinv*(XNCTinv)\n",
    "Q = simplifysigma(Q)\n",
    "Q = simplifykappa(Q)\n",
    "Q = subck(Q)\n",
    "Q*W"
   ]
  },
  {
   "cell_type": "code",
   "execution_count": null,
   "metadata": {
    "collapsed": true
   },
   "outputs": [],
   "source": [
    "simplify(Q*B)"
   ]
  },
  {
   "cell_type": "code",
   "execution_count": null,
   "metadata": {
    "collapsed": true
   },
   "outputs": [],
   "source": [
    "Q"
   ]
  },
  {
   "cell_type": "code",
   "execution_count": null,
   "metadata": {
    "collapsed": true
   },
   "outputs": [],
   "source": []
  }
 ],
 "metadata": {
  "kernelspec": {
   "display_name": "Python 2",
   "language": "python",
   "name": "python2"
  },
  "language_info": {
   "codemirror_mode": {
    "name": "ipython",
    "version": 2
   },
   "file_extension": ".py",
   "mimetype": "text/x-python",
   "name": "python",
   "nbconvert_exporter": "python",
   "pygments_lexer": "ipython2",
   "version": "2.7.13"
  }
 },
 "nbformat": 4,
 "nbformat_minor": 1
}
