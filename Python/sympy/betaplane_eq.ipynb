{
 "cells": [
  {
   "cell_type": "code",
   "execution_count": 4,
   "metadata": {
    "collapsed": true
   },
   "outputs": [],
   "source": [
    "from sympy import *\n",
    "from sympy.vector import CoordSysCartesian, curl, divergence, gradient\n",
    "from sympy.abc import eta, psi, chi\n",
    "init_printing()"
   ]
  },
  {
   "cell_type": "code",
   "execution_count": 5,
   "metadata": {},
   "outputs": [],
   "source": [
    "R = CoordSysCartesian('R')\n",
    "u1, u2, u3 = symbols('u1:4', type='Function')\n",
    "f1 = symbols('f', type='Function')\n",
    "nabla = R.delop\n",
    "\n",
    "u = u1(R.x, R.y, R.z) * R.i + u2(R.x, R.y, R.z) * R.j + u3(R.x, R.y, R.z) * R.k\n",
    "e = eta(R.x, R.y, R.z)\n",
    "\n",
    "stream = psi(R.x, R.y)\n",
    "pot = chi(R.x, R.y)\n",
    "\n",
    "u_helm = -curl(R.k * stream, R) + gradient(pot, R)"
   ]
  },
  {
   "cell_type": "code",
   "execution_count": 6,
   "metadata": {
    "scrolled": true
   },
   "outputs": [
    {
     "data": {
      "image/png": "[encoded data removed]",
      "text/latex": [
       "$$(\\left. \\frac{\\partial}{\\partial \\xi_{2}} \\chi{\\left (\\xi_{2},\\mathbf{{y}_{R}} \\right )} \\right|_{\\substack{ \\xi_{2}=\\mathbf{{x}_{R}} }} - \\left. \\frac{\\partial}{\\partial \\xi_{2}} \\psi{\\left (\\mathbf{{x}_{R}},\\xi_{2} \\right )} \\right|_{\\substack{ \\xi_{2}=\\mathbf{{y}_{R}} }})\\mathbf{\\hat{i}_{R}} + (\\left. \\frac{\\partial}{\\partial \\xi_{2}} \\chi{\\left (\\mathbf{{x}_{R}},\\xi_{2} \\right )} \\right|_{\\substack{ \\xi_{2}=\\mathbf{{y}_{R}} }} + \\left. \\frac{\\partial}{\\partial \\xi_{2}} \\psi{\\left (\\xi_{2},\\mathbf{{y}_{R}} \\right )} \\right|_{\\substack{ \\xi_{2}=\\mathbf{{x}_{R}} }})\\mathbf{\\hat{j}_{R}}$$"
      ],
      "text/plain": [
       "⎛⎛ ∂             ⎞ R_i│         ⎛ ∂             ⎞ R_i│      ⎞ R_i + ⎛⎛ ∂      \n",
       "⎜⎜───(χ(ξ₂, R_y))⎟│       - ⎜───(ψ(R_x, ξ₂))⎟│      ⎟               ⎜⎜───(χ(R_\n",
       "⎝⎝∂ξ₂            ⎠│ξ₂=R_x   ⎝∂ξ₂            ⎠│ξ₂=R_y⎠               ⎝⎝∂ξ₂     \n",
       "\n",
       "       ⎞ R_j│         ⎛ ∂             ⎞ R_j│      ⎞ R_j\n",
       "x, ξ₂))⎟│       + ⎜───(ψ(ξ₂, R_y))⎟│      ⎟            \n",
       "       ⎠│ξ₂=R_y   ⎝∂ξ₂            ⎠│ξ₂=R_x⎠            "
      ]
     },
     "execution_count": 6,
     "metadata": {},
     "output_type": "execute_result"
    }
   ],
   "source": [
    "u_helm"
   ]
  },
  {
   "cell_type": "code",
   "execution_count": 13,
   "metadata": {
    "collapsed": true
   },
   "outputs": [],
   "source": [
    "u_helm2 = -nabla.cross(R.k * stream) + nabla.gradient(pot)"
   ]
  },
  {
   "cell_type": "code",
   "execution_count": 14,
   "metadata": {},
   "outputs": [
    {
     "data": {
      "image/png": "[encoded data removed]",
      "text/latex": [
       "$$(\\frac{d}{d \\mathbf{{z}_{R}}} 0 + \\frac{\\partial}{\\partial \\mathbf{{x}_{R}}} \\chi{\\left (\\mathbf{{x}_{R}},\\mathbf{{y}_{R}} \\right )} - \\frac{\\partial}{\\partial \\mathbf{{y}_{R}}} \\psi{\\left (\\mathbf{{x}_{R}},\\mathbf{{y}_{R}} \\right )})\\mathbf{\\hat{i}_{R}} + (- \\frac{d}{d \\mathbf{{z}_{R}}} 0 + \\frac{\\partial}{\\partial \\mathbf{{y}_{R}}} \\chi{\\left (\\mathbf{{x}_{R}},\\mathbf{{y}_{R}} \\right )} + \\frac{\\partial}{\\partial \\mathbf{{x}_{R}}} \\psi{\\left (\\mathbf{{x}_{R}},\\mathbf{{y}_{R}} \\right )})\\mathbf{\\hat{j}_{R}} + (- \\frac{d}{d \\mathbf{{x}_{R}}} 0 + \\frac{d}{d \\mathbf{{y}_{R}}} 0 + \\frac{\\partial}{\\partial \\mathbf{{z}_{R}}} \\chi{\\left (\\mathbf{{x}_{R}},\\mathbf{{y}_{R}} \\right )})\\mathbf{\\hat{k}_{R}}$$"
      ],
      "text/plain": [
       "⎛ d         ∂                   ∂               ⎞ R_i + ⎛   d         ∂       \n",
       "⎜────(0) + ────(χ(R_x, R_y)) - ────(ψ(R_x, R_y))⎟       ⎜- ────(0) + ────(χ(R_\n",
       "⎝dR_z      ∂R_x                ∂R_y             ⎠       ⎝  dR_z      ∂R_y     \n",
       "\n",
       "            ∂               ⎞ R_j + ⎛   d         d         ∂               ⎞ \n",
       "x, R_y)) + ────(ψ(R_x, R_y))⎟       ⎜- ────(0) + ────(0) + ────(χ(R_x, R_y))⎟ \n",
       "           ∂R_x             ⎠       ⎝  dR_x      dR_y      ∂R_z             ⎠ \n",
       "\n",
       "R_k\n",
       "   \n",
       "   "
      ]
     },
     "execution_count": 14,
     "metadata": {},
     "output_type": "execute_result"
    }
   ],
   "source": [
    "u_helm2"
   ]
  },
  {
   "cell_type": "code",
   "execution_count": 7,
   "metadata": {
    "collapsed": true
   },
   "outputs": [],
   "source": [
    "f = f1(R.y, R.z)"
   ]
  },
  {
   "cell_type": "code",
   "execution_count": 8,
   "metadata": {
    "collapsed": true
   },
   "outputs": [],
   "source": [
    "beta = nabla.gradient(f).dot(R.j)"
   ]
  },
  {
   "cell_type": "code",
   "execution_count": 9,
   "metadata": {
    "collapsed": true
   },
   "outputs": [],
   "source": [
    "vort = curl(u, R)\n",
    "vort_z = vort.dot(R.k)\n",
    "div = divergence(u, R) "
   ]
  },
  {
   "cell_type": "code",
   "execution_count": 10,
   "metadata": {
    "collapsed": true
   },
   "outputs": [],
   "source": [
    "mom_rhs = - nabla.gradient(u.dot(u) / 2) - vort.cross(u) - (f * R.k).cross(u)"
   ]
  },
  {
   "cell_type": "code",
   "execution_count": 11,
   "metadata": {
    "collapsed": true
   },
   "outputs": [],
   "source": [
    "corio = (-f * R.k).cross(u)"
   ]
  },
  {
   "cell_type": "code",
   "execution_count": 12,
   "metadata": {
    "scrolled": true
   },
   "outputs": [
    {
     "data": {
      "image/png": "[encoded data removed]",
      "text/latex": [
       "$$(f{\\left (\\mathbf{{y}_{R}},\\mathbf{{z}_{R}} \\right )} \\operatorname{u_{2}}{\\left (\\mathbf{{x}_{R}},\\mathbf{{y}_{R}},\\mathbf{{z}_{R}} \\right )})\\mathbf{\\hat{i}_{R}} + (- f{\\left (\\mathbf{{y}_{R}},\\mathbf{{z}_{R}} \\right )} \\operatorname{u_{1}}{\\left (\\mathbf{{x}_{R}},\\mathbf{{y}_{R}},\\mathbf{{z}_{R}} \\right )})\\mathbf{\\hat{j}_{R}}$$"
      ],
      "text/plain": [
       "(f(R_y, R_z)⋅u₂(R_x, R_y, R_z)) R_i + (-f(R_y, R_z)⋅u₁(R_x, R_y, R_z)) R_j"
      ]
     },
     "execution_count": 12,
     "metadata": {},
     "output_type": "execute_result"
    }
   ],
   "source": [
    "corio"
   ]
  },
  {
   "cell_type": "code",
   "execution_count": 89,
   "metadata": {
    "scrolled": false
   },
   "outputs": [
    {
     "data": {
      "text/latex": [
       "$$\\operatorname{f}\\left(\\mathbf{{y}_{R}},\\mathbf{{z}_{R}}\\right) \\left. \\frac{\\partial}{\\partial \\xi_{2}} \\operatorname{u_{1}}{\\left (\\mathbf{{x}_{R}},\\mathbf{{y}_{R}},\\xi_{2} \\right )} \\right|_{\\substack{ \\xi_{2}=\\mathbf{{z}_{R}} }} + \\operatorname{u1}\\left(\\mathbf{{x}_{R}},\\mathbf{{y}_{R}},\\mathbf{{z}_{R}}\\right) \\left. \\frac{\\partial}{\\partial \\xi_{2}} f{\\left (\\mathbf{{y}_{R}},\\xi_{2} \\right )} \\right|_{\\substack{ \\xi_{2}=\\mathbf{{z}_{R}} }}$$"
      ],
      "text/plain": [
       "             ∂                                           ∂               \n",
       "f(R_y, R_z)⋅────(u₁(R_x, R_y, R_z)) + u₁(R_x, R_y, R_z)⋅────(f(R_y, R_z))\n",
       "            ∂R_z                                        ∂R_z             "
      ]
     },
     "execution_count": 89,
     "metadata": {},
     "output_type": "execute_result"
    }
   ],
   "source": [
    "curl(corio, R).dot(R.i)"
   ]
  },
  {
   "cell_type": "code",
   "execution_count": 90,
   "metadata": {
    "scrolled": true
   },
   "outputs": [
    {
     "data": {
      "text/latex": [
       "$$\\operatorname{f}\\left(\\mathbf{{y}_{R}},\\mathbf{{z}_{R}}\\right) \\left. \\frac{\\partial}{\\partial \\xi_{2}} \\operatorname{u_{2}}{\\left (\\mathbf{{x}_{R}},\\mathbf{{y}_{R}},\\xi_{2} \\right )} \\right|_{\\substack{ \\xi_{2}=\\mathbf{{z}_{R}} }} + \\operatorname{u2}\\left(\\mathbf{{x}_{R}},\\mathbf{{y}_{R}},\\mathbf{{z}_{R}}\\right) \\left. \\frac{\\partial}{\\partial \\xi_{2}} f{\\left (\\mathbf{{y}_{R}},\\xi_{2} \\right )} \\right|_{\\substack{ \\xi_{2}=\\mathbf{{z}_{R}} }}$$"
      ],
      "text/plain": [
       "             ∂                                           ∂               \n",
       "f(R_y, R_z)⋅────(u₂(R_x, R_y, R_z)) + u₂(R_x, R_y, R_z)⋅────(f(R_y, R_z))\n",
       "            ∂R_z                                        ∂R_z             "
      ]
     },
     "execution_count": 90,
     "metadata": {},
     "output_type": "execute_result"
    }
   ],
   "source": [
    "curl(corio, R).dot(R.j)"
   ]
  },
  {
   "cell_type": "code",
   "execution_count": 93,
   "metadata": {
    "scrolled": true
   },
   "outputs": [
    {
     "data": {
      "text/latex": [
       "$$- \\operatorname{f}\\left(\\mathbf{{y}_{R}},\\mathbf{{z}_{R}}\\right) \\left. \\frac{\\partial}{\\partial \\xi_{2}} \\operatorname{u_{1}}{\\left (\\xi_{2},\\mathbf{{y}_{R}},\\mathbf{{z}_{R}} \\right )} \\right|_{\\substack{ \\xi_{2}=\\mathbf{{x}_{R}} }} - \\operatorname{f}\\left(\\mathbf{{y}_{R}},\\mathbf{{z}_{R}}\\right) \\left. \\frac{\\partial}{\\partial \\xi_{2}} \\operatorname{u_{2}}{\\left (\\mathbf{{x}_{R}},\\xi_{2},\\mathbf{{z}_{R}} \\right )} \\right|_{\\substack{ \\xi_{2}=\\mathbf{{y}_{R}} }} - \\operatorname{u2}\\left(\\mathbf{{x}_{R}},\\mathbf{{y}_{R}},\\mathbf{{z}_{R}}\\right) \\left. \\frac{\\partial}{\\partial \\xi_{2}} f{\\left (\\xi_{2},\\mathbf{{z}_{R}} \\right )} \\right|_{\\substack{ \\xi_{2}=\\mathbf{{y}_{R}} }}$$"
      ],
      "text/plain": [
       "               ∂                                     ∂                        \n",
       "- f(R_y, R_z)⋅────(u₁(R_x, R_y, R_z)) - f(R_y, R_z)⋅────(u₂(R_x, R_y, R_z)) - \n",
       "              ∂R_x                                  ∂R_y                      \n",
       "\n",
       "                   ∂               \n",
       "u₂(R_x, R_y, R_z)⋅────(f(R_y, R_z))\n",
       "                  ∂R_y             "
      ]
     },
     "execution_count": 93,
     "metadata": {},
     "output_type": "execute_result"
    }
   ],
   "source": [
    "curl(corio, R).dot(R.k)"
   ]
  },
  {
   "cell_type": "code",
   "execution_count": 91,
   "metadata": {},
   "outputs": [
    {
     "data": {
      "text/latex": [
       "$$- \\operatorname{f}\\left(\\mathbf{{y}_{R}},\\mathbf{{z}_{R}}\\right) \\left. \\frac{\\partial}{\\partial \\xi_{2}} \\operatorname{u_{1}}{\\left (\\mathbf{{x}_{R}},\\xi_{2},\\mathbf{{z}_{R}} \\right )} \\right|_{\\substack{ \\xi_{2}=\\mathbf{{y}_{R}} }} + \\operatorname{f}\\left(\\mathbf{{y}_{R}},\\mathbf{{z}_{R}}\\right) \\left. \\frac{\\partial}{\\partial \\xi_{2}} \\operatorname{u_{2}}{\\left (\\xi_{2},\\mathbf{{y}_{R}},\\mathbf{{z}_{R}} \\right )} \\right|_{\\substack{ \\xi_{2}=\\mathbf{{x}_{R}} }} - \\operatorname{u1}\\left(\\mathbf{{x}_{R}},\\mathbf{{y}_{R}},\\mathbf{{z}_{R}}\\right) \\left. \\frac{\\partial}{\\partial \\xi_{2}} f{\\left (\\xi_{2},\\mathbf{{z}_{R}} \\right )} \\right|_{\\substack{ \\xi_{2}=\\mathbf{{y}_{R}} }}$$"
      ],
      "text/plain": [
       "               ∂                                     ∂                        \n",
       "- f(R_y, R_z)⋅────(u₁(R_x, R_y, R_z)) + f(R_y, R_z)⋅────(u₂(R_x, R_y, R_z)) - \n",
       "              ∂R_y                                  ∂R_x                      \n",
       "\n",
       "                   ∂               \n",
       "u₁(R_x, R_y, R_z)⋅────(f(R_y, R_z))\n",
       "                  ∂R_y             "
      ]
     },
     "execution_count": 91,
     "metadata": {},
     "output_type": "execute_result"
    }
   ],
   "source": [
    "divergence(corio, R)"
   ]
  },
  {
   "cell_type": "code",
   "execution_count": 92,
   "metadata": {},
   "outputs": [
    {
     "data": {
      "image/png": "[encoded data removed]",
      "text/latex": [
       "$$- \\left. \\frac{\\partial}{\\partial \\xi_{2}} \\operatorname{u_{1}}{\\left (\\mathbf{{x}_{R}},\\xi_{2},\\mathbf{{z}_{R}} \\right )} \\right|_{\\substack{ \\xi_{2}=\\mathbf{{y}_{R}} }} + \\left. \\frac{\\partial}{\\partial \\xi_{2}} \\operatorname{u_{2}}{\\left (\\xi_{2},\\mathbf{{y}_{R}},\\mathbf{{z}_{R}} \\right )} \\right|_{\\substack{ \\xi_{2}=\\mathbf{{x}_{R}} }}$$"
      ],
      "text/plain": [
       "  ⎛ ∂                   ⎞│         ⎛ ∂                   ⎞│      \n",
       "- ⎜───(u₁(R_x, ξ₂, R_z))⎟│       + ⎜───(u₂(ξ₂, R_y, R_z))⎟│      \n",
       "  ⎝∂ξ₂                  ⎠│ξ₂=R_y   ⎝∂ξ₂                  ⎠│ξ₂=R_x"
      ]
     },
     "execution_count": 92,
     "metadata": {},
     "output_type": "execute_result"
    }
   ],
   "source": [
    "vort_z"
   ]
  },
  {
   "cell_type": "code",
   "execution_count": 109,
   "metadata": {},
   "outputs": [
    {
     "data": {
      "image/png": "[encoded data removed]",
      "text/latex": [
       "$$(- \\frac{\\partial^{2}}{\\partial \\mathbf{{x}_{R}}\\partial \\mathbf{{y}_{R}}}  \\chi{\\left (\\mathbf{{x}_{R}},\\mathbf{{y}_{R}} \\right )} + \\frac{\\partial^{2}}{\\partial \\mathbf{{y}_{R}}\\partial \\mathbf{{x}_{R}}}  \\chi{\\left (\\mathbf{{x}_{R}},\\mathbf{{y}_{R}} \\right )} + \\frac{\\partial^{2}}{\\partial \\mathbf{{x}_{R}}^{2}}  \\psi{\\left (\\mathbf{{x}_{R}},\\mathbf{{y}_{R}} \\right )} + \\frac{\\partial^{2}}{\\partial \\mathbf{{y}_{R}}^{2}}  \\psi{\\left (\\mathbf{{x}_{R}},\\mathbf{{y}_{R}} \\right )})\\mathbf{\\hat{k}_{R}}$$"
      ],
      "text/plain": [
       "⎛       2                        2                      2                    2\n",
       "⎜      ∂                        ∂                      ∂                    ∂ \n",
       "⎜- ─────────(χ(R_x, R_y)) + ─────────(χ(R_x, R_y)) + ─────(ψ(R_x, R_y)) + ────\n",
       "⎜  ∂R_y ∂R_x                ∂R_x ∂R_y                    2                    \n",
       "⎝                                                    ∂R_x                 ∂R_y\n",
       "\n",
       "              ⎞ R_k\n",
       "              ⎟    \n",
       "─(ψ(R_x, R_y))⎟    \n",
       "2             ⎟    \n",
       "              ⎠    "
      ]
     },
     "execution_count": 109,
     "metadata": {},
     "output_type": "execute_result"
    }
   ],
   "source": [
    "curl(u_helm, R)"
   ]
  },
  {
   "cell_type": "code",
   "execution_count": 113,
   "metadata": {},
   "outputs": [
    {
     "name": "stdout",
     "output_type": "stream",
     "text": [
      "   2                    2                      2                        2     \n",
      "  ∂                    ∂                      ∂                        ∂      \n",
      "─────(χ(R_x, R_y)) + ─────(χ(R_x, R_y)) + ─────────(ψ(R_x, R_y)) - ─────────(ψ\n",
      "    2                    2                ∂R_y ∂R_x                ∂R_x ∂R_y  \n",
      "∂R_x                 ∂R_y                                                     \n",
      "\n",
      "           \n",
      "           \n",
      "(R_x, R_y))\n",
      "           \n",
      "           \n"
     ]
    }
   ],
   "source": [
    "pprint(divergence(u_helm, R))"
   ]
  },
  {
   "cell_type": "code",
   "execution_count": 115,
   "metadata": {},
   "outputs": [
    {
     "data": {
      "image/png": "[encoded data removed]",
      "text/latex": [
       "$$\\left. \\frac{\\partial}{\\partial \\xi_{2}} \\chi{\\left (\\xi_{2},\\mathbf{{y}_{R}} \\right )} \\right|_{\\substack{ \\xi_{2}=\\mathbf{{x}_{R}} }} - \\left. \\frac{\\partial}{\\partial \\xi_{2}} \\psi{\\left (\\mathbf{{x}_{R}},\\xi_{2} \\right )} \\right|_{\\substack{ \\xi_{2}=\\mathbf{{y}_{R}} }}$$"
      ],
      "text/plain": [
       "⎛ ∂             ⎞│         ⎛ ∂             ⎞│      \n",
       "⎜───(χ(ξ₂, R_y))⎟│       - ⎜───(ψ(R_x, ξ₂))⎟│      \n",
       "⎝∂ξ₂            ⎠│ξ₂=R_x   ⎝∂ξ₂            ⎠│ξ₂=R_y"
      ]
     },
     "execution_count": 115,
     "metadata": {},
     "output_type": "execute_result"
    }
   ],
   "source": [
    "u_helm.dot(R.i)"
   ]
  },
  {
   "cell_type": "code",
   "execution_count": 116,
   "metadata": {},
   "outputs": [
    {
     "data": {
      "image/png": "[encoded data removed]",
      "text/latex": [
       "$$\\left. \\frac{\\partial}{\\partial \\xi_{2}} \\chi{\\left (\\mathbf{{x}_{R}},\\xi_{2} \\right )} \\right|_{\\substack{ \\xi_{2}=\\mathbf{{y}_{R}} }} + \\left. \\frac{\\partial}{\\partial \\xi_{2}} \\psi{\\left (\\xi_{2},\\mathbf{{y}_{R}} \\right )} \\right|_{\\substack{ \\xi_{2}=\\mathbf{{x}_{R}} }}$$"
      ],
      "text/plain": [
       "⎛ ∂             ⎞│         ⎛ ∂             ⎞│      \n",
       "⎜───(χ(R_x, ξ₂))⎟│       + ⎜───(ψ(ξ₂, R_y))⎟│      \n",
       "⎝∂ξ₂            ⎠│ξ₂=R_y   ⎝∂ξ₂            ⎠│ξ₂=R_x"
      ]
     },
     "execution_count": 116,
     "metadata": {},
     "output_type": "execute_result"
    }
   ],
   "source": [
    "u_helm.dot(R.j)"
   ]
  },
  {
   "cell_type": "code",
   "execution_count": null,
   "metadata": {
    "collapsed": true
   },
   "outputs": [],
   "source": []
  }
 ],
 "metadata": {
  "kernelspec": {
   "display_name": "Python 2",
   "language": "python",
   "name": "python2"
  },
  "language_info": {
   "codemirror_mode": {
    "name": "ipython",
    "version": 2
   },
   "file_extension": ".py",
   "mimetype": "text/x-python",
   "name": "python",
   "nbconvert_exporter": "python",
   "pygments_lexer": "ipython2",
   "version": "2.7.13"
  }
 },
 "nbformat": 4,
 "nbformat_minor": 2
}
