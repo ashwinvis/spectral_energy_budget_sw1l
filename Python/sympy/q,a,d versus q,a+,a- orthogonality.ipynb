{
 "cells": [
  {
   "cell_type": "code",
   "execution_count": 29,
   "metadata": {
    "collapsed": true
   },
   "outputs": [],
   "source": [
    "# coding: utf-8\n",
    "from __future__ import print_function\n",
    "from sympy import *\n",
    "from sympy.abc import psi,phi,eta,delta,zeta\n",
    "\n",
    "init_printing()\n",
    "f,ck,c = symbols('f ck c', real=True)\n",
    "sigma, kappa = symbols(r'\\sigma \\kappa', real=True)\n",
    "kx, ky, kh =  symbols('k_x k_y k_h', real=True)\n",
    "u,v =  symbols('u v')\n",
    "\n",
    "def subsigma(M):\n",
    "    M = M.subs(f**2 + ck**2,  sigma**2)\n",
    "    M = M.subs(f**2 + c**2*kappa**2, sigma**2)\n",
    "    return M\n",
    "    \n",
    "def simplifysigma(M):\n",
    "    M = M.subs(sigma, sqrt(f**2 + ck**2) )\n",
    "    M = simplify(M)\n",
    "    return subsigma(M)\n",
    "    \n",
    "def subkappa(M):\n",
    "    M = M.subs(kx**2 + ky**2,  kappa**2)\n",
    "    M = M.subs(kh*kh.conjugate(), kappa**2)\n",
    "    M = M.subs(kx*kx.conjugate() + ky*ky.conjugate(), kappa**2)\n",
    "    return M\n",
    "\n",
    "def simplifykappa(M):\n",
    "    M = M.subs(kappa, sqrt(kx**2 + ky**2))\n",
    "    M = M.subs(kh, sqrt(kx**2 + ky**2))\n",
    "    M = simplify(M)\n",
    "    return subkappa(M)\n",
    "    \n",
    "def subck(M):\n",
    "    return M.subs(ck,c*kappa)"
   ]
  },
  {
   "cell_type": "code",
   "execution_count": 20,
   "metadata": {
    "collapsed": false
   },
   "outputs": [],
   "source": [
    "A = Matrix(( [0, 1j*f,0],[-1j*f, 0, -1j*ck],[0,1j*ck,0]))\n",
    "X = A.eigenvects()\n",
    "eigenvals = list()\n",
    "eigenvects = list()\n",
    "for i in xrange(3):\n",
    "    eigval, multi, eigvect =  X[i]\n",
    "    eigenvals.append(eigval)\n",
    "    eigenvects.append(eigvect[0])"
   ]
  },
  {
   "cell_type": "markdown",
   "metadata": {},
   "source": [
    "### Eigenvectors and eigenvalues"
   ]
  },
  {
   "cell_type": "code",
   "execution_count": 27,
   "metadata": {
    "collapsed": false
   },
   "outputs": [
    {
     "data": {
      "image/png": "[encoded data removed]",
      "text/latex": [
       "$$\\left [ 0, \\quad - \\left(ck^{2} + f^{2}\\right)^{0.5}, \\quad \\left(ck^{2} + f^{2}\\right)^{0.5}\\right ]$$"
      ],
      "text/plain": [
       "⎡              0.5            0.5⎤\n",
       "⎢    ⎛  2    2⎞     ⎛  2    2⎞   ⎥\n",
       "⎣0, -⎝ck  + f ⎠   , ⎝ck  + f ⎠   ⎦"
      ]
     },
     "execution_count": 27,
     "metadata": {},
     "output_type": "execute_result"
    }
   ],
   "source": [
    "eigenvals"
   ]
  },
  {
   "cell_type": "markdown",
   "metadata": {},
   "source": [
    "### Normal mode decomposition"
   ]
  },
  {
   "cell_type": "code",
   "execution_count": 50,
   "metadata": {
    "collapsed": true
   },
   "outputs": [],
   "source": [
    "XX = A.diagonalize()[0]\n",
    "XX = subsigma(XX)\n",
    "sig = sqrt(f**2 + ck**2)\n",
    "\n",
    "NORM = eye(3)\n",
    "NORM[0,0] = f/sig\n",
    "NORM[1,1] = ck/(sig*sqrt(2))\n",
    "NORM[2,2] = ck/(sig*sqrt(2))\n",
    "\n",
    "# Eigen vector matrix - normalization\n",
    "XN = subsigma(XX*NORM) \n",
    "XNCT = XN.conjugate().transpose()"
   ]
  },
  {
   "cell_type": "code",
   "execution_count": 51,
   "metadata": {
    "collapsed": false
   },
   "outputs": [
    {
     "data": {
      "image/png": "[encoded data removed]",
      "text/latex": [
       "$$\\left[\\begin{matrix}- \\frac{ck}{\\left|{\\sigma}\\right|} & \\frac{\\sqrt{2} f}{2 \\left|{\\sigma}\\right|} & \\frac{\\sqrt{2} f}{2 \\left|{\\sigma}\\right|}\\\\0 & \\frac{\\sqrt{2} i}{2} & - \\frac{\\sqrt{2} i}{2}\\\\\\frac{1.0 f}{\\left|{\\sigma}\\right|} & \\frac{0.5 ck}{\\left|{\\sigma}\\right|} \\sqrt{2} & \\frac{0.5 ck}{\\left|{\\sigma}\\right|} \\sqrt{2}\\end{matrix}\\right]$$"
      ],
      "text/plain": [
       "⎡  -ck        √2⋅f        √2⋅f   ⎤\n",
       "⎢────────  ──────────  ──────────⎥\n",
       "⎢│\\sigma│  2⋅│\\sigma│  2⋅│\\sigma│⎥\n",
       "⎢                                ⎥\n",
       "⎢             √2⋅ⅈ       -√2⋅ⅈ   ⎥\n",
       "⎢   0         ────       ──────  ⎥\n",
       "⎢              2           2     ⎥\n",
       "⎢                                ⎥\n",
       "⎢ 1.0⋅f    0.5⋅√2⋅ck   0.5⋅√2⋅ck ⎥\n",
       "⎢────────  ─────────   ───────── ⎥\n",
       "⎣│\\sigma│   │\\sigma│    │\\sigma│ ⎦"
      ]
     },
     "execution_count": 51,
     "metadata": {},
     "output_type": "execute_result"
    }
   ],
   "source": [
    "XN"
   ]
  },
  {
   "cell_type": "code",
   "execution_count": 72,
   "metadata": {
    "collapsed": true
   },
   "outputs": [],
   "source": [
    "\"\"\"\n",
    "Transformation matrices to normal mode\n",
    "W1 --[T21]--> W2 --[T32]--> W3 --[TN3]---> N\n",
    "\"\"\"\n",
    "W1 = Matrix( [u,v,eta] )\n",
    "T21 = Matrix(( [-1j*ky, 1j*kx, 0],[1j*kx,1j*ky,0],[0,0,ck] ))\n",
    "W2 = T21 * W1 \n",
    "T32 = Matrix(( [1, 0, -f/ck],[f,0,ck],[0,1,0] ))\n",
    "W3 = T32 * W2\n",
    "TN3 = Matrix([ [1,0,0],[0,1,-1j*sigma],[0,1,1j*sigma]]) / (sqrt(2) * sigma)\n",
    "N = simplify(subck((TN3 * W3).subs(sigma, sqrt(f**2 + ck**2))))"
   ]
  },
  {
   "cell_type": "code",
   "execution_count": 73,
   "metadata": {
    "collapsed": false,
    "scrolled": true
   },
   "outputs": [
    {
     "data": {
      "image/png": "[encoded data removed]",
      "text/latex": [
       "$$\\left ( \\left[\\begin{matrix}u\\\\v\\\\\\eta\\end{matrix}\\right], \\quad \\left[\\begin{matrix}1.0 i k_{x} v - 1.0 i k_{y} u\\\\1.0 i k_{x} u + 1.0 i k_{y} v\\\\ck \\eta\\end{matrix}\\right], \\quad \\left[\\begin{matrix}- \\eta f + 1.0 i k_{x} v - 1.0 i k_{y} u\\\\ck^{2} \\eta + f \\left(1.0 i k_{x} v - 1.0 i k_{y} u\\right)\\\\1.0 i k_{x} u + 1.0 i k_{y} v\\end{matrix}\\right], \\quad \\left[\\begin{matrix}\\frac{\\sqrt{2}}{2 \\sqrt{\\kappa^{2} c^{2} + f^{2}}} \\left(- \\eta f + i k_{x} v - 1.0 i k_{y} u\\right)\\\\\\frac{\\sqrt{2}}{2 \\sqrt{\\kappa^{2} c^{2} + f^{2}}} \\left(\\kappa^{2} c^{2} \\eta + 1.0 i f \\left(k_{x} v - k_{y} u\\right) + 1.0 \\sqrt{\\kappa^{2} c^{2} + f^{2}} \\left(k_{x} u + k_{y} v\\right)\\right)\\\\\\frac{\\sqrt{2}}{2 \\sqrt{\\kappa^{2} c^{2} + f^{2}}} \\left(\\kappa^{2} c^{2} \\eta + 1.0 i f \\left(k_{x} v - k_{y} u\\right) - 1.0 \\sqrt{\\kappa^{2} c^{2} + f^{2}} \\left(k_{x} u + k_{y} v\\right)\\right)\\end{matrix}\\right]\\right )$$"
      ],
      "text/plain": [
       "⎛                                                                         ⎡   \n",
       "⎜⎡u⎤, ⎡1.0⋅ⅈ⋅kₓ⋅v - 1.0⋅ⅈ⋅k_y⋅u⎤, ⎡  -η⋅f + 1.0⋅ⅈ⋅kₓ⋅v - 1.0⋅ⅈ⋅k_y⋅u   ⎤, ⎢   \n",
       "⎜⎢ ⎥  ⎢                        ⎥  ⎢                                    ⎥  ⎢   \n",
       "⎜⎢v⎥  ⎢1.0⋅ⅈ⋅kₓ⋅u + 1.0⋅ⅈ⋅k_y⋅v⎥  ⎢  2                                 ⎥  ⎢   \n",
       "⎜⎢ ⎥  ⎢                        ⎥  ⎢ck ⋅η + f⋅(1.0⋅ⅈ⋅kₓ⋅v - 1.0⋅ⅈ⋅k_y⋅u)⎥  ⎢   \n",
       "⎜⎣η⎦  ⎣          ck⋅η          ⎦  ⎢                                    ⎥  ⎢   \n",
       "⎜                                 ⎣      1.0⋅ⅈ⋅kₓ⋅u + 1.0⋅ⅈ⋅k_y⋅v      ⎦  ⎢   \n",
       "⎜                                                                         ⎢   \n",
       "⎜                                                                         ⎢√2⋅\n",
       "⎜                                                                         ⎢───\n",
       "⎜                                                                         ⎢   \n",
       "⎜                                                                         ⎢   \n",
       "⎜                                                                         ⎢   \n",
       "⎜                                                                         ⎢   \n",
       "⎜                                                                         ⎢   \n",
       "⎜                                                                         ⎢   \n",
       "⎜                                                                         ⎢√2⋅\n",
       "⎜                                                                         ⎢───\n",
       "⎜                                                                         ⎢   \n",
       "⎜                                                                         ⎢   \n",
       "⎝                                                                         ⎣   \n",
       "\n",
       "                       √2⋅(-η⋅f + ⅈ⋅kₓ⋅v - 1.0⋅ⅈ⋅k_y⋅u)                       \n",
       "                       ────────────────────────────────                       \n",
       "                                 _________________                            \n",
       "                                ╱       2  2    2                             \n",
       "                            2⋅╲╱  \\kappa ⋅c  + f                              \n",
       "                                                                              \n",
       "⎛                                               _________________             \n",
       "⎜      2  2                                    ╱       2  2    2              \n",
       "⎝\\kappa ⋅c ⋅η + 1.0⋅ⅈ⋅f⋅(kₓ⋅v - k_y⋅u) + 1.0⋅╲╱  \\kappa ⋅c  + f  ⋅(kₓ⋅u + k_y⋅\n",
       "──────────────────────────────────────────────────────────────────────────────\n",
       "                                 _________________                            \n",
       "                                ╱       2  2    2                             \n",
       "                            2⋅╲╱  \\kappa ⋅c  + f                              \n",
       "                                                                              \n",
       "⎛                                               _________________             \n",
       "⎜      2  2                                    ╱       2  2    2              \n",
       "⎝\\kappa ⋅c ⋅η + 1.0⋅ⅈ⋅f⋅(kₓ⋅v - k_y⋅u) - 1.0⋅╲╱  \\kappa ⋅c  + f  ⋅(kₓ⋅u + k_y⋅\n",
       "──────────────────────────────────────────────────────────────────────────────\n",
       "                                 _________________                            \n",
       "                                ╱       2  2    2                             \n",
       "                            2⋅╲╱  \\kappa ⋅c  + f                              \n",
       "\n",
       "   ⎤⎞\n",
       "   ⎥⎟\n",
       "   ⎥⎟\n",
       "   ⎥⎟\n",
       "   ⎥⎟\n",
       "   ⎥⎟\n",
       "  ⎞⎥⎟\n",
       "  ⎟⎥⎟\n",
       "v)⎠⎥⎟\n",
       "───⎥⎟\n",
       "   ⎥⎟\n",
       "   ⎥⎟\n",
       "   ⎥⎟\n",
       "   ⎥⎟\n",
       "  ⎞⎥⎟\n",
       "  ⎟⎥⎟\n",
       "v)⎠⎥⎟\n",
       "───⎥⎟\n",
       "   ⎥⎟\n",
       "   ⎥⎟\n",
       "   ⎦⎠"
      ]
     },
     "execution_count": 73,
     "metadata": {},
     "output_type": "execute_result"
    }
   ],
   "source": [
    "W1, W2, W3, N"
   ]
  },
  {
   "cell_type": "code",
   "execution_count": 79,
   "metadata": {
    "collapsed": false
   },
   "outputs": [
    {
     "data": {
      "image/png": "[encoded data removed]",
      "text/latex": [
       "$$\\left[\\begin{matrix}\\frac{\\left(- \\eta f + i k_{x} v - 1.0 i k_{y} u\\right)^{2}}{2 \\kappa^{2} c^{2} + 2 f^{2}} & \\frac{1}{2 \\kappa^{2} c^{2} + 2 f^{2}} \\left(- \\eta f + i k_{x} v - 1.0 i k_{y} u\\right) \\left(\\kappa^{2} c^{2} \\eta + 1.0 i f \\left(k_{x} v - k_{y} u\\right) + 1.0 \\sqrt{\\kappa^{2} c^{2} + f^{2}} \\left(k_{x} u + k_{y} v\\right)\\right) & \\frac{1}{2 \\kappa^{2} c^{2} + 2 f^{2}} \\left(- \\eta f + i k_{x} v - 1.0 i k_{y} u\\right) \\left(\\kappa^{2} c^{2} \\eta + 1.0 i f \\left(k_{x} v - k_{y} u\\right) - 1.0 \\sqrt{\\kappa^{2} c^{2} + f^{2}} \\left(k_{x} u + k_{y} v\\right)\\right)\\\\\\frac{1}{2 \\kappa^{2} c^{2} + 2 f^{2}} \\left(- \\eta f + i k_{x} v - 1.0 i k_{y} u\\right) \\left(\\kappa^{2} c^{2} \\eta + 1.0 i f \\left(k_{x} v - k_{y} u\\right) + 1.0 \\sqrt{\\kappa^{2} c^{2} + f^{2}} \\left(k_{x} u + k_{y} v\\right)\\right) & \\frac{1}{2 \\kappa^{2} c^{2} + 2 f^{2}} \\left(\\kappa^{2} c^{2} \\eta + 1.0 i f \\left(k_{x} v - k_{y} u\\right) + 1.0 \\sqrt{\\kappa^{2} c^{2} + f^{2}} \\left(k_{x} u + k_{y} v\\right)\\right)^{2} & \\frac{1}{2 \\kappa^{2} c^{2} + 2 f^{2}} \\left(\\kappa^{2} c^{2} \\eta + 1.0 i f \\left(k_{x} v - k_{y} u\\right) - 1.0 \\sqrt{\\kappa^{2} c^{2} + f^{2}} \\left(k_{x} u + k_{y} v\\right)\\right) \\left(\\kappa^{2} c^{2} \\eta + 1.0 i f \\left(k_{x} v - k_{y} u\\right) + 1.0 \\sqrt{\\kappa^{2} c^{2} + f^{2}} \\left(k_{x} u + k_{y} v\\right)\\right)\\\\\\frac{1}{2 \\kappa^{2} c^{2} + 2 f^{2}} \\left(- \\eta f + i k_{x} v - 1.0 i k_{y} u\\right) \\left(\\kappa^{2} c^{2} \\eta + 1.0 i f \\left(k_{x} v - k_{y} u\\right) - 1.0 \\sqrt{\\kappa^{2} c^{2} + f^{2}} \\left(k_{x} u + k_{y} v\\right)\\right) & \\frac{1}{2 \\kappa^{2} c^{2} + 2 f^{2}} \\left(\\kappa^{2} c^{2} \\eta + 1.0 i f \\left(k_{x} v - k_{y} u\\right) - 1.0 \\sqrt{\\kappa^{2} c^{2} + f^{2}} \\left(k_{x} u + k_{y} v\\right)\\right) \\left(\\kappa^{2} c^{2} \\eta + 1.0 i f \\left(k_{x} v - k_{y} u\\right) + 1.0 \\sqrt{\\kappa^{2} c^{2} + f^{2}} \\left(k_{x} u + k_{y} v\\right)\\right) & \\frac{1}{2 \\kappa^{2} c^{2} + 2 f^{2}} \\left(\\kappa^{2} c^{2} \\eta + 1.0 i f \\left(k_{x} v - k_{y} u\\right) - 1.0 \\sqrt{\\kappa^{2} c^{2} + f^{2}} \\left(k_{x} u + k_{y} v\\right)\\right)^{2}\\end{matrix}\\right]$$"
      ],
      "text/plain": [
       "⎡                                                                             \n",
       "⎢                                                                     2       \n",
       "⎢                                        (-η⋅f + ⅈ⋅kₓ⋅v - 1.0⋅ⅈ⋅k_y⋅u)        \n",
       "⎢                                        ──────────────────────────────       \n",
       "⎢                                               ⎛      2  2    2⎞             \n",
       "⎢                                             2⋅⎝\\kappa ⋅c  + f ⎠             \n",
       "⎢                                                                             \n",
       "⎢                                                                             \n",
       "⎢                              ⎛                                              \n",
       "⎢                              ⎜      2  2                                    \n",
       "⎢(-η⋅f + ⅈ⋅kₓ⋅v - 1.0⋅ⅈ⋅k_y⋅u)⋅⎝\\kappa ⋅c ⋅η + 1.0⋅ⅈ⋅f⋅(kₓ⋅v - k_y⋅u) + 1.0⋅╲╱\n",
       "⎢─────────────────────────────────────────────────────────────────────────────\n",
       "⎢                                                ⎛      2  2    2⎞            \n",
       "⎢                                              2⋅⎝\\kappa ⋅c  + f ⎠            \n",
       "⎢                                                                             \n",
       "⎢                                                                             \n",
       "⎢                              ⎛                                              \n",
       "⎢                              ⎜      2  2                                    \n",
       "⎢(-η⋅f + ⅈ⋅kₓ⋅v - 1.0⋅ⅈ⋅k_y⋅u)⋅⎝\\kappa ⋅c ⋅η + 1.0⋅ⅈ⋅f⋅(kₓ⋅v - k_y⋅u) - 1.0⋅╲╱\n",
       "⎢─────────────────────────────────────────────────────────────────────────────\n",
       "⎢                                                ⎛      2  2    2⎞            \n",
       "⎣                                              2⋅⎝\\kappa ⋅c  + f ⎠            \n",
       "\n",
       "                                                                              \n",
       "                                                                              \n",
       "                                                              (-η⋅f + ⅈ⋅kₓ⋅v -\n",
       "                                                              ────────────────\n",
       "                                                                              \n",
       "                                                                              \n",
       "                                                                              \n",
       "                                                                              \n",
       " _________________               ⎞                                          ⎛ \n",
       "╱       2  2    2                ⎟                                          ⎜ \n",
       "  \\kappa ⋅c  + f  ⋅(kₓ⋅u + k_y⋅v)⎠                                          ⎝\\\n",
       "──────────────────────────────────                                          ──\n",
       "                                                                              \n",
       "                                                                              \n",
       "                                                                              \n",
       "                                                                              \n",
       " _________________               ⎞  ⎛                                         \n",
       "╱       2  2    2                ⎟  ⎜      2  2                               \n",
       "  \\kappa ⋅c  + f  ⋅(kₓ⋅u + k_y⋅v)⎠  ⎝\\kappa ⋅c ⋅η + 1.0⋅ⅈ⋅f⋅(kₓ⋅v - k_y⋅u) - 1\n",
       "──────────────────────────────────  ──────────────────────────────────────────\n",
       "                                                                              \n",
       "                                                                              \n",
       "\n",
       "              ⎛                                               ________________\n",
       "              ⎜      2  2                                    ╱       2  2    2\n",
       " 1.0⋅ⅈ⋅k_y⋅u)⋅⎝\\kappa ⋅c ⋅η + 1.0⋅ⅈ⋅f⋅(kₓ⋅v - k_y⋅u) + 1.0⋅╲╱  \\kappa ⋅c  + f \n",
       "──────────────────────────────────────────────────────────────────────────────\n",
       "                                ⎛      2  2    2⎞                             \n",
       "                              2⋅⎝\\kappa ⋅c  + f ⎠                             \n",
       "                                                                              \n",
       "                                                                              \n",
       "                                              _________________               \n",
       "     2  2                                    ╱       2  2    2                \n",
       "kappa ⋅c ⋅η + 1.0⋅ⅈ⋅f⋅(kₓ⋅v - k_y⋅u) + 1.0⋅╲╱  \\kappa ⋅c  + f  ⋅(kₓ⋅u + k_y⋅v)\n",
       "──────────────────────────────────────────────────────────────────────────────\n",
       "                               ⎛      2  2    2⎞                              \n",
       "                             2⋅⎝\\kappa ⋅c  + f ⎠                              \n",
       "                                                                              \n",
       "                                                                              \n",
       "      _________________               ⎞ ⎛                                     \n",
       "     ╱       2  2    2                ⎟ ⎜      2  2                           \n",
       ".0⋅╲╱  \\kappa ⋅c  + f  ⋅(kₓ⋅u + k_y⋅v)⎠⋅⎝\\kappa ⋅c ⋅η + 1.0⋅ⅈ⋅f⋅(kₓ⋅v - k_y⋅u)\n",
       "──────────────────────────────────────────────────────────────────────────────\n",
       "                                ⎛      2  2    2⎞                             \n",
       "                              2⋅⎝\\kappa ⋅c  + f ⎠                             \n",
       "\n",
       "_               ⎞                                                             \n",
       "                ⎟                                                             \n",
       " ⋅(kₓ⋅u + k_y⋅v)⎠                                                      (-η⋅f +\n",
       "─────────────────                                                      ───────\n",
       "                                                                              \n",
       "                                                                              \n",
       "                                                                              \n",
       " 2                                                                            \n",
       "⎞                                            ⎛                                \n",
       "⎟                                            ⎜      2  2                      \n",
       "⎠                                            ⎝\\kappa ⋅c ⋅η + 1.0⋅ⅈ⋅f⋅(kₓ⋅v - k\n",
       "──                                           ─────────────────────────────────\n",
       "                                                                              \n",
       "                                                                              \n",
       "                                                                              \n",
       "                                                                              \n",
       "          _________________               ⎞                                   \n",
       "         ╱       2  2    2                ⎟                                   \n",
       " + 1.0⋅╲╱  \\kappa ⋅c  + f  ⋅(kₓ⋅u + k_y⋅v)⎠                                   \n",
       "───────────────────────────────────────────                                   \n",
       "                                                                              \n",
       "                                                                              \n",
       "\n",
       "                       ⎛                                               _______\n",
       "                       ⎜      2  2                                    ╱       \n",
       " ⅈ⋅kₓ⋅v - 1.0⋅ⅈ⋅k_y⋅u)⋅⎝\\kappa ⋅c ⋅η + 1.0⋅ⅈ⋅f⋅(kₓ⋅v - k_y⋅u) - 1.0⋅╲╱  \\kappa\n",
       "──────────────────────────────────────────────────────────────────────────────\n",
       "                                         ⎛      2  2    2⎞                    \n",
       "                                       2⋅⎝\\kappa ⋅c  + f ⎠                    \n",
       "                                                                              \n",
       "                                                                              \n",
       "               _________________               ⎞ ⎛                            \n",
       "              ╱       2  2    2                ⎟ ⎜      2  2                  \n",
       "_y⋅u) - 1.0⋅╲╱  \\kappa ⋅c  + f  ⋅(kₓ⋅u + k_y⋅v)⎠⋅⎝\\kappa ⋅c ⋅η + 1.0⋅ⅈ⋅f⋅(kₓ⋅v\n",
       "──────────────────────────────────────────────────────────────────────────────\n",
       "                                         ⎛      2  2    2⎞                    \n",
       "                                       2⋅⎝\\kappa ⋅c  + f ⎠                    \n",
       "                                                                              \n",
       "                                                                              \n",
       "       ⎛                                               _________________      \n",
       "       ⎜      2  2                                    ╱       2  2    2       \n",
       "       ⎝\\kappa ⋅c ⋅η + 1.0⋅ⅈ⋅f⋅(kₓ⋅v - k_y⋅u) - 1.0⋅╲╱  \\kappa ⋅c  + f  ⋅(kₓ⋅u\n",
       "       ───────────────────────────────────────────────────────────────────────\n",
       "                                        ⎛      2  2    2⎞                     \n",
       "                                      2⋅⎝\\kappa ⋅c  + f ⎠                     \n",
       "\n",
       "__________               ⎞                          ⎤\n",
       "2  2    2                ⎟                          ⎥\n",
       " ⋅c  + f  ⋅(kₓ⋅u + k_y⋅v)⎠                          ⎥\n",
       "──────────────────────────                          ⎥\n",
       "                                                    ⎥\n",
       "                                                    ⎥\n",
       "                                                    ⎥\n",
       "                                                    ⎥\n",
       "                   _________________               ⎞⎥\n",
       "                  ╱       2  2    2                ⎟⎥\n",
       " - k_y⋅u) + 1.0⋅╲╱  \\kappa ⋅c  + f  ⋅(kₓ⋅u + k_y⋅v)⎠⎥\n",
       "────────────────────────────────────────────────────⎥\n",
       "                                                    ⎥\n",
       "                                                    ⎥\n",
       "                                                    ⎥\n",
       "          2                                         ⎥\n",
       "         ⎞                                          ⎥\n",
       "         ⎟                                          ⎥\n",
       " + k_y⋅v)⎠                                          ⎥\n",
       "───────────                                         ⎥\n",
       "                                                    ⎥\n",
       "                                                    ⎦"
      ]
     },
     "execution_count": 79,
     "metadata": {},
     "output_type": "execute_result"
    }
   ],
   "source": [
    "(N * N.transpose())"
   ]
  },
  {
   "cell_type": "code",
   "execution_count": null,
   "metadata": {
    "collapsed": true
   },
   "outputs": [],
   "source": []
  }
 ],
 "metadata": {
  "kernelspec": {
   "display_name": "Python 2",
   "language": "python2",
   "name": "python2"
  },
  "language_info": {
   "codemirror_mode": {
    "name": "ipython",
    "version": 2
   },
   "file_extension": ".py",
   "mimetype": "text/x-python",
   "name": "python",
   "nbconvert_exporter": "python",
   "pygments_lexer": "ipython2",
   "version": "2.7.13"
  }
 },
 "nbformat": 4,
 "nbformat_minor": 0
}
